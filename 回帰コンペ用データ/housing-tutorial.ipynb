{
 "cells": [
  {
   "cell_type": "code",
   "execution_count": 1,
   "id": "57b9f56f",
   "metadata": {
    "execution": {
     "iopub.execute_input": "2023-11-09T01:33:43.904468Z",
     "iopub.status.busy": "2023-11-09T01:33:43.904076Z",
     "iopub.status.idle": "2023-11-09T01:33:44.334025Z",
     "shell.execute_reply": "2023-11-09T01:33:44.332790Z"
    },
    "papermill": {
     "duration": 0.467666,
     "end_time": "2023-11-09T01:33:44.336979",
     "exception": false,
     "start_time": "2023-11-09T01:33:43.869313",
     "status": "completed"
    },
    "tags": []
   },
   "outputs": [
    {
     "name": "stdout",
     "output_type": "stream",
     "text": [
      "/kaggle/input/california-housing-competitions-technos/sample.csv\n",
      "/kaggle/input/california-housing-competitions-technos/train.csv\n",
      "/kaggle/input/california-housing-competitions-technos/test.csv\n"
     ]
    }
   ],
   "source": [
    "# This Python 3 environment comes with many helpful analytics libraries installed\n",
    "# It is defined by the kaggle/python Docker image: https://github.com/kaggle/docker-python\n",
    "# For example, here's several helpful packages to load\n",
    "\n",
    "import numpy as np # linear algebra\n",
    "import pandas as pd # data processing, CSV file I/O (e.g. pd.read_csv)\n",
    "\n",
    "# Input data files are available in the read-only \"../input/\" directory\n",
    "# For example, running this (by clicking run or pressing Shift+Enter) will list all files under the input directory\n",
    "\n",
    "import os\n",
    "for dirname, _, filenames in os.walk('/kaggle/input'):\n",
    "    for filename in filenames:\n",
    "        print(os.path.join(dirname, filename))\n",
    "\n",
    "# You can write up to 20GB to the current directory (/kaggle/working/) that gets preserved as output when you create a version using \"Save & Run All\" \n",
    "# You can also write temporary files to /kaggle/temp/, but they won't be saved outside of the current session"
   ]
  },
  {
   "cell_type": "markdown",
   "id": "1af172af",
   "metadata": {
    "id": "hT9t449wgHis",
    "papermill": {
     "duration": 0.032674,
     "end_time": "2023-11-09T01:33:44.401560",
     "exception": false,
     "start_time": "2023-11-09T01:33:44.368886",
     "status": "completed"
    },
    "tags": []
   },
   "source": [
    "# モジュールの準備\n"
   ]
  },
  {
   "cell_type": "code",
   "execution_count": 2,
   "id": "f27c871e",
   "metadata": {
    "execution": {
     "iopub.execute_input": "2023-11-09T01:33:44.467553Z",
     "iopub.status.busy": "2023-11-09T01:33:44.466998Z",
     "iopub.status.idle": "2023-11-09T01:33:46.333453Z",
     "shell.execute_reply": "2023-11-09T01:33:46.332228Z"
    },
    "id": "t-A8bWwIZLCP",
    "papermill": {
     "duration": 1.902417,
     "end_time": "2023-11-09T01:33:46.336354",
     "exception": false,
     "start_time": "2023-11-09T01:33:44.433937",
     "status": "completed"
    },
    "tags": []
   },
   "outputs": [],
   "source": [
    "import numpy as np\n",
    "import pandas as pd\n",
    "from matplotlib import pyplot as plt\n",
    "import seaborn as sns\n",
    "\n",
    "# 前処理(正規化・標準化)\n",
    "from sklearn.preprocessing import MinMaxScaler, StandardScaler\n",
    "\n",
    "# データ分割\n",
    "from sklearn.model_selection import train_test_split\n",
    "\n",
    "# 線形モデル\n",
    "from sklearn.linear_model import LinearRegression\n",
    "\n",
    "# グラフをアウトプット行に出力するためのマジックコマンド\n",
    "%matplotlib inline"
   ]
  },
  {
   "cell_type": "markdown",
   "id": "c0b64755",
   "metadata": {
    "id": "ffFP-ES3h3XN",
    "papermill": {
     "duration": 0.031755,
     "end_time": "2023-11-09T01:33:46.400018",
     "exception": false,
     "start_time": "2023-11-09T01:33:46.368263",
     "status": "completed"
    },
    "tags": []
   },
   "source": [
    "# データの準備と前処理\n",
    "- この項目では利用するデータの用意から前処理までを紹介します。\n",
    "- **「データ分析は前処理が8割」**と業界で一般的に言われているほど、前処理は非常に重要な工程です。  \n",
    "AIモデルの精度は、この段階で大きく左右されるため、ここでしっかりと前処理について学習しましょう！\n",
    "- 参考URL：https://xtech.nikkei.com/atcl/learning/lecture/19/00110/00001/?P=3\n"
   ]
  },
  {
   "cell_type": "markdown",
   "id": "570069f1",
   "metadata": {
    "id": "CQ3pGeLgyP5A",
    "papermill": {
     "duration": 0.031348,
     "end_time": "2023-11-09T01:33:46.462990",
     "exception": false,
     "start_time": "2023-11-09T01:33:46.431642",
     "status": "completed"
    },
    "tags": []
   },
   "source": [
    "## データセットの読み込み(構造化データ)\n",
    "- 基本的にあらかじめ用意したcsv,tsvファイルなどをpandasのread_csv関数で読み込んだりします\n",
    "- 今回はkaggleに登録しているカルフォルニア住宅価格データセットを読み込みます"
   ]
  },
  {
   "cell_type": "code",
   "execution_count": 3,
   "id": "9d70c0c3",
   "metadata": {
    "execution": {
     "iopub.execute_input": "2023-11-09T01:33:46.594959Z",
     "iopub.status.busy": "2023-11-09T01:33:46.594057Z",
     "iopub.status.idle": "2023-11-09T01:33:46.709022Z",
     "shell.execute_reply": "2023-11-09T01:33:46.707949Z"
    },
    "papermill": {
     "duration": 0.151843,
     "end_time": "2023-11-09T01:33:46.711805",
     "exception": false,
     "start_time": "2023-11-09T01:33:46.559962",
     "status": "completed"
    },
    "tags": []
   },
   "outputs": [],
   "source": [
    "train = pd.read_csv('/kaggle/input/california-housing-competitions-technos/train.csv')\n",
    "test = pd.read_csv('/kaggle/input/california-housing-competitions-technos/test.csv')\n",
    "sample = pd.read_csv('/kaggle/input/california-housing-competitions-technos/sample.csv')"
   ]
  },
  {
   "cell_type": "markdown",
   "id": "e5c11121",
   "metadata": {
    "id": "cwF16bQLRjI2",
    "papermill": {
     "duration": 0.031365,
     "end_time": "2023-11-09T01:33:46.774973",
     "exception": false,
     "start_time": "2023-11-09T01:33:46.743608",
     "status": "completed"
    },
    "tags": []
   },
   "source": [
    "### 今回利用するデータ\n",
    "- 今回使うデータセットのカラムは以下になります。\n",
    "\n",
    "|カラム名|意味|\n",
    "|-|-|\n",
    "|MedInc|ブロックの所得中央値|\n",
    "|HouseAge|ブロックの家屋年齢の中央値|\n",
    "|AveRooms|1世帯当たりの平均居室数|\n",
    "|AveBedrms|1世帯当たりの平均寝室数|\n",
    "|Population|ブロックの人口|\n",
    "|AveOccup|平均世帯人口|\n",
    "|Latitude|緯度|\n",
    "|Longitude|経度|\n",
    "|**Price**|住宅価格(目的変数)|"
   ]
  },
  {
   "cell_type": "markdown",
   "id": "d4e32ca4",
   "metadata": {
    "papermill": {
     "duration": 0.031277,
     "end_time": "2023-11-09T01:33:46.838418",
     "exception": false,
     "start_time": "2023-11-09T01:33:46.807141",
     "status": "completed"
    },
    "tags": []
   },
   "source": [
    "### データの説明\n",
    "\n",
    "- 1990年の米国国勢調査から得られたデータ\n",
    "- 一定のエリア(ブロックグループ)で集計されている(1ブロックグループ辺り大体600人から3000人)\n",
    "- レコード数は20640で欠損値はなし\n",
    "- 目的変数はカルフォルニア州の住宅価格の中央値で10万ドル単位で表示している\n",
    "  - 例) 4.3 → 43万ドル"
   ]
  },
  {
   "cell_type": "code",
   "execution_count": 4,
   "id": "e792bf61",
   "metadata": {
    "execution": {
     "iopub.execute_input": "2023-11-09T01:33:46.904096Z",
     "iopub.status.busy": "2023-11-09T01:33:46.903133Z",
     "iopub.status.idle": "2023-11-09T01:33:46.936369Z",
     "shell.execute_reply": "2023-11-09T01:33:46.935297Z"
    },
    "id": "grInQu8X3jJW",
    "outputId": "d21eb1b6-8bae-4301-8b84-9d8ea61e40a8",
    "papermill": {
     "duration": 0.069345,
     "end_time": "2023-11-09T01:33:46.939211",
     "exception": false,
     "start_time": "2023-11-09T01:33:46.869866",
     "status": "completed"
    },
    "tags": []
   },
   "outputs": [
    {
     "data": {
      "text/html": [
       "<div>\n",
       "<style scoped>\n",
       "    .dataframe tbody tr th:only-of-type {\n",
       "        vertical-align: middle;\n",
       "    }\n",
       "\n",
       "    .dataframe tbody tr th {\n",
       "        vertical-align: top;\n",
       "    }\n",
       "\n",
       "    .dataframe thead th {\n",
       "        text-align: right;\n",
       "    }\n",
       "</style>\n",
       "<table border=\"1\" class=\"dataframe\">\n",
       "  <thead>\n",
       "    <tr style=\"text-align: right;\">\n",
       "      <th></th>\n",
       "      <th>id</th>\n",
       "      <th>MedInc</th>\n",
       "      <th>HouseAge</th>\n",
       "      <th>AveRooms</th>\n",
       "      <th>AveBedrms</th>\n",
       "      <th>Population</th>\n",
       "      <th>AveOccup</th>\n",
       "      <th>Latitude</th>\n",
       "      <th>Longitude</th>\n",
       "      <th>Household</th>\n",
       "      <th>AllRooms</th>\n",
       "      <th>AllBedrms</th>\n",
       "      <th>Price</th>\n",
       "    </tr>\n",
       "  </thead>\n",
       "  <tbody>\n",
       "    <tr>\n",
       "      <th>0</th>\n",
       "      <td>0</td>\n",
       "      <td>1.4817</td>\n",
       "      <td>6.0</td>\n",
       "      <td>4.443645</td>\n",
       "      <td>1.134293</td>\n",
       "      <td>1397.0</td>\n",
       "      <td>3.350120</td>\n",
       "      <td>36.77</td>\n",
       "      <td>-119.84</td>\n",
       "      <td>417.0</td>\n",
       "      <td>1853.0</td>\n",
       "      <td>473.0</td>\n",
       "      <td>0.720</td>\n",
       "    </tr>\n",
       "    <tr>\n",
       "      <th>1</th>\n",
       "      <td>1</td>\n",
       "      <td>6.9133</td>\n",
       "      <td>8.0</td>\n",
       "      <td>5.976471</td>\n",
       "      <td>1.026471</td>\n",
       "      <td>862.0</td>\n",
       "      <td>2.535294</td>\n",
       "      <td>33.68</td>\n",
       "      <td>-117.80</td>\n",
       "      <td>340.0</td>\n",
       "      <td>2032.0</td>\n",
       "      <td>349.0</td>\n",
       "      <td>2.741</td>\n",
       "    </tr>\n",
       "    <tr>\n",
       "      <th>2</th>\n",
       "      <td>2</td>\n",
       "      <td>1.5536</td>\n",
       "      <td>25.0</td>\n",
       "      <td>4.088785</td>\n",
       "      <td>1.000000</td>\n",
       "      <td>931.0</td>\n",
       "      <td>4.350467</td>\n",
       "      <td>36.60</td>\n",
       "      <td>-120.19</td>\n",
       "      <td>214.0</td>\n",
       "      <td>875.0</td>\n",
       "      <td>214.0</td>\n",
       "      <td>0.583</td>\n",
       "    </tr>\n",
       "    <tr>\n",
       "      <th>3</th>\n",
       "      <td>3</td>\n",
       "      <td>1.5284</td>\n",
       "      <td>31.0</td>\n",
       "      <td>2.740088</td>\n",
       "      <td>1.008811</td>\n",
       "      <td>597.0</td>\n",
       "      <td>2.629956</td>\n",
       "      <td>34.10</td>\n",
       "      <td>-118.32</td>\n",
       "      <td>227.0</td>\n",
       "      <td>622.0</td>\n",
       "      <td>229.0</td>\n",
       "      <td>2.000</td>\n",
       "    </tr>\n",
       "    <tr>\n",
       "      <th>4</th>\n",
       "      <td>4</td>\n",
       "      <td>4.0815</td>\n",
       "      <td>21.0</td>\n",
       "      <td>5.166667</td>\n",
       "      <td>1.002688</td>\n",
       "      <td>1130.0</td>\n",
       "      <td>3.037634</td>\n",
       "      <td>37.79</td>\n",
       "      <td>-121.23</td>\n",
       "      <td>372.0</td>\n",
       "      <td>1922.0</td>\n",
       "      <td>373.0</td>\n",
       "      <td>1.179</td>\n",
       "    </tr>\n",
       "  </tbody>\n",
       "</table>\n",
       "</div>"
      ],
      "text/plain": [
       "   id  MedInc  HouseAge  AveRooms  AveBedrms  Population  AveOccup  Latitude  \\\n",
       "0   0  1.4817       6.0  4.443645   1.134293      1397.0  3.350120     36.77   \n",
       "1   1  6.9133       8.0  5.976471   1.026471       862.0  2.535294     33.68   \n",
       "2   2  1.5536      25.0  4.088785   1.000000       931.0  4.350467     36.60   \n",
       "3   3  1.5284      31.0  2.740088   1.008811       597.0  2.629956     34.10   \n",
       "4   4  4.0815      21.0  5.166667   1.002688      1130.0  3.037634     37.79   \n",
       "\n",
       "   Longitude  Household  AllRooms  AllBedrms  Price  \n",
       "0    -119.84      417.0    1853.0      473.0  0.720  \n",
       "1    -117.80      340.0    2032.0      349.0  2.741  \n",
       "2    -120.19      214.0     875.0      214.0  0.583  \n",
       "3    -118.32      227.0     622.0      229.0  2.000  \n",
       "4    -121.23      372.0    1922.0      373.0  1.179  "
      ]
     },
     "execution_count": 4,
     "metadata": {},
     "output_type": "execute_result"
    }
   ],
   "source": [
    "# データの表示\n",
    "train.head()"
   ]
  },
  {
   "cell_type": "code",
   "execution_count": 5,
   "id": "f340c9d2",
   "metadata": {
    "execution": {
     "iopub.execute_input": "2023-11-09T01:33:47.004852Z",
     "iopub.status.busy": "2023-11-09T01:33:47.004438Z",
     "iopub.status.idle": "2023-11-09T01:33:47.025839Z",
     "shell.execute_reply": "2023-11-09T01:33:47.024810Z"
    },
    "papermill": {
     "duration": 0.057073,
     "end_time": "2023-11-09T01:33:47.028196",
     "exception": false,
     "start_time": "2023-11-09T01:33:46.971123",
     "status": "completed"
    },
    "tags": []
   },
   "outputs": [
    {
     "data": {
      "text/html": [
       "<div>\n",
       "<style scoped>\n",
       "    .dataframe tbody tr th:only-of-type {\n",
       "        vertical-align: middle;\n",
       "    }\n",
       "\n",
       "    .dataframe tbody tr th {\n",
       "        vertical-align: top;\n",
       "    }\n",
       "\n",
       "    .dataframe thead th {\n",
       "        text-align: right;\n",
       "    }\n",
       "</style>\n",
       "<table border=\"1\" class=\"dataframe\">\n",
       "  <thead>\n",
       "    <tr style=\"text-align: right;\">\n",
       "      <th></th>\n",
       "      <th>id</th>\n",
       "      <th>MedInc</th>\n",
       "      <th>HouseAge</th>\n",
       "      <th>AveRooms</th>\n",
       "      <th>AveBedrms</th>\n",
       "      <th>Population</th>\n",
       "      <th>AveOccup</th>\n",
       "      <th>Latitude</th>\n",
       "      <th>Longitude</th>\n",
       "      <th>Household</th>\n",
       "      <th>AllRooms</th>\n",
       "      <th>AllBedrms</th>\n",
       "    </tr>\n",
       "  </thead>\n",
       "  <tbody>\n",
       "    <tr>\n",
       "      <th>0</th>\n",
       "      <td>0</td>\n",
       "      <td>6.4114</td>\n",
       "      <td>15.0</td>\n",
       "      <td>7.527559</td>\n",
       "      <td>1.049869</td>\n",
       "      <td>2529.0</td>\n",
       "      <td>3.318898</td>\n",
       "      <td>33.60</td>\n",
       "      <td>-117.65</td>\n",
       "      <td>762.0</td>\n",
       "      <td>5736.0</td>\n",
       "      <td>800.0</td>\n",
       "    </tr>\n",
       "    <tr>\n",
       "      <th>1</th>\n",
       "      <td>1</td>\n",
       "      <td>4.1843</td>\n",
       "      <td>12.0</td>\n",
       "      <td>6.330084</td>\n",
       "      <td>1.041783</td>\n",
       "      <td>2033.0</td>\n",
       "      <td>2.831476</td>\n",
       "      <td>38.62</td>\n",
       "      <td>-120.91</td>\n",
       "      <td>718.0</td>\n",
       "      <td>4545.0</td>\n",
       "      <td>748.0</td>\n",
       "    </tr>\n",
       "    <tr>\n",
       "      <th>2</th>\n",
       "      <td>2</td>\n",
       "      <td>1.7411</td>\n",
       "      <td>35.0</td>\n",
       "      <td>5.369159</td>\n",
       "      <td>1.294393</td>\n",
       "      <td>909.0</td>\n",
       "      <td>4.247664</td>\n",
       "      <td>33.93</td>\n",
       "      <td>-118.23</td>\n",
       "      <td>214.0</td>\n",
       "      <td>1149.0</td>\n",
       "      <td>277.0</td>\n",
       "    </tr>\n",
       "    <tr>\n",
       "      <th>3</th>\n",
       "      <td>3</td>\n",
       "      <td>3.4412</td>\n",
       "      <td>39.0</td>\n",
       "      <td>4.173405</td>\n",
       "      <td>1.074573</td>\n",
       "      <td>2156.0</td>\n",
       "      <td>1.937107</td>\n",
       "      <td>37.59</td>\n",
       "      <td>-122.37</td>\n",
       "      <td>1113.0</td>\n",
       "      <td>4645.0</td>\n",
       "      <td>1196.0</td>\n",
       "    </tr>\n",
       "    <tr>\n",
       "      <th>4</th>\n",
       "      <td>4</td>\n",
       "      <td>7.8195</td>\n",
       "      <td>16.0</td>\n",
       "      <td>8.602349</td>\n",
       "      <td>1.058725</td>\n",
       "      <td>2142.0</td>\n",
       "      <td>3.593960</td>\n",
       "      <td>33.70</td>\n",
       "      <td>-117.98</td>\n",
       "      <td>596.0</td>\n",
       "      <td>5127.0</td>\n",
       "      <td>631.0</td>\n",
       "    </tr>\n",
       "  </tbody>\n",
       "</table>\n",
       "</div>"
      ],
      "text/plain": [
       "   id  MedInc  HouseAge  AveRooms  AveBedrms  Population  AveOccup  Latitude  \\\n",
       "0   0  6.4114      15.0  7.527559   1.049869      2529.0  3.318898     33.60   \n",
       "1   1  4.1843      12.0  6.330084   1.041783      2033.0  2.831476     38.62   \n",
       "2   2  1.7411      35.0  5.369159   1.294393       909.0  4.247664     33.93   \n",
       "3   3  3.4412      39.0  4.173405   1.074573      2156.0  1.937107     37.59   \n",
       "4   4  7.8195      16.0  8.602349   1.058725      2142.0  3.593960     33.70   \n",
       "\n",
       "   Longitude  Household  AllRooms  AllBedrms  \n",
       "0    -117.65      762.0    5736.0      800.0  \n",
       "1    -120.91      718.0    4545.0      748.0  \n",
       "2    -118.23      214.0    1149.0      277.0  \n",
       "3    -122.37     1113.0    4645.0     1196.0  \n",
       "4    -117.98      596.0    5127.0      631.0  "
      ]
     },
     "execution_count": 5,
     "metadata": {},
     "output_type": "execute_result"
    }
   ],
   "source": [
    "test.head()"
   ]
  },
  {
   "cell_type": "code",
   "execution_count": 6,
   "id": "de62ebf1",
   "metadata": {
    "execution": {
     "iopub.execute_input": "2023-11-09T01:33:47.094172Z",
     "iopub.status.busy": "2023-11-09T01:33:47.093752Z",
     "iopub.status.idle": "2023-11-09T01:33:47.103665Z",
     "shell.execute_reply": "2023-11-09T01:33:47.102545Z"
    },
    "papermill": {
     "duration": 0.046014,
     "end_time": "2023-11-09T01:33:47.106118",
     "exception": false,
     "start_time": "2023-11-09T01:33:47.060104",
     "status": "completed"
    },
    "tags": []
   },
   "outputs": [
    {
     "data": {
      "text/html": [
       "<div>\n",
       "<style scoped>\n",
       "    .dataframe tbody tr th:only-of-type {\n",
       "        vertical-align: middle;\n",
       "    }\n",
       "\n",
       "    .dataframe tbody tr th {\n",
       "        vertical-align: top;\n",
       "    }\n",
       "\n",
       "    .dataframe thead th {\n",
       "        text-align: right;\n",
       "    }\n",
       "</style>\n",
       "<table border=\"1\" class=\"dataframe\">\n",
       "  <thead>\n",
       "    <tr style=\"text-align: right;\">\n",
       "      <th></th>\n",
       "      <th>id</th>\n",
       "      <th>Price</th>\n",
       "    </tr>\n",
       "  </thead>\n",
       "  <tbody>\n",
       "    <tr>\n",
       "      <th>0</th>\n",
       "      <td>0</td>\n",
       "      <td>0</td>\n",
       "    </tr>\n",
       "    <tr>\n",
       "      <th>1</th>\n",
       "      <td>1</td>\n",
       "      <td>0</td>\n",
       "    </tr>\n",
       "    <tr>\n",
       "      <th>2</th>\n",
       "      <td>2</td>\n",
       "      <td>0</td>\n",
       "    </tr>\n",
       "    <tr>\n",
       "      <th>3</th>\n",
       "      <td>3</td>\n",
       "      <td>0</td>\n",
       "    </tr>\n",
       "    <tr>\n",
       "      <th>4</th>\n",
       "      <td>4</td>\n",
       "      <td>0</td>\n",
       "    </tr>\n",
       "  </tbody>\n",
       "</table>\n",
       "</div>"
      ],
      "text/plain": [
       "   id  Price\n",
       "0   0      0\n",
       "1   1      0\n",
       "2   2      0\n",
       "3   3      0\n",
       "4   4      0"
      ]
     },
     "execution_count": 6,
     "metadata": {},
     "output_type": "execute_result"
    }
   ],
   "source": [
    "sample.head()"
   ]
  },
  {
   "cell_type": "markdown",
   "id": "24c9ae08",
   "metadata": {
    "id": "XcEpRbibURcM",
    "papermill": {
     "duration": 0.032067,
     "end_time": "2023-11-09T01:33:47.170668",
     "exception": false,
     "start_time": "2023-11-09T01:33:47.138601",
     "status": "completed"
    },
    "tags": []
   },
   "source": [
    "### データの中身を確認(探索的データ解析：EDA)\n",
    "- より良い機械学習モデルを構築する際には、特徴量エンジニアリング(Feature Engineering)を必要することが多々あり、その際に深いデータの知識と理解が求められます。(例 月曜には特定の商品売上が上がる→曜日と商品を条件にフラグ化する)  \n",
    "どのようなデータセットを扱っているのか、データの傾向がどのようになっているかなどを事前によく理解しておく必要があり、「探索的データ解析（EDA）」はまさしくそれを目的とした作業となります。  \n",
    "EDAには様々な手法がありますが、テーブルデータの場合、最低限以下は確認しておくことをオススメします。  \n",
    "\n",
    "\n",
    "**①生データ**  \n",
    "**②行数、列数、列名**  \n",
    "**③データの型と欠損値**  \n",
    "**④基本統計量**  \n",
    "**⑤目的変数と説明変数間との相関係数**  \n",
    "**⑥変数の分布**  \n",
    "\n",
    "ここから実際にpythonのコードでEDAをしていきます。"
   ]
  },
  {
   "cell_type": "code",
   "execution_count": 7,
   "id": "cfe580de",
   "metadata": {
    "execution": {
     "iopub.execute_input": "2023-11-09T01:33:47.237467Z",
     "iopub.status.busy": "2023-11-09T01:33:47.237054Z",
     "iopub.status.idle": "2023-11-09T01:33:47.265198Z",
     "shell.execute_reply": "2023-11-09T01:33:47.264319Z"
    },
    "id": "vnF7bnRB3kbY",
    "outputId": "4cd65034-695a-45ff-eda7-c27cf30e89e6",
    "papermill": {
     "duration": 0.064398,
     "end_time": "2023-11-09T01:33:47.267416",
     "exception": false,
     "start_time": "2023-11-09T01:33:47.203018",
     "status": "completed"
    },
    "tags": []
   },
   "outputs": [
    {
     "data": {
      "text/html": [
       "<div>\n",
       "<style scoped>\n",
       "    .dataframe tbody tr th:only-of-type {\n",
       "        vertical-align: middle;\n",
       "    }\n",
       "\n",
       "    .dataframe tbody tr th {\n",
       "        vertical-align: top;\n",
       "    }\n",
       "\n",
       "    .dataframe thead th {\n",
       "        text-align: right;\n",
       "    }\n",
       "</style>\n",
       "<table border=\"1\" class=\"dataframe\">\n",
       "  <thead>\n",
       "    <tr style=\"text-align: right;\">\n",
       "      <th></th>\n",
       "      <th>id</th>\n",
       "      <th>MedInc</th>\n",
       "      <th>HouseAge</th>\n",
       "      <th>AveRooms</th>\n",
       "      <th>AveBedrms</th>\n",
       "      <th>Population</th>\n",
       "      <th>AveOccup</th>\n",
       "      <th>Latitude</th>\n",
       "      <th>Longitude</th>\n",
       "      <th>Household</th>\n",
       "      <th>AllRooms</th>\n",
       "      <th>AllBedrms</th>\n",
       "      <th>Price</th>\n",
       "    </tr>\n",
       "  </thead>\n",
       "  <tbody>\n",
       "    <tr>\n",
       "      <th>0</th>\n",
       "      <td>0</td>\n",
       "      <td>1.4817</td>\n",
       "      <td>6.0</td>\n",
       "      <td>4.443645</td>\n",
       "      <td>1.134293</td>\n",
       "      <td>1397.0</td>\n",
       "      <td>3.350120</td>\n",
       "      <td>36.77</td>\n",
       "      <td>-119.84</td>\n",
       "      <td>417.0</td>\n",
       "      <td>1853.0</td>\n",
       "      <td>473.0</td>\n",
       "      <td>0.72000</td>\n",
       "    </tr>\n",
       "    <tr>\n",
       "      <th>1</th>\n",
       "      <td>1</td>\n",
       "      <td>6.9133</td>\n",
       "      <td>8.0</td>\n",
       "      <td>5.976471</td>\n",
       "      <td>1.026471</td>\n",
       "      <td>862.0</td>\n",
       "      <td>2.535294</td>\n",
       "      <td>33.68</td>\n",
       "      <td>-117.80</td>\n",
       "      <td>340.0</td>\n",
       "      <td>2032.0</td>\n",
       "      <td>349.0</td>\n",
       "      <td>2.74100</td>\n",
       "    </tr>\n",
       "    <tr>\n",
       "      <th>2</th>\n",
       "      <td>2</td>\n",
       "      <td>1.5536</td>\n",
       "      <td>25.0</td>\n",
       "      <td>4.088785</td>\n",
       "      <td>1.000000</td>\n",
       "      <td>931.0</td>\n",
       "      <td>4.350467</td>\n",
       "      <td>36.60</td>\n",
       "      <td>-120.19</td>\n",
       "      <td>214.0</td>\n",
       "      <td>875.0</td>\n",
       "      <td>214.0</td>\n",
       "      <td>0.58300</td>\n",
       "    </tr>\n",
       "    <tr>\n",
       "      <th>3</th>\n",
       "      <td>3</td>\n",
       "      <td>1.5284</td>\n",
       "      <td>31.0</td>\n",
       "      <td>2.740088</td>\n",
       "      <td>1.008811</td>\n",
       "      <td>597.0</td>\n",
       "      <td>2.629956</td>\n",
       "      <td>34.10</td>\n",
       "      <td>-118.32</td>\n",
       "      <td>227.0</td>\n",
       "      <td>622.0</td>\n",
       "      <td>229.0</td>\n",
       "      <td>2.00000</td>\n",
       "    </tr>\n",
       "    <tr>\n",
       "      <th>4</th>\n",
       "      <td>4</td>\n",
       "      <td>4.0815</td>\n",
       "      <td>21.0</td>\n",
       "      <td>5.166667</td>\n",
       "      <td>1.002688</td>\n",
       "      <td>1130.0</td>\n",
       "      <td>3.037634</td>\n",
       "      <td>37.79</td>\n",
       "      <td>-121.23</td>\n",
       "      <td>372.0</td>\n",
       "      <td>1922.0</td>\n",
       "      <td>373.0</td>\n",
       "      <td>1.17900</td>\n",
       "    </tr>\n",
       "    <tr>\n",
       "      <th>5</th>\n",
       "      <td>5</td>\n",
       "      <td>4.1477</td>\n",
       "      <td>32.0</td>\n",
       "      <td>4.879098</td>\n",
       "      <td>0.956967</td>\n",
       "      <td>1264.0</td>\n",
       "      <td>2.590164</td>\n",
       "      <td>33.79</td>\n",
       "      <td>-118.32</td>\n",
       "      <td>488.0</td>\n",
       "      <td>2381.0</td>\n",
       "      <td>467.0</td>\n",
       "      <td>3.15100</td>\n",
       "    </tr>\n",
       "    <tr>\n",
       "      <th>6</th>\n",
       "      <td>6</td>\n",
       "      <td>4.7009</td>\n",
       "      <td>31.0</td>\n",
       "      <td>5.011905</td>\n",
       "      <td>1.047619</td>\n",
       "      <td>1046.0</td>\n",
       "      <td>2.075397</td>\n",
       "      <td>34.01</td>\n",
       "      <td>-118.43</td>\n",
       "      <td>504.0</td>\n",
       "      <td>2526.0</td>\n",
       "      <td>528.0</td>\n",
       "      <td>5.00001</td>\n",
       "    </tr>\n",
       "    <tr>\n",
       "      <th>7</th>\n",
       "      <td>7</td>\n",
       "      <td>4.1325</td>\n",
       "      <td>32.0</td>\n",
       "      <td>5.439619</td>\n",
       "      <td>1.085805</td>\n",
       "      <td>2152.0</td>\n",
       "      <td>2.279661</td>\n",
       "      <td>32.64</td>\n",
       "      <td>-117.07</td>\n",
       "      <td>944.0</td>\n",
       "      <td>5135.0</td>\n",
       "      <td>1025.0</td>\n",
       "      <td>1.72800</td>\n",
       "    </tr>\n",
       "    <tr>\n",
       "      <th>8</th>\n",
       "      <td>8</td>\n",
       "      <td>4.2011</td>\n",
       "      <td>9.0</td>\n",
       "      <td>6.045161</td>\n",
       "      <td>1.038710</td>\n",
       "      <td>1955.0</td>\n",
       "      <td>3.153226</td>\n",
       "      <td>36.22</td>\n",
       "      <td>-119.33</td>\n",
       "      <td>620.0</td>\n",
       "      <td>3748.0</td>\n",
       "      <td>644.0</td>\n",
       "      <td>1.08100</td>\n",
       "    </tr>\n",
       "    <tr>\n",
       "      <th>9</th>\n",
       "      <td>9</td>\n",
       "      <td>4.8750</td>\n",
       "      <td>18.0</td>\n",
       "      <td>6.028871</td>\n",
       "      <td>1.091864</td>\n",
       "      <td>1086.0</td>\n",
       "      <td>2.850394</td>\n",
       "      <td>37.50</td>\n",
       "      <td>-122.47</td>\n",
       "      <td>381.0</td>\n",
       "      <td>2297.0</td>\n",
       "      <td>416.0</td>\n",
       "      <td>3.34600</td>\n",
       "    </tr>\n",
       "  </tbody>\n",
       "</table>\n",
       "</div>"
      ],
      "text/plain": [
       "   id  MedInc  HouseAge  AveRooms  AveBedrms  Population  AveOccup  Latitude  \\\n",
       "0   0  1.4817       6.0  4.443645   1.134293      1397.0  3.350120     36.77   \n",
       "1   1  6.9133       8.0  5.976471   1.026471       862.0  2.535294     33.68   \n",
       "2   2  1.5536      25.0  4.088785   1.000000       931.0  4.350467     36.60   \n",
       "3   3  1.5284      31.0  2.740088   1.008811       597.0  2.629956     34.10   \n",
       "4   4  4.0815      21.0  5.166667   1.002688      1130.0  3.037634     37.79   \n",
       "5   5  4.1477      32.0  4.879098   0.956967      1264.0  2.590164     33.79   \n",
       "6   6  4.7009      31.0  5.011905   1.047619      1046.0  2.075397     34.01   \n",
       "7   7  4.1325      32.0  5.439619   1.085805      2152.0  2.279661     32.64   \n",
       "8   8  4.2011       9.0  6.045161   1.038710      1955.0  3.153226     36.22   \n",
       "9   9  4.8750      18.0  6.028871   1.091864      1086.0  2.850394     37.50   \n",
       "\n",
       "   Longitude  Household  AllRooms  AllBedrms    Price  \n",
       "0    -119.84      417.0    1853.0      473.0  0.72000  \n",
       "1    -117.80      340.0    2032.0      349.0  2.74100  \n",
       "2    -120.19      214.0     875.0      214.0  0.58300  \n",
       "3    -118.32      227.0     622.0      229.0  2.00000  \n",
       "4    -121.23      372.0    1922.0      373.0  1.17900  \n",
       "5    -118.32      488.0    2381.0      467.0  3.15100  \n",
       "6    -118.43      504.0    2526.0      528.0  5.00001  \n",
       "7    -117.07      944.0    5135.0     1025.0  1.72800  \n",
       "8    -119.33      620.0    3748.0      644.0  1.08100  \n",
       "9    -122.47      381.0    2297.0      416.0  3.34600  "
      ]
     },
     "execution_count": 7,
     "metadata": {},
     "output_type": "execute_result"
    }
   ],
   "source": [
    "# ①生データ(先頭10行を表示　末尾のデータを表示する場合はtail()を使います)\n",
    "\n",
    "train.head(10)"
   ]
  },
  {
   "cell_type": "code",
   "execution_count": 8,
   "id": "5bf3a996",
   "metadata": {
    "execution": {
     "iopub.execute_input": "2023-11-09T01:33:47.335467Z",
     "iopub.status.busy": "2023-11-09T01:33:47.334829Z",
     "iopub.status.idle": "2023-11-09T01:33:47.355027Z",
     "shell.execute_reply": "2023-11-09T01:33:47.354140Z"
    },
    "papermill": {
     "duration": 0.056694,
     "end_time": "2023-11-09T01:33:47.357275",
     "exception": false,
     "start_time": "2023-11-09T01:33:47.300581",
     "status": "completed"
    },
    "tags": []
   },
   "outputs": [
    {
     "data": {
      "text/html": [
       "<div>\n",
       "<style scoped>\n",
       "    .dataframe tbody tr th:only-of-type {\n",
       "        vertical-align: middle;\n",
       "    }\n",
       "\n",
       "    .dataframe tbody tr th {\n",
       "        vertical-align: top;\n",
       "    }\n",
       "\n",
       "    .dataframe thead th {\n",
       "        text-align: right;\n",
       "    }\n",
       "</style>\n",
       "<table border=\"1\" class=\"dataframe\">\n",
       "  <thead>\n",
       "    <tr style=\"text-align: right;\">\n",
       "      <th></th>\n",
       "      <th>id</th>\n",
       "      <th>MedInc</th>\n",
       "      <th>HouseAge</th>\n",
       "      <th>AveRooms</th>\n",
       "      <th>AveBedrms</th>\n",
       "      <th>Population</th>\n",
       "      <th>AveOccup</th>\n",
       "      <th>Latitude</th>\n",
       "      <th>Longitude</th>\n",
       "      <th>Household</th>\n",
       "      <th>AllRooms</th>\n",
       "      <th>AllBedrms</th>\n",
       "    </tr>\n",
       "  </thead>\n",
       "  <tbody>\n",
       "    <tr>\n",
       "      <th>0</th>\n",
       "      <td>0</td>\n",
       "      <td>6.4114</td>\n",
       "      <td>15.0</td>\n",
       "      <td>7.527559</td>\n",
       "      <td>1.049869</td>\n",
       "      <td>2529.0</td>\n",
       "      <td>3.318898</td>\n",
       "      <td>33.60</td>\n",
       "      <td>-117.65</td>\n",
       "      <td>762.0</td>\n",
       "      <td>5736.0</td>\n",
       "      <td>800.0</td>\n",
       "    </tr>\n",
       "    <tr>\n",
       "      <th>1</th>\n",
       "      <td>1</td>\n",
       "      <td>4.1843</td>\n",
       "      <td>12.0</td>\n",
       "      <td>6.330084</td>\n",
       "      <td>1.041783</td>\n",
       "      <td>2033.0</td>\n",
       "      <td>2.831476</td>\n",
       "      <td>38.62</td>\n",
       "      <td>-120.91</td>\n",
       "      <td>718.0</td>\n",
       "      <td>4545.0</td>\n",
       "      <td>748.0</td>\n",
       "    </tr>\n",
       "    <tr>\n",
       "      <th>2</th>\n",
       "      <td>2</td>\n",
       "      <td>1.7411</td>\n",
       "      <td>35.0</td>\n",
       "      <td>5.369159</td>\n",
       "      <td>1.294393</td>\n",
       "      <td>909.0</td>\n",
       "      <td>4.247664</td>\n",
       "      <td>33.93</td>\n",
       "      <td>-118.23</td>\n",
       "      <td>214.0</td>\n",
       "      <td>1149.0</td>\n",
       "      <td>277.0</td>\n",
       "    </tr>\n",
       "    <tr>\n",
       "      <th>3</th>\n",
       "      <td>3</td>\n",
       "      <td>3.4412</td>\n",
       "      <td>39.0</td>\n",
       "      <td>4.173405</td>\n",
       "      <td>1.074573</td>\n",
       "      <td>2156.0</td>\n",
       "      <td>1.937107</td>\n",
       "      <td>37.59</td>\n",
       "      <td>-122.37</td>\n",
       "      <td>1113.0</td>\n",
       "      <td>4645.0</td>\n",
       "      <td>1196.0</td>\n",
       "    </tr>\n",
       "    <tr>\n",
       "      <th>4</th>\n",
       "      <td>4</td>\n",
       "      <td>7.8195</td>\n",
       "      <td>16.0</td>\n",
       "      <td>8.602349</td>\n",
       "      <td>1.058725</td>\n",
       "      <td>2142.0</td>\n",
       "      <td>3.593960</td>\n",
       "      <td>33.70</td>\n",
       "      <td>-117.98</td>\n",
       "      <td>596.0</td>\n",
       "      <td>5127.0</td>\n",
       "      <td>631.0</td>\n",
       "    </tr>\n",
       "  </tbody>\n",
       "</table>\n",
       "</div>"
      ],
      "text/plain": [
       "   id  MedInc  HouseAge  AveRooms  AveBedrms  Population  AveOccup  Latitude  \\\n",
       "0   0  6.4114      15.0  7.527559   1.049869      2529.0  3.318898     33.60   \n",
       "1   1  4.1843      12.0  6.330084   1.041783      2033.0  2.831476     38.62   \n",
       "2   2  1.7411      35.0  5.369159   1.294393       909.0  4.247664     33.93   \n",
       "3   3  3.4412      39.0  4.173405   1.074573      2156.0  1.937107     37.59   \n",
       "4   4  7.8195      16.0  8.602349   1.058725      2142.0  3.593960     33.70   \n",
       "\n",
       "   Longitude  Household  AllRooms  AllBedrms  \n",
       "0    -117.65      762.0    5736.0      800.0  \n",
       "1    -120.91      718.0    4545.0      748.0  \n",
       "2    -118.23      214.0    1149.0      277.0  \n",
       "3    -122.37     1113.0    4645.0     1196.0  \n",
       "4    -117.98      596.0    5127.0      631.0  "
      ]
     },
     "execution_count": 8,
     "metadata": {},
     "output_type": "execute_result"
    }
   ],
   "source": [
    "test.head()"
   ]
  },
  {
   "cell_type": "code",
   "execution_count": 9,
   "id": "0965c52d",
   "metadata": {
    "execution": {
     "iopub.execute_input": "2023-11-09T01:33:47.426590Z",
     "iopub.status.busy": "2023-11-09T01:33:47.426212Z",
     "iopub.status.idle": "2023-11-09T01:33:47.432085Z",
     "shell.execute_reply": "2023-11-09T01:33:47.431305Z"
    },
    "id": "5gEIE4GeQmbW",
    "outputId": "c596172a-8707-42b6-c6b1-00d20f1b28a4",
    "papermill": {
     "duration": 0.04355,
     "end_time": "2023-11-09T01:33:47.434473",
     "exception": false,
     "start_time": "2023-11-09T01:33:47.390923",
     "status": "completed"
    },
    "tags": []
   },
   "outputs": [
    {
     "name": "stdout",
     "output_type": "stream",
     "text": [
      "行数・列数の表示\n",
      " (16512, 13)\n",
      "----------------------------------------------------------------------------------------------------\n",
      "列名の表示\n",
      " Index(['id', 'MedInc', 'HouseAge', 'AveRooms', 'AveBedrms', 'Population',\n",
      "       'AveOccup', 'Latitude', 'Longitude', 'Household', 'AllRooms',\n",
      "       'AllBedrms', 'Price'],\n",
      "      dtype='object')\n"
     ]
    }
   ],
   "source": [
    "# ②行数、列数、列名(データの行数・列数を確認する際はshape 列名を確認する際はcplumnsを利用します)\n",
    "\n",
    "print('行数・列数の表示\\n', train.shape)\n",
    "print('-'* 100)\n",
    "print('列名の表示\\n', train.columns)"
   ]
  },
  {
   "cell_type": "code",
   "execution_count": 10,
   "id": "56a98816",
   "metadata": {
    "execution": {
     "iopub.execute_input": "2023-11-09T01:33:47.504100Z",
     "iopub.status.busy": "2023-11-09T01:33:47.503654Z",
     "iopub.status.idle": "2023-11-09T01:33:47.531464Z",
     "shell.execute_reply": "2023-11-09T01:33:47.530327Z"
    },
    "id": "ygBThdv2Qmd8",
    "outputId": "dff783f0-8a3d-4e22-e878-1270f6558774",
    "papermill": {
     "duration": 0.066024,
     "end_time": "2023-11-09T01:33:47.533999",
     "exception": false,
     "start_time": "2023-11-09T01:33:47.467975",
     "status": "completed"
    },
    "tags": []
   },
   "outputs": [
    {
     "name": "stdout",
     "output_type": "stream",
     "text": [
      "train_列ごと欠損値の数の表示\n",
      " id            0\n",
      "MedInc        0\n",
      "HouseAge      0\n",
      "AveRooms      0\n",
      "AveBedrms     0\n",
      "Population    0\n",
      "AveOccup      0\n",
      "Latitude      0\n",
      "Longitude     0\n",
      "Household     0\n",
      "AllRooms      0\n",
      "AllBedrms     0\n",
      "Price         0\n",
      "dtype: int64\n",
      "----------------------------------------------------------------------------------------------------\n",
      "<class 'pandas.core.frame.DataFrame'>\n",
      "RangeIndex: 16512 entries, 0 to 16511\n",
      "Data columns (total 13 columns):\n",
      " #   Column      Non-Null Count  Dtype  \n",
      "---  ------      --------------  -----  \n",
      " 0   id          16512 non-null  int64  \n",
      " 1   MedInc      16512 non-null  float64\n",
      " 2   HouseAge    16512 non-null  float64\n",
      " 3   AveRooms    16512 non-null  float64\n",
      " 4   AveBedrms   16512 non-null  float64\n",
      " 5   Population  16512 non-null  float64\n",
      " 6   AveOccup    16512 non-null  float64\n",
      " 7   Latitude    16512 non-null  float64\n",
      " 8   Longitude   16512 non-null  float64\n",
      " 9   Household   16512 non-null  float64\n",
      " 10  AllRooms    16512 non-null  float64\n",
      " 11  AllBedrms   16512 non-null  float64\n",
      " 12  Price       16512 non-null  float64\n",
      "dtypes: float64(12), int64(1)\n",
      "memory usage: 1.6 MB\n",
      "train_データの型の表示\n",
      " None\n"
     ]
    }
   ],
   "source": [
    "# ③データの型と欠損値(info関数を利用します)\n",
    "# int:数値型 float:小数点型 object:文字列型\n",
    "\n",
    "print('train_列ごと欠損値の数の表示\\n', train.isnull().sum())\n",
    "print('-'* 100)\n",
    "print('train_データの型の表示\\n', train.info())"
   ]
  },
  {
   "cell_type": "code",
   "execution_count": 11,
   "id": "b1066deb",
   "metadata": {
    "execution": {
     "iopub.execute_input": "2023-11-09T01:33:47.603673Z",
     "iopub.status.busy": "2023-11-09T01:33:47.603286Z",
     "iopub.status.idle": "2023-11-09T01:33:47.618047Z",
     "shell.execute_reply": "2023-11-09T01:33:47.616840Z"
    },
    "papermill": {
     "duration": 0.053017,
     "end_time": "2023-11-09T01:33:47.620541",
     "exception": false,
     "start_time": "2023-11-09T01:33:47.567524",
     "status": "completed"
    },
    "tags": []
   },
   "outputs": [
    {
     "name": "stdout",
     "output_type": "stream",
     "text": [
      "test_列ごと欠損値の数の表示\n",
      " id            0\n",
      "MedInc        0\n",
      "HouseAge      0\n",
      "AveRooms      0\n",
      "AveBedrms     0\n",
      "Population    0\n",
      "AveOccup      0\n",
      "Latitude      0\n",
      "Longitude     0\n",
      "Household     0\n",
      "AllRooms      0\n",
      "AllBedrms     0\n",
      "dtype: int64\n",
      "----------------------------------------------------------------------------------------------------\n",
      "<class 'pandas.core.frame.DataFrame'>\n",
      "RangeIndex: 4128 entries, 0 to 4127\n",
      "Data columns (total 12 columns):\n",
      " #   Column      Non-Null Count  Dtype  \n",
      "---  ------      --------------  -----  \n",
      " 0   id          4128 non-null   int64  \n",
      " 1   MedInc      4128 non-null   float64\n",
      " 2   HouseAge    4128 non-null   float64\n",
      " 3   AveRooms    4128 non-null   float64\n",
      " 4   AveBedrms   4128 non-null   float64\n",
      " 5   Population  4128 non-null   float64\n",
      " 6   AveOccup    4128 non-null   float64\n",
      " 7   Latitude    4128 non-null   float64\n",
      " 8   Longitude   4128 non-null   float64\n",
      " 9   Household   4128 non-null   float64\n",
      " 10  AllRooms    4128 non-null   float64\n",
      " 11  AllBedrms   4128 non-null   float64\n",
      "dtypes: float64(11), int64(1)\n",
      "memory usage: 387.1 KB\n",
      "test_データの型の表示\n",
      " None\n"
     ]
    }
   ],
   "source": [
    "print('test_列ごと欠損値の数の表示\\n', test.isnull().sum())\n",
    "print('-'* 100)\n",
    "print('test_データの型の表示\\n', test.info())"
   ]
  },
  {
   "cell_type": "code",
   "execution_count": 12,
   "id": "5284b116",
   "metadata": {
    "execution": {
     "iopub.execute_input": "2023-11-09T01:33:47.689798Z",
     "iopub.status.busy": "2023-11-09T01:33:47.689339Z",
     "iopub.status.idle": "2023-11-09T01:33:47.753015Z",
     "shell.execute_reply": "2023-11-09T01:33:47.751800Z"
    },
    "id": "gdsEKGcYQmgy",
    "outputId": "f25cdd7c-3740-4abb-c7bf-549445a04641",
    "papermill": {
     "duration": 0.101284,
     "end_time": "2023-11-09T01:33:47.755576",
     "exception": false,
     "start_time": "2023-11-09T01:33:47.654292",
     "status": "completed"
    },
    "tags": []
   },
   "outputs": [
    {
     "data": {
      "text/html": [
       "<div>\n",
       "<style scoped>\n",
       "    .dataframe tbody tr th:only-of-type {\n",
       "        vertical-align: middle;\n",
       "    }\n",
       "\n",
       "    .dataframe tbody tr th {\n",
       "        vertical-align: top;\n",
       "    }\n",
       "\n",
       "    .dataframe thead th {\n",
       "        text-align: right;\n",
       "    }\n",
       "</style>\n",
       "<table border=\"1\" class=\"dataframe\">\n",
       "  <thead>\n",
       "    <tr style=\"text-align: right;\">\n",
       "      <th></th>\n",
       "      <th>id</th>\n",
       "      <th>MedInc</th>\n",
       "      <th>HouseAge</th>\n",
       "      <th>AveRooms</th>\n",
       "      <th>AveBedrms</th>\n",
       "      <th>Population</th>\n",
       "      <th>AveOccup</th>\n",
       "      <th>Latitude</th>\n",
       "      <th>Longitude</th>\n",
       "      <th>Household</th>\n",
       "      <th>AllRooms</th>\n",
       "      <th>AllBedrms</th>\n",
       "      <th>Price</th>\n",
       "    </tr>\n",
       "  </thead>\n",
       "  <tbody>\n",
       "    <tr>\n",
       "      <th>count</th>\n",
       "      <td>16512.000000</td>\n",
       "      <td>16512.000000</td>\n",
       "      <td>16512.000000</td>\n",
       "      <td>16512.000000</td>\n",
       "      <td>16512.000000</td>\n",
       "      <td>16512.000000</td>\n",
       "      <td>16512.000000</td>\n",
       "      <td>16512.000000</td>\n",
       "      <td>16512.000000</td>\n",
       "      <td>16512.000000</td>\n",
       "      <td>16512.000000</td>\n",
       "      <td>16512.000000</td>\n",
       "      <td>16512.000000</td>\n",
       "    </tr>\n",
       "    <tr>\n",
       "      <th>mean</th>\n",
       "      <td>8255.500000</td>\n",
       "      <td>3.864091</td>\n",
       "      <td>28.624516</td>\n",
       "      <td>5.412724</td>\n",
       "      <td>1.094586</td>\n",
       "      <td>1435.017260</td>\n",
       "      <td>3.080506</td>\n",
       "      <td>35.626523</td>\n",
       "      <td>-119.564046</td>\n",
       "      <td>501.135962</td>\n",
       "      <td>2644.170603</td>\n",
       "      <td>539.428537</td>\n",
       "      <td>2.065093</td>\n",
       "    </tr>\n",
       "    <tr>\n",
       "      <th>std</th>\n",
       "      <td>4766.748158</td>\n",
       "      <td>1.893244</td>\n",
       "      <td>12.597980</td>\n",
       "      <td>2.279264</td>\n",
       "      <td>0.449683</td>\n",
       "      <td>1158.151967</td>\n",
       "      <td>10.933679</td>\n",
       "      <td>2.139150</td>\n",
       "      <td>2.005033</td>\n",
       "      <td>385.650673</td>\n",
       "      <td>2213.946369</td>\n",
       "      <td>425.193556</td>\n",
       "      <td>1.152260</td>\n",
       "    </tr>\n",
       "    <tr>\n",
       "      <th>min</th>\n",
       "      <td>0.000000</td>\n",
       "      <td>0.499900</td>\n",
       "      <td>1.000000</td>\n",
       "      <td>0.846154</td>\n",
       "      <td>0.333333</td>\n",
       "      <td>3.000000</td>\n",
       "      <td>0.692308</td>\n",
       "      <td>32.540000</td>\n",
       "      <td>-124.350000</td>\n",
       "      <td>2.000000</td>\n",
       "      <td>6.000000</td>\n",
       "      <td>2.000000</td>\n",
       "      <td>0.149990</td>\n",
       "    </tr>\n",
       "    <tr>\n",
       "      <th>25%</th>\n",
       "      <td>4127.750000</td>\n",
       "      <td>2.562500</td>\n",
       "      <td>18.000000</td>\n",
       "      <td>4.441027</td>\n",
       "      <td>1.006231</td>\n",
       "      <td>788.000000</td>\n",
       "      <td>2.430380</td>\n",
       "      <td>33.930000</td>\n",
       "      <td>-121.790000</td>\n",
       "      <td>280.000000</td>\n",
       "      <td>1446.000000</td>\n",
       "      <td>296.000000</td>\n",
       "      <td>1.194000</td>\n",
       "    </tr>\n",
       "    <tr>\n",
       "      <th>50%</th>\n",
       "      <td>8255.500000</td>\n",
       "      <td>3.531300</td>\n",
       "      <td>29.000000</td>\n",
       "      <td>5.224884</td>\n",
       "      <td>1.048420</td>\n",
       "      <td>1168.000000</td>\n",
       "      <td>2.821348</td>\n",
       "      <td>34.250000</td>\n",
       "      <td>-118.490000</td>\n",
       "      <td>410.000000</td>\n",
       "      <td>2116.000000</td>\n",
       "      <td>435.000000</td>\n",
       "      <td>1.793000</td>\n",
       "    </tr>\n",
       "    <tr>\n",
       "      <th>75%</th>\n",
       "      <td>12383.250000</td>\n",
       "      <td>4.733225</td>\n",
       "      <td>37.000000</td>\n",
       "      <td>6.047464</td>\n",
       "      <td>1.099243</td>\n",
       "      <td>1738.000000</td>\n",
       "      <td>3.290106</td>\n",
       "      <td>37.710000</td>\n",
       "      <td>-118.010000</td>\n",
       "      <td>606.000000</td>\n",
       "      <td>3154.000000</td>\n",
       "      <td>647.250000</td>\n",
       "      <td>2.645000</td>\n",
       "    </tr>\n",
       "    <tr>\n",
       "      <th>max</th>\n",
       "      <td>16511.000000</td>\n",
       "      <td>15.000100</td>\n",
       "      <td>52.000000</td>\n",
       "      <td>132.533333</td>\n",
       "      <td>34.066667</td>\n",
       "      <td>35682.000000</td>\n",
       "      <td>1243.333333</td>\n",
       "      <td>41.950000</td>\n",
       "      <td>-114.310000</td>\n",
       "      <td>6082.000000</td>\n",
       "      <td>39320.000000</td>\n",
       "      <td>6445.000000</td>\n",
       "      <td>5.000010</td>\n",
       "    </tr>\n",
       "  </tbody>\n",
       "</table>\n",
       "</div>"
      ],
      "text/plain": [
       "                 id        MedInc      HouseAge      AveRooms     AveBedrms  \\\n",
       "count  16512.000000  16512.000000  16512.000000  16512.000000  16512.000000   \n",
       "mean    8255.500000      3.864091     28.624516      5.412724      1.094586   \n",
       "std     4766.748158      1.893244     12.597980      2.279264      0.449683   \n",
       "min        0.000000      0.499900      1.000000      0.846154      0.333333   \n",
       "25%     4127.750000      2.562500     18.000000      4.441027      1.006231   \n",
       "50%     8255.500000      3.531300     29.000000      5.224884      1.048420   \n",
       "75%    12383.250000      4.733225     37.000000      6.047464      1.099243   \n",
       "max    16511.000000     15.000100     52.000000    132.533333     34.066667   \n",
       "\n",
       "         Population      AveOccup      Latitude     Longitude     Household  \\\n",
       "count  16512.000000  16512.000000  16512.000000  16512.000000  16512.000000   \n",
       "mean    1435.017260      3.080506     35.626523   -119.564046    501.135962   \n",
       "std     1158.151967     10.933679      2.139150      2.005033    385.650673   \n",
       "min        3.000000      0.692308     32.540000   -124.350000      2.000000   \n",
       "25%      788.000000      2.430380     33.930000   -121.790000    280.000000   \n",
       "50%     1168.000000      2.821348     34.250000   -118.490000    410.000000   \n",
       "75%     1738.000000      3.290106     37.710000   -118.010000    606.000000   \n",
       "max    35682.000000   1243.333333     41.950000   -114.310000   6082.000000   \n",
       "\n",
       "           AllRooms     AllBedrms         Price  \n",
       "count  16512.000000  16512.000000  16512.000000  \n",
       "mean    2644.170603    539.428537      2.065093  \n",
       "std     2213.946369    425.193556      1.152260  \n",
       "min        6.000000      2.000000      0.149990  \n",
       "25%     1446.000000    296.000000      1.194000  \n",
       "50%     2116.000000    435.000000      1.793000  \n",
       "75%     3154.000000    647.250000      2.645000  \n",
       "max    39320.000000   6445.000000      5.000010  "
      ]
     },
     "execution_count": 12,
     "metadata": {},
     "output_type": "execute_result"
    }
   ],
   "source": [
    "# ④基本統計量(describe関数を利用します)\n",
    "# 基本統計量：データの分布の特徴を記述したり要約するための必要な指標のことです。\n",
    "\n",
    "train.describe()"
   ]
  },
  {
   "cell_type": "code",
   "execution_count": 13,
   "id": "f09144c0",
   "metadata": {
    "execution": {
     "iopub.execute_input": "2023-11-09T01:33:47.827024Z",
     "iopub.status.busy": "2023-11-09T01:33:47.826567Z",
     "iopub.status.idle": "2023-11-09T01:33:47.874694Z",
     "shell.execute_reply": "2023-11-09T01:33:47.873556Z"
    },
    "papermill": {
     "duration": 0.087468,
     "end_time": "2023-11-09T01:33:47.877375",
     "exception": false,
     "start_time": "2023-11-09T01:33:47.789907",
     "status": "completed"
    },
    "tags": []
   },
   "outputs": [
    {
     "data": {
      "text/html": [
       "<div>\n",
       "<style scoped>\n",
       "    .dataframe tbody tr th:only-of-type {\n",
       "        vertical-align: middle;\n",
       "    }\n",
       "\n",
       "    .dataframe tbody tr th {\n",
       "        vertical-align: top;\n",
       "    }\n",
       "\n",
       "    .dataframe thead th {\n",
       "        text-align: right;\n",
       "    }\n",
       "</style>\n",
       "<table border=\"1\" class=\"dataframe\">\n",
       "  <thead>\n",
       "    <tr style=\"text-align: right;\">\n",
       "      <th></th>\n",
       "      <th>id</th>\n",
       "      <th>MedInc</th>\n",
       "      <th>HouseAge</th>\n",
       "      <th>AveRooms</th>\n",
       "      <th>AveBedrms</th>\n",
       "      <th>Population</th>\n",
       "      <th>AveOccup</th>\n",
       "      <th>Latitude</th>\n",
       "      <th>Longitude</th>\n",
       "      <th>Household</th>\n",
       "      <th>AllRooms</th>\n",
       "      <th>AllBedrms</th>\n",
       "    </tr>\n",
       "  </thead>\n",
       "  <tbody>\n",
       "    <tr>\n",
       "      <th>count</th>\n",
       "      <td>4128.000000</td>\n",
       "      <td>4128.000000</td>\n",
       "      <td>4128.000000</td>\n",
       "      <td>4128.000000</td>\n",
       "      <td>4128.000000</td>\n",
       "      <td>4128.00000</td>\n",
       "      <td>4128.000000</td>\n",
       "      <td>4128.000000</td>\n",
       "      <td>4128.000000</td>\n",
       "      <td>4128.000000</td>\n",
       "      <td>4128.000000</td>\n",
       "      <td>4128.000000</td>\n",
       "    </tr>\n",
       "    <tr>\n",
       "      <th>mean</th>\n",
       "      <td>2063.500000</td>\n",
       "      <td>3.896990</td>\n",
       "      <td>28.699370</td>\n",
       "      <td>5.494101</td>\n",
       "      <td>1.105031</td>\n",
       "      <td>1387.31468</td>\n",
       "      <td>3.031253</td>\n",
       "      <td>35.653217</td>\n",
       "      <td>-119.592338</td>\n",
       "      <td>493.154554</td>\n",
       "      <td>2602.132994</td>\n",
       "      <td>531.775921</td>\n",
       "    </tr>\n",
       "    <tr>\n",
       "      <th>std</th>\n",
       "      <td>1191.795284</td>\n",
       "      <td>1.925917</td>\n",
       "      <td>12.537087</td>\n",
       "      <td>3.134380</td>\n",
       "      <td>0.560430</td>\n",
       "      <td>1022.51429</td>\n",
       "      <td>7.822054</td>\n",
       "      <td>2.123237</td>\n",
       "      <td>1.997596</td>\n",
       "      <td>368.723505</td>\n",
       "      <td>2047.102172</td>\n",
       "      <td>405.073401</td>\n",
       "    </tr>\n",
       "    <tr>\n",
       "      <th>min</th>\n",
       "      <td>0.000000</td>\n",
       "      <td>0.499900</td>\n",
       "      <td>2.000000</td>\n",
       "      <td>1.000000</td>\n",
       "      <td>0.500000</td>\n",
       "      <td>6.00000</td>\n",
       "      <td>0.970588</td>\n",
       "      <td>32.560000</td>\n",
       "      <td>-124.300000</td>\n",
       "      <td>1.000000</td>\n",
       "      <td>2.000000</td>\n",
       "      <td>1.000000</td>\n",
       "    </tr>\n",
       "    <tr>\n",
       "      <th>25%</th>\n",
       "      <td>1031.750000</td>\n",
       "      <td>2.573550</td>\n",
       "      <td>18.000000</td>\n",
       "      <td>4.438205</td>\n",
       "      <td>1.005355</td>\n",
       "      <td>784.00000</td>\n",
       "      <td>2.428501</td>\n",
       "      <td>33.950000</td>\n",
       "      <td>-121.820000</td>\n",
       "      <td>279.000000</td>\n",
       "      <td>1458.750000</td>\n",
       "      <td>295.000000</td>\n",
       "    </tr>\n",
       "    <tr>\n",
       "      <th>50%</th>\n",
       "      <td>2063.500000</td>\n",
       "      <td>3.559000</td>\n",
       "      <td>29.000000</td>\n",
       "      <td>5.258908</td>\n",
       "      <td>1.049650</td>\n",
       "      <td>1159.00000</td>\n",
       "      <td>2.809997</td>\n",
       "      <td>34.275000</td>\n",
       "      <td>-118.545000</td>\n",
       "      <td>408.000000</td>\n",
       "      <td>2160.500000</td>\n",
       "      <td>434.000000</td>\n",
       "    </tr>\n",
       "    <tr>\n",
       "      <th>75%</th>\n",
       "      <td>3095.250000</td>\n",
       "      <td>4.802475</td>\n",
       "      <td>37.000000</td>\n",
       "      <td>6.072188</td>\n",
       "      <td>1.100000</td>\n",
       "      <td>1682.25000</td>\n",
       "      <td>3.250000</td>\n",
       "      <td>37.720000</td>\n",
       "      <td>-118.010000</td>\n",
       "      <td>597.250000</td>\n",
       "      <td>3113.000000</td>\n",
       "      <td>644.000000</td>\n",
       "    </tr>\n",
       "    <tr>\n",
       "      <th>max</th>\n",
       "      <td>4127.000000</td>\n",
       "      <td>15.000100</td>\n",
       "      <td>52.000000</td>\n",
       "      <td>141.909091</td>\n",
       "      <td>25.636364</td>\n",
       "      <td>11956.00000</td>\n",
       "      <td>502.461538</td>\n",
       "      <td>41.840000</td>\n",
       "      <td>-114.470000</td>\n",
       "      <td>4930.000000</td>\n",
       "      <td>27870.000000</td>\n",
       "      <td>5419.000000</td>\n",
       "    </tr>\n",
       "  </tbody>\n",
       "</table>\n",
       "</div>"
      ],
      "text/plain": [
       "                id       MedInc     HouseAge     AveRooms    AveBedrms  \\\n",
       "count  4128.000000  4128.000000  4128.000000  4128.000000  4128.000000   \n",
       "mean   2063.500000     3.896990    28.699370     5.494101     1.105031   \n",
       "std    1191.795284     1.925917    12.537087     3.134380     0.560430   \n",
       "min       0.000000     0.499900     2.000000     1.000000     0.500000   \n",
       "25%    1031.750000     2.573550    18.000000     4.438205     1.005355   \n",
       "50%    2063.500000     3.559000    29.000000     5.258908     1.049650   \n",
       "75%    3095.250000     4.802475    37.000000     6.072188     1.100000   \n",
       "max    4127.000000    15.000100    52.000000   141.909091    25.636364   \n",
       "\n",
       "        Population     AveOccup     Latitude    Longitude    Household  \\\n",
       "count   4128.00000  4128.000000  4128.000000  4128.000000  4128.000000   \n",
       "mean    1387.31468     3.031253    35.653217  -119.592338   493.154554   \n",
       "std     1022.51429     7.822054     2.123237     1.997596   368.723505   \n",
       "min        6.00000     0.970588    32.560000  -124.300000     1.000000   \n",
       "25%      784.00000     2.428501    33.950000  -121.820000   279.000000   \n",
       "50%     1159.00000     2.809997    34.275000  -118.545000   408.000000   \n",
       "75%     1682.25000     3.250000    37.720000  -118.010000   597.250000   \n",
       "max    11956.00000   502.461538    41.840000  -114.470000  4930.000000   \n",
       "\n",
       "           AllRooms    AllBedrms  \n",
       "count   4128.000000  4128.000000  \n",
       "mean    2602.132994   531.775921  \n",
       "std     2047.102172   405.073401  \n",
       "min        2.000000     1.000000  \n",
       "25%     1458.750000   295.000000  \n",
       "50%     2160.500000   434.000000  \n",
       "75%     3113.000000   644.000000  \n",
       "max    27870.000000  5419.000000  "
      ]
     },
     "execution_count": 13,
     "metadata": {},
     "output_type": "execute_result"
    }
   ],
   "source": [
    "test.describe()"
   ]
  },
  {
   "cell_type": "markdown",
   "id": "30020bc4",
   "metadata": {
    "id": "mKe-HinFY0J8",
    "papermill": {
     "duration": 0.034665,
     "end_time": "2023-11-09T01:33:47.947107",
     "exception": false,
     "start_time": "2023-11-09T01:33:47.912442",
     "status": "completed"
    },
    "tags": []
   },
   "source": [
    "- describe()の項目のそれぞれの意味は下記の通りです\n",
    "\n",
    "|カラム名|意味|\n",
    "|-|-|\n",
    "|count|要素の個数|\n",
    "|mean|算術平均|\n",
    "|std|標準偏差|\n",
    "|min|最小値|\n",
    "|max|最大値|\n",
    "|50%|中央値(median)|\n",
    "|25%|1/4分位数|\n",
    "|75%|3/4分位数|"
   ]
  },
  {
   "cell_type": "code",
   "execution_count": 14,
   "id": "f36ed642",
   "metadata": {
    "execution": {
     "iopub.execute_input": "2023-11-09T01:33:48.020132Z",
     "iopub.status.busy": "2023-11-09T01:33:48.019717Z",
     "iopub.status.idle": "2023-11-09T01:33:48.055050Z",
     "shell.execute_reply": "2023-11-09T01:33:48.053921Z"
    },
    "id": "0oD1XOUiaP7I",
    "outputId": "7c2a4f77-19a0-417b-f597-9e981f254df9",
    "papermill": {
     "duration": 0.074307,
     "end_time": "2023-11-09T01:33:48.057589",
     "exception": false,
     "start_time": "2023-11-09T01:33:47.983282",
     "status": "completed"
    },
    "tags": []
   },
   "outputs": [
    {
     "data": {
      "text/html": [
       "<div>\n",
       "<style scoped>\n",
       "    .dataframe tbody tr th:only-of-type {\n",
       "        vertical-align: middle;\n",
       "    }\n",
       "\n",
       "    .dataframe tbody tr th {\n",
       "        vertical-align: top;\n",
       "    }\n",
       "\n",
       "    .dataframe thead th {\n",
       "        text-align: right;\n",
       "    }\n",
       "</style>\n",
       "<table border=\"1\" class=\"dataframe\">\n",
       "  <thead>\n",
       "    <tr style=\"text-align: right;\">\n",
       "      <th></th>\n",
       "      <th>id</th>\n",
       "      <th>MedInc</th>\n",
       "      <th>HouseAge</th>\n",
       "      <th>AveRooms</th>\n",
       "      <th>AveBedrms</th>\n",
       "      <th>Population</th>\n",
       "      <th>AveOccup</th>\n",
       "      <th>Latitude</th>\n",
       "      <th>Longitude</th>\n",
       "      <th>Household</th>\n",
       "      <th>AllRooms</th>\n",
       "      <th>AllBedrms</th>\n",
       "      <th>Price</th>\n",
       "    </tr>\n",
       "  </thead>\n",
       "  <tbody>\n",
       "    <tr>\n",
       "      <th>id</th>\n",
       "      <td>1.000000</td>\n",
       "      <td>-0.009420</td>\n",
       "      <td>0.003905</td>\n",
       "      <td>0.013098</td>\n",
       "      <td>0.015765</td>\n",
       "      <td>-0.014485</td>\n",
       "      <td>0.002524</td>\n",
       "      <td>-0.012313</td>\n",
       "      <td>0.015105</td>\n",
       "      <td>-0.023855</td>\n",
       "      <td>-0.020528</td>\n",
       "      <td>-0.022428</td>\n",
       "      <td>-0.010626</td>\n",
       "    </tr>\n",
       "    <tr>\n",
       "      <th>MedInc</th>\n",
       "      <td>-0.009420</td>\n",
       "      <td>1.000000</td>\n",
       "      <td>-0.113804</td>\n",
       "      <td>0.358173</td>\n",
       "      <td>-0.062493</td>\n",
       "      <td>0.004353</td>\n",
       "      <td>0.022023</td>\n",
       "      <td>-0.076643</td>\n",
       "      <td>-0.019501</td>\n",
       "      <td>0.014794</td>\n",
       "      <td>0.198840</td>\n",
       "      <td>-0.006185</td>\n",
       "      <td>0.689659</td>\n",
       "    </tr>\n",
       "    <tr>\n",
       "      <th>HouseAge</th>\n",
       "      <td>0.003905</td>\n",
       "      <td>-0.113804</td>\n",
       "      <td>1.000000</td>\n",
       "      <td>-0.161266</td>\n",
       "      <td>-0.080613</td>\n",
       "      <td>-0.295541</td>\n",
       "      <td>0.012206</td>\n",
       "      <td>0.010653</td>\n",
       "      <td>-0.109873</td>\n",
       "      <td>-0.307466</td>\n",
       "      <td>-0.362083</td>\n",
       "      <td>-0.324896</td>\n",
       "      <td>0.108626</td>\n",
       "    </tr>\n",
       "    <tr>\n",
       "      <th>AveRooms</th>\n",
       "      <td>0.013098</td>\n",
       "      <td>0.358173</td>\n",
       "      <td>-0.161266</td>\n",
       "      <td>1.000000</td>\n",
       "      <td>0.823477</td>\n",
       "      <td>-0.071238</td>\n",
       "      <td>-0.010545</td>\n",
       "      <td>0.111456</td>\n",
       "      <td>-0.033410</td>\n",
       "      <td>-0.077752</td>\n",
       "      <td>0.147319</td>\n",
       "      <td>0.004784</td>\n",
       "      <td>0.157994</td>\n",
       "    </tr>\n",
       "    <tr>\n",
       "      <th>AveBedrms</th>\n",
       "      <td>0.015765</td>\n",
       "      <td>-0.062493</td>\n",
       "      <td>-0.080613</td>\n",
       "      <td>0.823477</td>\n",
       "      <td>1.000000</td>\n",
       "      <td>-0.063942</td>\n",
       "      <td>-0.008050</td>\n",
       "      <td>0.069299</td>\n",
       "      <td>0.012471</td>\n",
       "      <td>-0.052523</td>\n",
       "      <td>0.030278</td>\n",
       "      <td>0.047228</td>\n",
       "      <td>-0.058170</td>\n",
       "    </tr>\n",
       "    <tr>\n",
       "      <th>Population</th>\n",
       "      <td>-0.014485</td>\n",
       "      <td>0.004353</td>\n",
       "      <td>-0.295541</td>\n",
       "      <td>-0.071238</td>\n",
       "      <td>-0.063942</td>\n",
       "      <td>1.000000</td>\n",
       "      <td>0.066149</td>\n",
       "      <td>-0.106416</td>\n",
       "      <td>0.099824</td>\n",
       "      <td>0.907647</td>\n",
       "      <td>0.855772</td>\n",
       "      <td>0.879003</td>\n",
       "      <td>-0.027441</td>\n",
       "    </tr>\n",
       "    <tr>\n",
       "      <th>AveOccup</th>\n",
       "      <td>0.002524</td>\n",
       "      <td>0.022023</td>\n",
       "      <td>0.012206</td>\n",
       "      <td>-0.010545</td>\n",
       "      <td>-0.008050</td>\n",
       "      <td>0.066149</td>\n",
       "      <td>1.000000</td>\n",
       "      <td>0.005914</td>\n",
       "      <td>0.001650</td>\n",
       "      <td>-0.025789</td>\n",
       "      <td>-0.023386</td>\n",
       "      <td>-0.026731</td>\n",
       "      <td>-0.027454</td>\n",
       "    </tr>\n",
       "    <tr>\n",
       "      <th>Latitude</th>\n",
       "      <td>-0.012313</td>\n",
       "      <td>-0.076643</td>\n",
       "      <td>0.010653</td>\n",
       "      <td>0.111456</td>\n",
       "      <td>0.069299</td>\n",
       "      <td>-0.106416</td>\n",
       "      <td>0.005914</td>\n",
       "      <td>1.000000</td>\n",
       "      <td>-0.924753</td>\n",
       "      <td>-0.068901</td>\n",
       "      <td>-0.035012</td>\n",
       "      <td>-0.064910</td>\n",
       "      <td>-0.143970</td>\n",
       "    </tr>\n",
       "    <tr>\n",
       "      <th>Longitude</th>\n",
       "      <td>0.015105</td>\n",
       "      <td>-0.019501</td>\n",
       "      <td>-0.109873</td>\n",
       "      <td>-0.033410</td>\n",
       "      <td>0.012471</td>\n",
       "      <td>0.099824</td>\n",
       "      <td>0.001650</td>\n",
       "      <td>-0.924753</td>\n",
       "      <td>1.000000</td>\n",
       "      <td>0.055629</td>\n",
       "      <td>0.044776</td>\n",
       "      <td>0.068808</td>\n",
       "      <td>-0.046754</td>\n",
       "    </tr>\n",
       "    <tr>\n",
       "      <th>Household</th>\n",
       "      <td>-0.023855</td>\n",
       "      <td>0.014794</td>\n",
       "      <td>-0.307466</td>\n",
       "      <td>-0.077752</td>\n",
       "      <td>-0.052523</td>\n",
       "      <td>0.907647</td>\n",
       "      <td>-0.025789</td>\n",
       "      <td>-0.068901</td>\n",
       "      <td>0.055629</td>\n",
       "      <td>1.000000</td>\n",
       "      <td>0.920225</td>\n",
       "      <td>0.980115</td>\n",
       "      <td>0.063245</td>\n",
       "    </tr>\n",
       "    <tr>\n",
       "      <th>AllRooms</th>\n",
       "      <td>-0.020528</td>\n",
       "      <td>0.198840</td>\n",
       "      <td>-0.362083</td>\n",
       "      <td>0.147319</td>\n",
       "      <td>0.030278</td>\n",
       "      <td>0.855772</td>\n",
       "      <td>-0.023386</td>\n",
       "      <td>-0.035012</td>\n",
       "      <td>0.044776</td>\n",
       "      <td>0.920225</td>\n",
       "      <td>1.000000</td>\n",
       "      <td>0.931853</td>\n",
       "      <td>0.133218</td>\n",
       "    </tr>\n",
       "    <tr>\n",
       "      <th>AllBedrms</th>\n",
       "      <td>-0.022428</td>\n",
       "      <td>-0.006185</td>\n",
       "      <td>-0.324896</td>\n",
       "      <td>0.004784</td>\n",
       "      <td>0.047228</td>\n",
       "      <td>0.879003</td>\n",
       "      <td>-0.026731</td>\n",
       "      <td>-0.064910</td>\n",
       "      <td>0.068808</td>\n",
       "      <td>0.980115</td>\n",
       "      <td>0.931853</td>\n",
       "      <td>1.000000</td>\n",
       "      <td>0.047988</td>\n",
       "    </tr>\n",
       "    <tr>\n",
       "      <th>Price</th>\n",
       "      <td>-0.010626</td>\n",
       "      <td>0.689659</td>\n",
       "      <td>0.108626</td>\n",
       "      <td>0.157994</td>\n",
       "      <td>-0.058170</td>\n",
       "      <td>-0.027441</td>\n",
       "      <td>-0.027454</td>\n",
       "      <td>-0.143970</td>\n",
       "      <td>-0.046754</td>\n",
       "      <td>0.063245</td>\n",
       "      <td>0.133218</td>\n",
       "      <td>0.047988</td>\n",
       "      <td>1.000000</td>\n",
       "    </tr>\n",
       "  </tbody>\n",
       "</table>\n",
       "</div>"
      ],
      "text/plain": [
       "                  id    MedInc  HouseAge  AveRooms  AveBedrms  Population  \\\n",
       "id          1.000000 -0.009420  0.003905  0.013098   0.015765   -0.014485   \n",
       "MedInc     -0.009420  1.000000 -0.113804  0.358173  -0.062493    0.004353   \n",
       "HouseAge    0.003905 -0.113804  1.000000 -0.161266  -0.080613   -0.295541   \n",
       "AveRooms    0.013098  0.358173 -0.161266  1.000000   0.823477   -0.071238   \n",
       "AveBedrms   0.015765 -0.062493 -0.080613  0.823477   1.000000   -0.063942   \n",
       "Population -0.014485  0.004353 -0.295541 -0.071238  -0.063942    1.000000   \n",
       "AveOccup    0.002524  0.022023  0.012206 -0.010545  -0.008050    0.066149   \n",
       "Latitude   -0.012313 -0.076643  0.010653  0.111456   0.069299   -0.106416   \n",
       "Longitude   0.015105 -0.019501 -0.109873 -0.033410   0.012471    0.099824   \n",
       "Household  -0.023855  0.014794 -0.307466 -0.077752  -0.052523    0.907647   \n",
       "AllRooms   -0.020528  0.198840 -0.362083  0.147319   0.030278    0.855772   \n",
       "AllBedrms  -0.022428 -0.006185 -0.324896  0.004784   0.047228    0.879003   \n",
       "Price      -0.010626  0.689659  0.108626  0.157994  -0.058170   -0.027441   \n",
       "\n",
       "            AveOccup  Latitude  Longitude  Household  AllRooms  AllBedrms  \\\n",
       "id          0.002524 -0.012313   0.015105  -0.023855 -0.020528  -0.022428   \n",
       "MedInc      0.022023 -0.076643  -0.019501   0.014794  0.198840  -0.006185   \n",
       "HouseAge    0.012206  0.010653  -0.109873  -0.307466 -0.362083  -0.324896   \n",
       "AveRooms   -0.010545  0.111456  -0.033410  -0.077752  0.147319   0.004784   \n",
       "AveBedrms  -0.008050  0.069299   0.012471  -0.052523  0.030278   0.047228   \n",
       "Population  0.066149 -0.106416   0.099824   0.907647  0.855772   0.879003   \n",
       "AveOccup    1.000000  0.005914   0.001650  -0.025789 -0.023386  -0.026731   \n",
       "Latitude    0.005914  1.000000  -0.924753  -0.068901 -0.035012  -0.064910   \n",
       "Longitude   0.001650 -0.924753   1.000000   0.055629  0.044776   0.068808   \n",
       "Household  -0.025789 -0.068901   0.055629   1.000000  0.920225   0.980115   \n",
       "AllRooms   -0.023386 -0.035012   0.044776   0.920225  1.000000   0.931853   \n",
       "AllBedrms  -0.026731 -0.064910   0.068808   0.980115  0.931853   1.000000   \n",
       "Price      -0.027454 -0.143970  -0.046754   0.063245  0.133218   0.047988   \n",
       "\n",
       "               Price  \n",
       "id         -0.010626  \n",
       "MedInc      0.689659  \n",
       "HouseAge    0.108626  \n",
       "AveRooms    0.157994  \n",
       "AveBedrms  -0.058170  \n",
       "Population -0.027441  \n",
       "AveOccup   -0.027454  \n",
       "Latitude   -0.143970  \n",
       "Longitude  -0.046754  \n",
       "Household   0.063245  \n",
       "AllRooms    0.133218  \n",
       "AllBedrms   0.047988  \n",
       "Price       1.000000  "
      ]
     },
     "execution_count": 14,
     "metadata": {},
     "output_type": "execute_result"
    }
   ],
   "source": [
    "# ⑤目的変数と説明変数間との相関係数(corr関数を利用します)\n",
    "# 相関係数：２つの変数間にどの程度関係があるかを示す統計量。-1～1までの数値を取り絶対値が大きいほど関係性が強いと言えます。\n",
    "\n",
    "# 下記の引数を設定することでそれぞれの相関係数を確認できます\n",
    "    # 'pearson': ピアソンの積率相関係数（デフォルト）\n",
    "    # 'kendall': ケンドールの順位相関係数\n",
    "    # 'spearman': スピアマンの順位相関係数\n",
    "\n",
    "corr_train = train.corr()\n",
    "corr_train"
   ]
  },
  {
   "cell_type": "code",
   "execution_count": 15,
   "id": "9712a33b",
   "metadata": {
    "execution": {
     "iopub.execute_input": "2023-11-09T01:33:48.130120Z",
     "iopub.status.busy": "2023-11-09T01:33:48.129283Z",
     "iopub.status.idle": "2023-11-09T01:33:48.153903Z",
     "shell.execute_reply": "2023-11-09T01:33:48.152770Z"
    },
    "papermill": {
     "duration": 0.063968,
     "end_time": "2023-11-09T01:33:48.156354",
     "exception": false,
     "start_time": "2023-11-09T01:33:48.092386",
     "status": "completed"
    },
    "tags": []
   },
   "outputs": [
    {
     "data": {
      "text/html": [
       "<div>\n",
       "<style scoped>\n",
       "    .dataframe tbody tr th:only-of-type {\n",
       "        vertical-align: middle;\n",
       "    }\n",
       "\n",
       "    .dataframe tbody tr th {\n",
       "        vertical-align: top;\n",
       "    }\n",
       "\n",
       "    .dataframe thead th {\n",
       "        text-align: right;\n",
       "    }\n",
       "</style>\n",
       "<table border=\"1\" class=\"dataframe\">\n",
       "  <thead>\n",
       "    <tr style=\"text-align: right;\">\n",
       "      <th></th>\n",
       "      <th>id</th>\n",
       "      <th>MedInc</th>\n",
       "      <th>HouseAge</th>\n",
       "      <th>AveRooms</th>\n",
       "      <th>AveBedrms</th>\n",
       "      <th>Population</th>\n",
       "      <th>AveOccup</th>\n",
       "      <th>Latitude</th>\n",
       "      <th>Longitude</th>\n",
       "      <th>Household</th>\n",
       "      <th>AllRooms</th>\n",
       "      <th>AllBedrms</th>\n",
       "    </tr>\n",
       "  </thead>\n",
       "  <tbody>\n",
       "    <tr>\n",
       "      <th>id</th>\n",
       "      <td>1.000000</td>\n",
       "      <td>-0.008831</td>\n",
       "      <td>-0.016254</td>\n",
       "      <td>0.024425</td>\n",
       "      <td>0.029367</td>\n",
       "      <td>-0.020385</td>\n",
       "      <td>-0.000563</td>\n",
       "      <td>0.037816</td>\n",
       "      <td>-0.032163</td>\n",
       "      <td>-0.008211</td>\n",
       "      <td>-0.005726</td>\n",
       "      <td>-0.002533</td>\n",
       "    </tr>\n",
       "    <tr>\n",
       "      <th>MedInc</th>\n",
       "      <td>-0.008831</td>\n",
       "      <td>1.000000</td>\n",
       "      <td>-0.139821</td>\n",
       "      <td>0.248273</td>\n",
       "      <td>-0.061854</td>\n",
       "      <td>0.007659</td>\n",
       "      <td>0.001941</td>\n",
       "      <td>-0.092559</td>\n",
       "      <td>0.002087</td>\n",
       "      <td>0.006109</td>\n",
       "      <td>0.195754</td>\n",
       "      <td>-0.015727</td>\n",
       "    </tr>\n",
       "    <tr>\n",
       "      <th>HouseAge</th>\n",
       "      <td>-0.016254</td>\n",
       "      <td>-0.139821</td>\n",
       "      <td>1.000000</td>\n",
       "      <td>-0.136097</td>\n",
       "      <td>-0.070112</td>\n",
       "      <td>-0.301205</td>\n",
       "      <td>0.019375</td>\n",
       "      <td>0.013219</td>\n",
       "      <td>-0.101375</td>\n",
       "      <td>-0.283935</td>\n",
       "      <td>-0.358452</td>\n",
       "      <td>-0.302074</td>\n",
       "    </tr>\n",
       "    <tr>\n",
       "      <th>AveRooms</th>\n",
       "      <td>0.024425</td>\n",
       "      <td>0.248273</td>\n",
       "      <td>-0.136097</td>\n",
       "      <td>1.000000</td>\n",
       "      <td>0.906826</td>\n",
       "      <td>-0.080007</td>\n",
       "      <td>0.017579</td>\n",
       "      <td>0.095551</td>\n",
       "      <td>-0.011185</td>\n",
       "      <td>-0.092872</td>\n",
       "      <td>0.099796</td>\n",
       "      <td>-0.010989</td>\n",
       "    </tr>\n",
       "    <tr>\n",
       "      <th>AveBedrms</th>\n",
       "      <td>0.029367</td>\n",
       "      <td>-0.061854</td>\n",
       "      <td>-0.070112</td>\n",
       "      <td>0.906826</td>\n",
       "      <td>1.000000</td>\n",
       "      <td>-0.076860</td>\n",
       "      <td>0.001508</td>\n",
       "      <td>0.072297</td>\n",
       "      <td>0.016629</td>\n",
       "      <td>-0.063773</td>\n",
       "      <td>0.028113</td>\n",
       "      <td>0.043395</td>\n",
       "    </tr>\n",
       "    <tr>\n",
       "      <th>Population</th>\n",
       "      <td>-0.020385</td>\n",
       "      <td>0.007659</td>\n",
       "      <td>-0.301205</td>\n",
       "      <td>-0.080007</td>\n",
       "      <td>-0.076860</td>\n",
       "      <td>1.000000</td>\n",
       "      <td>0.094561</td>\n",
       "      <td>-0.119833</td>\n",
       "      <td>0.099697</td>\n",
       "      <td>0.907702</td>\n",
       "      <td>0.864623</td>\n",
       "      <td>0.875621</td>\n",
       "    </tr>\n",
       "    <tr>\n",
       "      <th>AveOccup</th>\n",
       "      <td>-0.000563</td>\n",
       "      <td>0.001941</td>\n",
       "      <td>0.019375</td>\n",
       "      <td>0.017579</td>\n",
       "      <td>0.001508</td>\n",
       "      <td>0.094561</td>\n",
       "      <td>1.000000</td>\n",
       "      <td>-0.017448</td>\n",
       "      <td>0.007154</td>\n",
       "      <td>-0.037303</td>\n",
       "      <td>-0.032609</td>\n",
       "      <td>-0.038815</td>\n",
       "    </tr>\n",
       "    <tr>\n",
       "      <th>Latitude</th>\n",
       "      <td>0.037816</td>\n",
       "      <td>-0.092559</td>\n",
       "      <td>0.013219</td>\n",
       "      <td>0.095551</td>\n",
       "      <td>0.072297</td>\n",
       "      <td>-0.119833</td>\n",
       "      <td>-0.017448</td>\n",
       "      <td>1.000000</td>\n",
       "      <td>-0.924302</td>\n",
       "      <td>-0.079872</td>\n",
       "      <td>-0.040717</td>\n",
       "      <td>-0.072147</td>\n",
       "    </tr>\n",
       "    <tr>\n",
       "      <th>Longitude</th>\n",
       "      <td>-0.032163</td>\n",
       "      <td>0.002087</td>\n",
       "      <td>-0.101375</td>\n",
       "      <td>-0.011185</td>\n",
       "      <td>0.016629</td>\n",
       "      <td>0.099697</td>\n",
       "      <td>0.007154</td>\n",
       "      <td>-0.924302</td>\n",
       "      <td>1.000000</td>\n",
       "      <td>0.053777</td>\n",
       "      <td>0.043542</td>\n",
       "      <td>0.066421</td>\n",
       "    </tr>\n",
       "    <tr>\n",
       "      <th>Household</th>\n",
       "      <td>-0.008211</td>\n",
       "      <td>0.006109</td>\n",
       "      <td>-0.283935</td>\n",
       "      <td>-0.092872</td>\n",
       "      <td>-0.063773</td>\n",
       "      <td>0.907702</td>\n",
       "      <td>-0.037303</td>\n",
       "      <td>-0.079872</td>\n",
       "      <td>0.053777</td>\n",
       "      <td>1.000000</td>\n",
       "      <td>0.911000</td>\n",
       "      <td>0.978575</td>\n",
       "    </tr>\n",
       "    <tr>\n",
       "      <th>AllRooms</th>\n",
       "      <td>-0.005726</td>\n",
       "      <td>0.195754</td>\n",
       "      <td>-0.358452</td>\n",
       "      <td>0.099796</td>\n",
       "      <td>0.028113</td>\n",
       "      <td>0.864623</td>\n",
       "      <td>-0.032609</td>\n",
       "      <td>-0.040717</td>\n",
       "      <td>0.043542</td>\n",
       "      <td>0.911000</td>\n",
       "      <td>1.000000</td>\n",
       "      <td>0.921313</td>\n",
       "    </tr>\n",
       "    <tr>\n",
       "      <th>AllBedrms</th>\n",
       "      <td>-0.002533</td>\n",
       "      <td>-0.015727</td>\n",
       "      <td>-0.302074</td>\n",
       "      <td>-0.010989</td>\n",
       "      <td>0.043395</td>\n",
       "      <td>0.875621</td>\n",
       "      <td>-0.038815</td>\n",
       "      <td>-0.072147</td>\n",
       "      <td>0.066421</td>\n",
       "      <td>0.978575</td>\n",
       "      <td>0.921313</td>\n",
       "      <td>1.000000</td>\n",
       "    </tr>\n",
       "  </tbody>\n",
       "</table>\n",
       "</div>"
      ],
      "text/plain": [
       "                  id    MedInc  HouseAge  AveRooms  AveBedrms  Population  \\\n",
       "id          1.000000 -0.008831 -0.016254  0.024425   0.029367   -0.020385   \n",
       "MedInc     -0.008831  1.000000 -0.139821  0.248273  -0.061854    0.007659   \n",
       "HouseAge   -0.016254 -0.139821  1.000000 -0.136097  -0.070112   -0.301205   \n",
       "AveRooms    0.024425  0.248273 -0.136097  1.000000   0.906826   -0.080007   \n",
       "AveBedrms   0.029367 -0.061854 -0.070112  0.906826   1.000000   -0.076860   \n",
       "Population -0.020385  0.007659 -0.301205 -0.080007  -0.076860    1.000000   \n",
       "AveOccup   -0.000563  0.001941  0.019375  0.017579   0.001508    0.094561   \n",
       "Latitude    0.037816 -0.092559  0.013219  0.095551   0.072297   -0.119833   \n",
       "Longitude  -0.032163  0.002087 -0.101375 -0.011185   0.016629    0.099697   \n",
       "Household  -0.008211  0.006109 -0.283935 -0.092872  -0.063773    0.907702   \n",
       "AllRooms   -0.005726  0.195754 -0.358452  0.099796   0.028113    0.864623   \n",
       "AllBedrms  -0.002533 -0.015727 -0.302074 -0.010989   0.043395    0.875621   \n",
       "\n",
       "            AveOccup  Latitude  Longitude  Household  AllRooms  AllBedrms  \n",
       "id         -0.000563  0.037816  -0.032163  -0.008211 -0.005726  -0.002533  \n",
       "MedInc      0.001941 -0.092559   0.002087   0.006109  0.195754  -0.015727  \n",
       "HouseAge    0.019375  0.013219  -0.101375  -0.283935 -0.358452  -0.302074  \n",
       "AveRooms    0.017579  0.095551  -0.011185  -0.092872  0.099796  -0.010989  \n",
       "AveBedrms   0.001508  0.072297   0.016629  -0.063773  0.028113   0.043395  \n",
       "Population  0.094561 -0.119833   0.099697   0.907702  0.864623   0.875621  \n",
       "AveOccup    1.000000 -0.017448   0.007154  -0.037303 -0.032609  -0.038815  \n",
       "Latitude   -0.017448  1.000000  -0.924302  -0.079872 -0.040717  -0.072147  \n",
       "Longitude   0.007154 -0.924302   1.000000   0.053777  0.043542   0.066421  \n",
       "Household  -0.037303 -0.079872   0.053777   1.000000  0.911000   0.978575  \n",
       "AllRooms   -0.032609 -0.040717   0.043542   0.911000  1.000000   0.921313  \n",
       "AllBedrms  -0.038815 -0.072147   0.066421   0.978575  0.921313   1.000000  "
      ]
     },
     "execution_count": 15,
     "metadata": {},
     "output_type": "execute_result"
    }
   ],
   "source": [
    "corr_test = test.corr()\n",
    "corr_test"
   ]
  },
  {
   "cell_type": "markdown",
   "id": "9d84f338",
   "metadata": {
    "id": "SPpbojIOapxm",
    "papermill": {
     "duration": 0.036126,
     "end_time": "2023-11-09T01:33:48.227830",
     "exception": false,
     "start_time": "2023-11-09T01:33:48.191704",
     "status": "completed"
    },
    "tags": []
   },
   "source": [
    "- MedInc(ブロックの所得中央値)とPrice(住宅価格)に**0.688075**とかなりの正の相関があることが見て取れます。  \n",
    "- 解釈：この場合「収入が高いほどより良い家に住む傾向にあるのでは？」と考えることができます。\n"
   ]
  },
  {
   "cell_type": "code",
   "execution_count": 16,
   "id": "a6797ca2",
   "metadata": {
    "execution": {
     "iopub.execute_input": "2023-11-09T01:33:48.302120Z",
     "iopub.status.busy": "2023-11-09T01:33:48.301658Z",
     "iopub.status.idle": "2023-11-09T01:33:48.807830Z",
     "shell.execute_reply": "2023-11-09T01:33:48.806699Z"
    },
    "id": "-mYYNuV0YYQe",
    "outputId": "ea124c9a-1dcf-4ef8-9a77-2f5022c67f4c",
    "papermill": {
     "duration": 0.547029,
     "end_time": "2023-11-09T01:33:48.810731",
     "exception": false,
     "start_time": "2023-11-09T01:33:48.263702",
     "status": "completed"
    },
    "tags": []
   },
   "outputs": [
    {
     "data": {
      "text/plain": [
       "<Axes: >"
      ]
     },
     "execution_count": 16,
     "metadata": {},
     "output_type": "execute_result"
    },
    {
     "data": {
      "image/png": "[encoded data removed]",
      "text/plain": [
       "<Figure size 640x480 with 2 Axes>"
      ]
     },
     "metadata": {},
     "output_type": "display_data"
    }
   ],
   "source": [
    "# sns.heatmapを使うことでヒートマップでも相関関係を確認できます\n",
    "# vmax・vmin：数値の範囲　center：colormapの中心とする値\n",
    "sns.heatmap(corr_train, vmax=1, vmin=-1, center=0)"
   ]
  },
  {
   "cell_type": "code",
   "execution_count": 17,
   "id": "0204bec4",
   "metadata": {
    "execution": {
     "iopub.execute_input": "2023-11-09T01:33:48.886522Z",
     "iopub.status.busy": "2023-11-09T01:33:48.885889Z",
     "iopub.status.idle": "2023-11-09T01:33:49.346844Z",
     "shell.execute_reply": "2023-11-09T01:33:49.345614Z"
    },
    "papermill": {
     "duration": 0.502067,
     "end_time": "2023-11-09T01:33:49.349580",
     "exception": false,
     "start_time": "2023-11-09T01:33:48.847513",
     "status": "completed"
    },
    "tags": []
   },
   "outputs": [
    {
     "data": {
      "text/plain": [
       "<Axes: >"
      ]
     },
     "execution_count": 17,
     "metadata": {},
     "output_type": "execute_result"
    },
    {
     "data": {
      "image/png": "[encoded data removed]",
      "text/plain": [
       "<Figure size 640x480 with 2 Axes>"
      ]
     },
     "metadata": {},
     "output_type": "display_data"
    }
   ],
   "source": [
    "sns.heatmap(corr_test, vmax=1, vmin=-1, center=0)"
   ]
  },
  {
   "cell_type": "code",
   "execution_count": 18,
   "id": "c49868f7",
   "metadata": {
    "execution": {
     "iopub.execute_input": "2023-11-09T01:33:49.428020Z",
     "iopub.status.busy": "2023-11-09T01:33:49.427239Z",
     "iopub.status.idle": "2023-11-09T01:33:52.795229Z",
     "shell.execute_reply": "2023-11-09T01:33:52.793992Z"
    },
    "id": "umnAvfTwcy_-",
    "outputId": "bd67ae2b-f6fb-4a8e-bc73-548ed25c14c4",
    "papermill": {
     "duration": 3.411801,
     "end_time": "2023-11-09T01:33:52.799053",
     "exception": false,
     "start_time": "2023-11-09T01:33:49.387252",
     "status": "completed"
    },
    "tags": []
   },
   "outputs": [
    {
     "data": {
      "text/plain": [
       "array([[<Axes: title={'center': 'id'}>,\n",
       "        <Axes: title={'center': 'MedInc'}>,\n",
       "        <Axes: title={'center': 'HouseAge'}>,\n",
       "        <Axes: title={'center': 'AveRooms'}>],\n",
       "       [<Axes: title={'center': 'AveBedrms'}>,\n",
       "        <Axes: title={'center': 'Population'}>,\n",
       "        <Axes: title={'center': 'AveOccup'}>,\n",
       "        <Axes: title={'center': 'Latitude'}>],\n",
       "       [<Axes: title={'center': 'Longitude'}>,\n",
       "        <Axes: title={'center': 'Household'}>,\n",
       "        <Axes: title={'center': 'AllRooms'}>,\n",
       "        <Axes: title={'center': 'AllBedrms'}>],\n",
       "       [<Axes: title={'center': 'Price'}>, <Axes: >, <Axes: >, <Axes: >]],\n",
       "      dtype=object)"
      ]
     },
     "execution_count": 18,
     "metadata": {},
     "output_type": "execute_result"
    },
    {
     "data": {
      "image/png": "[encoded data removed]",
      "text/plain": [
       "<Figure size 1500x1000 with 16 Axes>"
      ]
     },
     "metadata": {},
     "output_type": "display_data"
    }
   ],
   "source": [
    "# ⑥変数の分布(今回はヒストグラムで確認してみます)\n",
    "\n",
    "train.hist(bins=30, figsize=(15, 10))"
   ]
  },
  {
   "cell_type": "code",
   "execution_count": 19,
   "id": "89d2fa0a",
   "metadata": {
    "execution": {
     "iopub.execute_input": "2023-11-09T01:33:52.880911Z",
     "iopub.status.busy": "2023-11-09T01:33:52.880230Z",
     "iopub.status.idle": "2023-11-09T01:33:56.074416Z",
     "shell.execute_reply": "2023-11-09T01:33:56.070802Z"
    },
    "papermill": {
     "duration": 3.239076,
     "end_time": "2023-11-09T01:33:56.078096",
     "exception": false,
     "start_time": "2023-11-09T01:33:52.839020",
     "status": "completed"
    },
    "tags": []
   },
   "outputs": [
    {
     "data": {
      "text/plain": [
       "array([[<Axes: title={'center': 'id'}>,\n",
       "        <Axes: title={'center': 'MedInc'}>,\n",
       "        <Axes: title={'center': 'HouseAge'}>],\n",
       "       [<Axes: title={'center': 'AveRooms'}>,\n",
       "        <Axes: title={'center': 'AveBedrms'}>,\n",
       "        <Axes: title={'center': 'Population'}>],\n",
       "       [<Axes: title={'center': 'AveOccup'}>,\n",
       "        <Axes: title={'center': 'Latitude'}>,\n",
       "        <Axes: title={'center': 'Longitude'}>],\n",
       "       [<Axes: title={'center': 'Household'}>,\n",
       "        <Axes: title={'center': 'AllRooms'}>,\n",
       "        <Axes: title={'center': 'AllBedrms'}>]], dtype=object)"
      ]
     },
     "execution_count": 19,
     "metadata": {},
     "output_type": "execute_result"
    },
    {
     "data": {
      "image/png": "[encoded data removed]",
      "text/plain": [
       "<Figure size 1500x1000 with 12 Axes>"
      ]
     },
     "metadata": {},
     "output_type": "display_data"
    }
   ],
   "source": [
    "test.hist(bins=30, figsize=(15, 10))"
   ]
  },
  {
   "cell_type": "code",
   "execution_count": 20,
   "id": "2bb28c59",
   "metadata": {
    "execution": {
     "iopub.execute_input": "2023-11-09T01:33:56.180466Z",
     "iopub.status.busy": "2023-11-09T01:33:56.179921Z",
     "iopub.status.idle": "2023-11-09T01:33:56.594659Z",
     "shell.execute_reply": "2023-11-09T01:33:56.593510Z"
    },
    "id": "t0zNyf2dslif",
    "outputId": "db60b246-3138-4747-ae66-0ed30a629579",
    "papermill": {
     "duration": 0.466455,
     "end_time": "2023-11-09T01:33:56.597332",
     "exception": false,
     "start_time": "2023-11-09T01:33:56.130877",
     "status": "completed"
    },
    "tags": []
   },
   "outputs": [
    {
     "data": {
      "text/plain": [
       "<Axes: >"
      ]
     },
     "execution_count": 20,
     "metadata": {},
     "output_type": "execute_result"
    },
    {
     "data": {
      "image/png": "[encoded data removed]",
      "text/plain": [
       "<Figure size 1500x1000 with 1 Axes>"
      ]
     },
     "metadata": {},
     "output_type": "display_data"
    }
   ],
   "source": [
    "# Price(目的変数)に着目してみます\n",
    "# 一番右のバーが不自然に突出していることが確認できます\n",
    "train[\"Price\"].hist(bins=30, figsize=(15, 10))"
   ]
  },
  {
   "cell_type": "code",
   "execution_count": 21,
   "id": "318fa4e9",
   "metadata": {
    "execution": {
     "iopub.execute_input": "2023-11-09T01:33:56.685542Z",
     "iopub.status.busy": "2023-11-09T01:33:56.684680Z",
     "iopub.status.idle": "2023-11-09T01:33:56.700524Z",
     "shell.execute_reply": "2023-11-09T01:33:56.699166Z"
    },
    "id": "T4nscBuXeMPm",
    "outputId": "4260fb10-cac2-4d7c-c153-377a81f311c8",
    "papermill": {
     "duration": 0.062111,
     "end_time": "2023-11-09T01:33:56.703206",
     "exception": false,
     "start_time": "2023-11-09T01:33:56.641095",
     "status": "completed"
    },
    "tags": []
   },
   "outputs": [
    {
     "name": "stdout",
     "output_type": "stream",
     "text": [
      "763\n"
     ]
    }
   ],
   "source": [
    "# 最大値の個数を確認\n",
    "# queryメソッドで条件に沿う行を抽出できます\n",
    "print(len(train.query('Price == 5.00001')))"
   ]
  },
  {
   "cell_type": "markdown",
   "id": "077df09e",
   "metadata": {
    "id": "L8bLipSDt66d",
    "papermill": {
     "duration": 0.041689,
     "end_time": "2023-11-09T01:33:56.786952",
     "exception": false,
     "start_time": "2023-11-09T01:33:56.745263",
     "status": "completed"
    },
    "tags": []
   },
   "source": [
    "- 最大値のデータが763個存在していることが確認できました。多くのデータがこうして一致するとは現実的に考えづらいため、国勢調査において5.00001以上のデータとして処理されていると考えられます。  \n",
    "→AIモデルが**5.00001より大きい数値を出力した場合は5.00001に丸める処理**を入れた方がよさそうです。"
   ]
  },
  {
   "cell_type": "markdown",
   "id": "cb6b368f",
   "metadata": {
    "id": "3W6xEvEuvvsR",
    "papermill": {
     "duration": 0.042034,
     "end_time": "2023-11-09T01:33:56.871174",
     "exception": false,
     "start_time": "2023-11-09T01:33:56.829140",
     "status": "completed"
    },
    "tags": []
   },
   "source": [
    "## 前処理\n",
    "- データの中身を確認したところで、次はデータの前処理を行っていきます。\n",
    "\n",
    "- 前処理が必要な理由として以下のようなことが挙げられます。\n",
    "  1. 機械学習のモデルは文字列データではなく数値データを渡す必要があるため(モデルによっては文字列データでも利用可能なものがあります **catboost**)\n",
    "  2. 欠損値があるデータだと学習ができないモデルが存在するため(モデルによっては欠損値があっても利用可能なものもあります)\n",
    "  3. 機械学習モデルの精度を向上させるため  \n",
    "  etc\n"
   ]
  },
  {
   "cell_type": "markdown",
   "id": "7bef3b85",
   "metadata": {
    "id": "UkGEpg5y0H2M",
    "papermill": {
     "duration": 0.041688,
     "end_time": "2023-11-09T01:33:56.955349",
     "exception": false,
     "start_time": "2023-11-09T01:33:56.913661",
     "status": "completed"
    },
    "tags": []
   },
   "source": [
    "- 今回は以下の前処理の方法について簡単に紹介します。\n",
    "  - **①欠損値の処理(削除・補完)**\n",
    "      - 目的：データセットをモデルの学習に適した形式にする\n",
    "  - **②カテゴリデータのエンコーディング**\n",
    "      - 目的：文字列などのカテゴリデータを数値データに変換し、モデルが理解できる形式にする\n",
    "  - **③データのスケーリング(標準化・正規化)**\n",
    "    - 目的：特徴量の尺度を揃えることで、モデルの収束速度や性能を改善させる\n",
    "  - **④特徴量選択・生成**\n",
    "    - 目的：特徴量同士を組み合わせることで新たな特徴量を作成したり、無関係な特徴量や冗長な特徴量を除外することで、モデルの品質や精度を向上させる"
   ]
  },
  {
   "cell_type": "markdown",
   "id": "9e2e12e7",
   "metadata": {
    "id": "UwsbQWFgFEzU",
    "papermill": {
     "duration": 0.042117,
     "end_time": "2023-11-09T01:33:57.040199",
     "exception": false,
     "start_time": "2023-11-09T01:33:56.998082",
     "status": "completed"
    },
    "tags": []
   },
   "source": [
    "### ①欠損値の処理(削除・補完)\n",
    "- AIモデルが学習できるようにするために欠損値(null)があるデータを変換、もしくは削除をします。\n",
    "- ただ欠損値の処理をする際にはそのデータが「なぜ欠損しているか」について考える必要があります。nullに対して意味がない場合は特に気にせず補完・削除をして良いですが、欠損自体に意味がある場合はそこに考慮して処理を行う必要があります。\n",
    "\n",
    "\n",
    "- 意味のある欠損が生じるケース\n",
    "  1. **セレクションバイアス(選択性バイアス)**：データが特定の条件や基準に基づいて収集されるため、欠損が発生することがあります。例えば、ある年齢層の回答者がアンケートに回答しない傾向がある場合、年齢に関連した欠損が発生します。\n",
    "  2. **時間依存の欠損**：時系列データの場合、特定の期間において欠損が発生することがあります。例えば、気象データの収集で機器の故障が発生し、一定期間のデータが欠落する場合です。\n"
   ]
  },
  {
   "cell_type": "markdown",
   "id": "5f5b847c",
   "metadata": {
    "id": "nd2KXifEIlzz",
    "papermill": {
     "duration": 0.041845,
     "end_time": "2023-11-09T01:33:57.124324",
     "exception": false,
     "start_time": "2023-11-09T01:33:57.082479",
     "status": "completed"
    },
    "tags": []
   },
   "source": [
    "- 欠損値の処理にはpandasのdrop,dropna,fillna関数を利用すると簡単に実装することができます。\n",
    "  - drop：指定した行・列の削除ができます。\n",
    "  - dropna：欠損値を一括削除することができます。\n",
    "  - fillna：欠損値の穴埋めをすることができます。"
   ]
  },
  {
   "cell_type": "code",
   "execution_count": 22,
   "id": "c39184fa",
   "metadata": {
    "execution": {
     "iopub.execute_input": "2023-11-09T01:33:57.213352Z",
     "iopub.status.busy": "2023-11-09T01:33:57.212554Z",
     "iopub.status.idle": "2023-11-09T01:33:57.227477Z",
     "shell.execute_reply": "2023-11-09T01:33:57.226250Z"
    },
    "id": "NAoHZaf3tUc1",
    "outputId": "180050c8-3fc8-4b3b-de86-7dfb71b48ff6",
    "papermill": {
     "duration": 0.061169,
     "end_time": "2023-11-09T01:33:57.230255",
     "exception": false,
     "start_time": "2023-11-09T01:33:57.169086",
     "status": "completed"
    },
    "tags": []
   },
   "outputs": [
    {
     "data": {
      "text/html": [
       "<div>\n",
       "<style scoped>\n",
       "    .dataframe tbody tr th:only-of-type {\n",
       "        vertical-align: middle;\n",
       "    }\n",
       "\n",
       "    .dataframe tbody tr th {\n",
       "        vertical-align: top;\n",
       "    }\n",
       "\n",
       "    .dataframe thead th {\n",
       "        text-align: right;\n",
       "    }\n",
       "</style>\n",
       "<table border=\"1\" class=\"dataframe\">\n",
       "  <thead>\n",
       "    <tr style=\"text-align: right;\">\n",
       "      <th></th>\n",
       "      <th>name</th>\n",
       "      <th>age</th>\n",
       "      <th>state</th>\n",
       "      <th>other</th>\n",
       "    </tr>\n",
       "  </thead>\n",
       "  <tbody>\n",
       "    <tr>\n",
       "      <th>0</th>\n",
       "      <td>Sato</td>\n",
       "      <td>24.0</td>\n",
       "      <td>Tokyo</td>\n",
       "      <td>NaN</td>\n",
       "    </tr>\n",
       "    <tr>\n",
       "      <th>1</th>\n",
       "      <td>NaN</td>\n",
       "      <td>30.0</td>\n",
       "      <td>Osaka</td>\n",
       "      <td>NaN</td>\n",
       "    </tr>\n",
       "    <tr>\n",
       "      <th>2</th>\n",
       "      <td>Tanaka</td>\n",
       "      <td>NaN</td>\n",
       "      <td>Kyoto</td>\n",
       "      <td>NaN</td>\n",
       "    </tr>\n",
       "  </tbody>\n",
       "</table>\n",
       "</div>"
      ],
      "text/plain": [
       "     name   age  state  other\n",
       "0    Sato  24.0  Tokyo    NaN\n",
       "1     NaN  30.0  Osaka    NaN\n",
       "2  Tanaka   NaN  Kyoto    NaN"
      ]
     },
     "execution_count": 22,
     "metadata": {},
     "output_type": "execute_result"
    }
   ],
   "source": [
    "# 元データに欠損が存在しないためダミーデータを作成します\n",
    "d = {'name': [\"Sato\", np.nan, \"Tanaka\"], 'age': [24, 30, np.nan],\n",
    "     'state': [\"Tokyo\", \"Osaka\", \"Kyoto\"], 'other': [np.nan, np.nan, np.nan]}\n",
    "data = pd.DataFrame(d)\n",
    "data"
   ]
  },
  {
   "cell_type": "code",
   "execution_count": 23,
   "id": "1fb878f5",
   "metadata": {
    "execution": {
     "iopub.execute_input": "2023-11-09T01:33:57.316631Z",
     "iopub.status.busy": "2023-11-09T01:33:57.316146Z",
     "iopub.status.idle": "2023-11-09T01:33:57.324959Z",
     "shell.execute_reply": "2023-11-09T01:33:57.323937Z"
    },
    "id": "WRwlEih-KjUu",
    "outputId": "588b942f-fa81-47bd-f9c4-409f463401a9",
    "papermill": {
     "duration": 0.055338,
     "end_time": "2023-11-09T01:33:57.327480",
     "exception": false,
     "start_time": "2023-11-09T01:33:57.272142",
     "status": "completed"
    },
    "tags": []
   },
   "outputs": [
    {
     "data": {
      "text/plain": [
       "name     1\n",
       "age      1\n",
       "state    0\n",
       "other    3\n",
       "dtype: int64"
      ]
     },
     "execution_count": 23,
     "metadata": {},
     "output_type": "execute_result"
    }
   ],
   "source": [
    "# 列ごとの欠損値の個数を表示\n",
    "# isnull関数とsum関数を利用することで列ごとの欠損数が分かります\n",
    "\n",
    "data.isnull().sum()"
   ]
  },
  {
   "cell_type": "code",
   "execution_count": 24,
   "id": "6baca234",
   "metadata": {
    "execution": {
     "iopub.execute_input": "2023-11-09T01:33:57.415329Z",
     "iopub.status.busy": "2023-11-09T01:33:57.414106Z",
     "iopub.status.idle": "2023-11-09T01:33:57.428060Z",
     "shell.execute_reply": "2023-11-09T01:33:57.426850Z"
    },
    "id": "d68KXVsYMbh9",
    "outputId": "9fe9324c-38c8-405d-e432-6c1484c455b7",
    "papermill": {
     "duration": 0.060011,
     "end_time": "2023-11-09T01:33:57.430410",
     "exception": false,
     "start_time": "2023-11-09T01:33:57.370399",
     "status": "completed"
    },
    "tags": []
   },
   "outputs": [
    {
     "data": {
      "text/html": [
       "<div>\n",
       "<style scoped>\n",
       "    .dataframe tbody tr th:only-of-type {\n",
       "        vertical-align: middle;\n",
       "    }\n",
       "\n",
       "    .dataframe tbody tr th {\n",
       "        vertical-align: top;\n",
       "    }\n",
       "\n",
       "    .dataframe thead th {\n",
       "        text-align: right;\n",
       "    }\n",
       "</style>\n",
       "<table border=\"1\" class=\"dataframe\">\n",
       "  <thead>\n",
       "    <tr style=\"text-align: right;\">\n",
       "      <th></th>\n",
       "      <th>name</th>\n",
       "      <th>age</th>\n",
       "      <th>state</th>\n",
       "      <th>other</th>\n",
       "    </tr>\n",
       "  </thead>\n",
       "  <tbody>\n",
       "    <tr>\n",
       "      <th>0</th>\n",
       "      <td>Sato</td>\n",
       "      <td>24.0</td>\n",
       "      <td>Tokyo</td>\n",
       "      <td>NaN</td>\n",
       "    </tr>\n",
       "    <tr>\n",
       "      <th>2</th>\n",
       "      <td>Tanaka</td>\n",
       "      <td>NaN</td>\n",
       "      <td>Kyoto</td>\n",
       "      <td>NaN</td>\n",
       "    </tr>\n",
       "  </tbody>\n",
       "</table>\n",
       "</div>"
      ],
      "text/plain": [
       "     name   age  state  other\n",
       "0    Sato  24.0  Tokyo    NaN\n",
       "2  Tanaka   NaN  Kyoto    NaN"
      ]
     },
     "execution_count": 24,
     "metadata": {},
     "output_type": "execute_result"
    }
   ],
   "source": [
    "# drop関数を用いて2行目を削除してみます\n",
    "data.drop(index=1)"
   ]
  },
  {
   "cell_type": "code",
   "execution_count": 25,
   "id": "79b0b0be",
   "metadata": {
    "execution": {
     "iopub.execute_input": "2023-11-09T01:33:57.517131Z",
     "iopub.status.busy": "2023-11-09T01:33:57.516714Z",
     "iopub.status.idle": "2023-11-09T01:33:57.532227Z",
     "shell.execute_reply": "2023-11-09T01:33:57.531022Z"
    },
    "id": "T0pR_PWcLKAL",
    "outputId": "8a3b372a-f654-451b-b4e3-c0d164329ad1",
    "papermill": {
     "duration": 0.061631,
     "end_time": "2023-11-09T01:33:57.534651",
     "exception": false,
     "start_time": "2023-11-09T01:33:57.473020",
     "status": "completed"
    },
    "tags": []
   },
   "outputs": [
    {
     "data": {
      "text/html": [
       "<div>\n",
       "<style scoped>\n",
       "    .dataframe tbody tr th:only-of-type {\n",
       "        vertical-align: middle;\n",
       "    }\n",
       "\n",
       "    .dataframe tbody tr th {\n",
       "        vertical-align: top;\n",
       "    }\n",
       "\n",
       "    .dataframe thead th {\n",
       "        text-align: right;\n",
       "    }\n",
       "</style>\n",
       "<table border=\"1\" class=\"dataframe\">\n",
       "  <thead>\n",
       "    <tr style=\"text-align: right;\">\n",
       "      <th></th>\n",
       "      <th>name</th>\n",
       "      <th>age</th>\n",
       "      <th>state</th>\n",
       "    </tr>\n",
       "  </thead>\n",
       "  <tbody>\n",
       "    <tr>\n",
       "      <th>0</th>\n",
       "      <td>Sato</td>\n",
       "      <td>24.0</td>\n",
       "      <td>Tokyo</td>\n",
       "    </tr>\n",
       "    <tr>\n",
       "      <th>1</th>\n",
       "      <td>NaN</td>\n",
       "      <td>30.0</td>\n",
       "      <td>Osaka</td>\n",
       "    </tr>\n",
       "    <tr>\n",
       "      <th>2</th>\n",
       "      <td>Tanaka</td>\n",
       "      <td>NaN</td>\n",
       "      <td>Kyoto</td>\n",
       "    </tr>\n",
       "  </tbody>\n",
       "</table>\n",
       "</div>"
      ],
      "text/plain": [
       "     name   age  state\n",
       "0    Sato  24.0  Tokyo\n",
       "1     NaN  30.0  Osaka\n",
       "2  Tanaka   NaN  Kyoto"
      ]
     },
     "execution_count": 25,
     "metadata": {},
     "output_type": "execute_result"
    }
   ],
   "source": [
    "# drop関数を用いてother列を削除してみます\n",
    "data.drop(columns=\"other\")"
   ]
  },
  {
   "cell_type": "code",
   "execution_count": 26,
   "id": "4fbe9392",
   "metadata": {
    "execution": {
     "iopub.execute_input": "2023-11-09T01:33:57.622161Z",
     "iopub.status.busy": "2023-11-09T01:33:57.621736Z",
     "iopub.status.idle": "2023-11-09T01:33:57.634450Z",
     "shell.execute_reply": "2023-11-09T01:33:57.633613Z"
    },
    "id": "bFCEurLwL9oj",
    "outputId": "12617ae3-7942-4491-cb27-ad5399137da5",
    "papermill": {
     "duration": 0.058882,
     "end_time": "2023-11-09T01:33:57.636781",
     "exception": false,
     "start_time": "2023-11-09T01:33:57.577899",
     "status": "completed"
    },
    "tags": []
   },
   "outputs": [
    {
     "data": {
      "text/html": [
       "<div>\n",
       "<style scoped>\n",
       "    .dataframe tbody tr th:only-of-type {\n",
       "        vertical-align: middle;\n",
       "    }\n",
       "\n",
       "    .dataframe tbody tr th {\n",
       "        vertical-align: top;\n",
       "    }\n",
       "\n",
       "    .dataframe thead th {\n",
       "        text-align: right;\n",
       "    }\n",
       "</style>\n",
       "<table border=\"1\" class=\"dataframe\">\n",
       "  <thead>\n",
       "    <tr style=\"text-align: right;\">\n",
       "      <th></th>\n",
       "      <th>name</th>\n",
       "      <th>age</th>\n",
       "      <th>state</th>\n",
       "      <th>other</th>\n",
       "    </tr>\n",
       "  </thead>\n",
       "  <tbody>\n",
       "  </tbody>\n",
       "</table>\n",
       "</div>"
      ],
      "text/plain": [
       "Empty DataFrame\n",
       "Columns: [name, age, state, other]\n",
       "Index: []"
      ]
     },
     "execution_count": 26,
     "metadata": {},
     "output_type": "execute_result"
    }
   ],
   "source": [
    "# dropna関数を用いて欠損値がある行をまとめて削除してみます\n",
    "# axis=0で行、axis=1で列を指定できます。\n",
    "data.dropna(axis=0)"
   ]
  },
  {
   "cell_type": "code",
   "execution_count": 27,
   "id": "59d3fb2b",
   "metadata": {
    "execution": {
     "iopub.execute_input": "2023-11-09T01:33:57.726102Z",
     "iopub.status.busy": "2023-11-09T01:33:57.725684Z",
     "iopub.status.idle": "2023-11-09T01:33:57.735544Z",
     "shell.execute_reply": "2023-11-09T01:33:57.734736Z"
    },
    "id": "ozv-NhsbM3CS",
    "outputId": "d2a981b2-b23a-43cd-886f-532f85e021bf",
    "papermill": {
     "duration": 0.057897,
     "end_time": "2023-11-09T01:33:57.737878",
     "exception": false,
     "start_time": "2023-11-09T01:33:57.679981",
     "status": "completed"
    },
    "tags": []
   },
   "outputs": [
    {
     "data": {
      "text/html": [
       "<div>\n",
       "<style scoped>\n",
       "    .dataframe tbody tr th:only-of-type {\n",
       "        vertical-align: middle;\n",
       "    }\n",
       "\n",
       "    .dataframe tbody tr th {\n",
       "        vertical-align: top;\n",
       "    }\n",
       "\n",
       "    .dataframe thead th {\n",
       "        text-align: right;\n",
       "    }\n",
       "</style>\n",
       "<table border=\"1\" class=\"dataframe\">\n",
       "  <thead>\n",
       "    <tr style=\"text-align: right;\">\n",
       "      <th></th>\n",
       "      <th>state</th>\n",
       "    </tr>\n",
       "  </thead>\n",
       "  <tbody>\n",
       "    <tr>\n",
       "      <th>0</th>\n",
       "      <td>Tokyo</td>\n",
       "    </tr>\n",
       "    <tr>\n",
       "      <th>1</th>\n",
       "      <td>Osaka</td>\n",
       "    </tr>\n",
       "    <tr>\n",
       "      <th>2</th>\n",
       "      <td>Kyoto</td>\n",
       "    </tr>\n",
       "  </tbody>\n",
       "</table>\n",
       "</div>"
      ],
      "text/plain": [
       "   state\n",
       "0  Tokyo\n",
       "1  Osaka\n",
       "2  Kyoto"
      ]
     },
     "execution_count": 27,
     "metadata": {},
     "output_type": "execute_result"
    }
   ],
   "source": [
    "# 欠損値が存在する列をまとめて削除\n",
    "data.dropna(axis=1)"
   ]
  },
  {
   "cell_type": "code",
   "execution_count": 28,
   "id": "9d450740",
   "metadata": {
    "execution": {
     "iopub.execute_input": "2023-11-09T01:33:57.826427Z",
     "iopub.status.busy": "2023-11-09T01:33:57.826014Z",
     "iopub.status.idle": "2023-11-09T01:33:57.835641Z",
     "shell.execute_reply": "2023-11-09T01:33:57.834560Z"
    },
    "id": "_2Sw9cbYNLgf",
    "outputId": "6e949f78-a037-46ec-c31f-df1350131122",
    "papermill": {
     "duration": 0.056999,
     "end_time": "2023-11-09T01:33:57.837988",
     "exception": false,
     "start_time": "2023-11-09T01:33:57.780989",
     "status": "completed"
    },
    "tags": []
   },
   "outputs": [
    {
     "data": {
      "text/plain": [
       "0    24.0\n",
       "1    30.0\n",
       "2    27.0\n",
       "Name: age, dtype: float64"
      ]
     },
     "execution_count": 28,
     "metadata": {},
     "output_type": "execute_result"
    }
   ],
   "source": [
    "# fillna関数を使ってage列の欠損値に平均値を代入してみます\n",
    "data['age'].fillna(data['age'].mean())"
   ]
  },
  {
   "cell_type": "code",
   "execution_count": 29,
   "id": "04b6e38d",
   "metadata": {
    "execution": {
     "iopub.execute_input": "2023-11-09T01:33:57.930473Z",
     "iopub.status.busy": "2023-11-09T01:33:57.930075Z",
     "iopub.status.idle": "2023-11-09T01:33:57.938874Z",
     "shell.execute_reply": "2023-11-09T01:33:57.937726Z"
    },
    "id": "x5puIH48NpOe",
    "outputId": "fa6649bd-d9e2-42db-a36d-c5e4ae3d5be5",
    "papermill": {
     "duration": 0.060134,
     "end_time": "2023-11-09T01:33:57.941549",
     "exception": false,
     "start_time": "2023-11-09T01:33:57.881415",
     "status": "completed"
    },
    "tags": []
   },
   "outputs": [
    {
     "data": {
      "text/plain": [
       "0    その他\n",
       "1    その他\n",
       "2    その他\n",
       "Name: other, dtype: object"
      ]
     },
     "execution_count": 29,
     "metadata": {},
     "output_type": "execute_result"
    }
   ],
   "source": [
    "# fillna関数を使ってother列に「その他」を代入してみます(文字列も代入可)\n",
    "data['other'].fillna(\"その他\")"
   ]
  },
  {
   "cell_type": "markdown",
   "id": "fe77fde2",
   "metadata": {
    "id": "RjET-GVFOT47",
    "papermill": {
     "duration": 0.042643,
     "end_time": "2023-11-09T01:33:58.027155",
     "exception": false,
     "start_time": "2023-11-09T01:33:57.984512",
     "status": "completed"
    },
    "tags": []
   },
   "source": [
    "### ②カテゴリデータのエンコーディング\n",
    "- 文字列型や日付型などのカテゴリ変数は多くの機械学習の手法においてそのまま分析に活用することはできません。そこでカテゴリカルデータを数値データに変換するエンコーディング処理を行う必要があります。\n",
    "\n",
    "- 主なエンコーディングの手法として下記があります\n",
    "  1. **One-hot Encding**：各カテゴリをバイナリ変換(0または1)に変換する手法。例えば'赤'、'青'、'黄'というカテゴリがある場合、赤=[1,, 0]、青=[0, 1, 0]、黄=[0, 0, 1]のようになります。\n",
    "  2. **Label Encoding**：各カテゴリに一意の整数値を割り当てる手法。例えば'赤'、'青'、'黄'というカテゴリがある場合、それぞれに1、2、3という整数が割り当てられます。\n",
    "  3. **Count Encoding(Frequency Encoding)**：カテゴリが出現する回数でエンコードする手法。カテゴリの頻度に意味がある場合に役立ちます。\n",
    "  4. **Target Encoding**：ラベルごとに目的変数の統計量(通常は平均値)を計算し、その値を変数として利用する手法。データによっては強力ですが、目的変数をエンコードに利用するためリークの問題があり取り扱いが難しい手法です。"
   ]
  },
  {
   "cell_type": "markdown",
   "id": "45675532",
   "metadata": {
    "id": "lqZo0jn3cbaJ",
    "papermill": {
     "duration": 0.042853,
     "end_time": "2023-11-09T01:33:58.112118",
     "exception": false,
     "start_time": "2023-11-09T01:33:58.069265",
     "status": "completed"
    },
    "tags": []
   },
   "source": [
    "- 今回の講義ではOne-hot EncodingとLabel Encodingを使ってみます！"
   ]
  },
  {
   "cell_type": "code",
   "execution_count": 30,
   "id": "8f0ad19d",
   "metadata": {
    "execution": {
     "iopub.execute_input": "2023-11-09T01:33:58.200466Z",
     "iopub.status.busy": "2023-11-09T01:33:58.200056Z",
     "iopub.status.idle": "2023-11-09T01:33:58.211321Z",
     "shell.execute_reply": "2023-11-09T01:33:58.210496Z"
    },
    "id": "zGOXNkfJOBB8",
    "outputId": "a7337c48-61d8-411d-cac2-8d6afcc010cd",
    "papermill": {
     "duration": 0.058111,
     "end_time": "2023-11-09T01:33:58.213416",
     "exception": false,
     "start_time": "2023-11-09T01:33:58.155305",
     "status": "completed"
    },
    "tags": []
   },
   "outputs": [
    {
     "data": {
      "text/html": [
       "<div>\n",
       "<style scoped>\n",
       "    .dataframe tbody tr th:only-of-type {\n",
       "        vertical-align: middle;\n",
       "    }\n",
       "\n",
       "    .dataframe tbody tr th {\n",
       "        vertical-align: top;\n",
       "    }\n",
       "\n",
       "    .dataframe thead th {\n",
       "        text-align: right;\n",
       "    }\n",
       "</style>\n",
       "<table border=\"1\" class=\"dataframe\">\n",
       "  <thead>\n",
       "    <tr style=\"text-align: right;\">\n",
       "      <th></th>\n",
       "      <th>name</th>\n",
       "      <th>age</th>\n",
       "    </tr>\n",
       "  </thead>\n",
       "  <tbody>\n",
       "    <tr>\n",
       "      <th>0</th>\n",
       "      <td>Sato</td>\n",
       "      <td>24</td>\n",
       "    </tr>\n",
       "    <tr>\n",
       "      <th>1</th>\n",
       "      <td>Suzuki</td>\n",
       "      <td>30</td>\n",
       "    </tr>\n",
       "    <tr>\n",
       "      <th>2</th>\n",
       "      <td>Tanaka</td>\n",
       "      <td>40</td>\n",
       "    </tr>\n",
       "    <tr>\n",
       "      <th>3</th>\n",
       "      <td>Sato</td>\n",
       "      <td>25</td>\n",
       "    </tr>\n",
       "  </tbody>\n",
       "</table>\n",
       "</div>"
      ],
      "text/plain": [
       "     name  age\n",
       "0    Sato   24\n",
       "1  Suzuki   30\n",
       "2  Tanaka   40\n",
       "3    Sato   25"
      ]
     },
     "execution_count": 30,
     "metadata": {},
     "output_type": "execute_result"
    }
   ],
   "source": [
    "# 元データにカテゴリデータが存在しないためダミーデータを作成します\n",
    "d = {'name': [\"Sato\", \"Suzuki\", \"Tanaka\", \"Sato\"], 'age': [24, 30, 40, 25]}\n",
    "data = pd.DataFrame(d)\n",
    "data"
   ]
  },
  {
   "cell_type": "code",
   "execution_count": 31,
   "id": "08411846",
   "metadata": {
    "execution": {
     "iopub.execute_input": "2023-11-09T01:33:58.302084Z",
     "iopub.status.busy": "2023-11-09T01:33:58.301635Z",
     "iopub.status.idle": "2023-11-09T01:33:58.314613Z",
     "shell.execute_reply": "2023-11-09T01:33:58.313709Z"
    },
    "id": "OsPWW7OgdE3s",
    "outputId": "5ca4a9f2-5443-4430-8d4a-275f55ac16a2",
    "papermill": {
     "duration": 0.060279,
     "end_time": "2023-11-09T01:33:58.317129",
     "exception": false,
     "start_time": "2023-11-09T01:33:58.256850",
     "status": "completed"
    },
    "tags": []
   },
   "outputs": [
    {
     "data": {
      "text/html": [
       "<div>\n",
       "<style scoped>\n",
       "    .dataframe tbody tr th:only-of-type {\n",
       "        vertical-align: middle;\n",
       "    }\n",
       "\n",
       "    .dataframe tbody tr th {\n",
       "        vertical-align: top;\n",
       "    }\n",
       "\n",
       "    .dataframe thead th {\n",
       "        text-align: right;\n",
       "    }\n",
       "</style>\n",
       "<table border=\"1\" class=\"dataframe\">\n",
       "  <thead>\n",
       "    <tr style=\"text-align: right;\">\n",
       "      <th></th>\n",
       "      <th>Sato</th>\n",
       "      <th>Suzuki</th>\n",
       "      <th>Tanaka</th>\n",
       "    </tr>\n",
       "  </thead>\n",
       "  <tbody>\n",
       "    <tr>\n",
       "      <th>0</th>\n",
       "      <td>True</td>\n",
       "      <td>False</td>\n",
       "      <td>False</td>\n",
       "    </tr>\n",
       "    <tr>\n",
       "      <th>1</th>\n",
       "      <td>False</td>\n",
       "      <td>True</td>\n",
       "      <td>False</td>\n",
       "    </tr>\n",
       "    <tr>\n",
       "      <th>2</th>\n",
       "      <td>False</td>\n",
       "      <td>False</td>\n",
       "      <td>True</td>\n",
       "    </tr>\n",
       "    <tr>\n",
       "      <th>3</th>\n",
       "      <td>True</td>\n",
       "      <td>False</td>\n",
       "      <td>False</td>\n",
       "    </tr>\n",
       "  </tbody>\n",
       "</table>\n",
       "</div>"
      ],
      "text/plain": [
       "    Sato  Suzuki  Tanaka\n",
       "0   True   False   False\n",
       "1  False    True   False\n",
       "2  False   False    True\n",
       "3   True   False   False"
      ]
     },
     "execution_count": 31,
     "metadata": {},
     "output_type": "execute_result"
    }
   ],
   "source": [
    "# One-hot Encodingの実装\n",
    "# pandasのget_dummiesを利用します\n",
    "\n",
    "pd.get_dummies(data['name'])"
   ]
  },
  {
   "cell_type": "markdown",
   "id": "a8771cda",
   "metadata": {
    "id": "DF95GcQBidRm",
    "papermill": {
     "duration": 0.043496,
     "end_time": "2023-11-09T01:33:58.405880",
     "exception": false,
     "start_time": "2023-11-09T01:33:58.362384",
     "status": "completed"
    },
    "tags": []
   },
   "source": [
    "- 多重共線性を防ぐために、**drop_firstオプションをTrue**に設定することをお勧めします。\n",
    "  - **多重共線性**：説明変数間に高い相関がある場合、線形回帰モデルなどの統計モデルで回帰係数の推定が不安定になり、モデルの解釈が難しくなる現象"
   ]
  },
  {
   "cell_type": "markdown",
   "id": "fdb318d6",
   "metadata": {
    "id": "qmCejM7kizH2",
    "papermill": {
     "duration": 0.043198,
     "end_time": "2023-11-09T01:33:58.492604",
     "exception": false,
     "start_time": "2023-11-09T01:33:58.449406",
     "status": "completed"
    },
    "tags": []
   },
   "source": [
    "上記の例では、Suzuki=0、Tanaka=0の場合、必ずSato=1となるため、多重共線性が発生します。   \n",
    "この問題を解決するために、バイナリ列のうち1つを削除する方法があります。  \n",
    "例えば、3つのカテゴリが存在する場合、2つのカテゴリ分の列があれば、残りのカテゴリは他の2つのカテゴリの値がそれぞれ0であることで表現できます。  \n",
    "下記の例では、SatoはSuzuki=0、Tanaka=0で表現されています。"
   ]
  },
  {
   "cell_type": "code",
   "execution_count": 32,
   "id": "9375e18a",
   "metadata": {
    "execution": {
     "iopub.execute_input": "2023-11-09T01:33:58.584627Z",
     "iopub.status.busy": "2023-11-09T01:33:58.584203Z",
     "iopub.status.idle": "2023-11-09T01:33:58.595466Z",
     "shell.execute_reply": "2023-11-09T01:33:58.594605Z"
    },
    "id": "7WbQQSKBdc7T",
    "outputId": "b877b75f-79ea-4e2c-bcce-03200e6f980a",
    "papermill": {
     "duration": 0.059552,
     "end_time": "2023-11-09T01:33:58.597583",
     "exception": false,
     "start_time": "2023-11-09T01:33:58.538031",
     "status": "completed"
    },
    "tags": []
   },
   "outputs": [
    {
     "data": {
      "text/html": [
       "<div>\n",
       "<style scoped>\n",
       "    .dataframe tbody tr th:only-of-type {\n",
       "        vertical-align: middle;\n",
       "    }\n",
       "\n",
       "    .dataframe tbody tr th {\n",
       "        vertical-align: top;\n",
       "    }\n",
       "\n",
       "    .dataframe thead th {\n",
       "        text-align: right;\n",
       "    }\n",
       "</style>\n",
       "<table border=\"1\" class=\"dataframe\">\n",
       "  <thead>\n",
       "    <tr style=\"text-align: right;\">\n",
       "      <th></th>\n",
       "      <th>Suzuki</th>\n",
       "      <th>Tanaka</th>\n",
       "    </tr>\n",
       "  </thead>\n",
       "  <tbody>\n",
       "    <tr>\n",
       "      <th>0</th>\n",
       "      <td>False</td>\n",
       "      <td>False</td>\n",
       "    </tr>\n",
       "    <tr>\n",
       "      <th>1</th>\n",
       "      <td>True</td>\n",
       "      <td>False</td>\n",
       "    </tr>\n",
       "    <tr>\n",
       "      <th>2</th>\n",
       "      <td>False</td>\n",
       "      <td>True</td>\n",
       "    </tr>\n",
       "    <tr>\n",
       "      <th>3</th>\n",
       "      <td>False</td>\n",
       "      <td>False</td>\n",
       "    </tr>\n",
       "  </tbody>\n",
       "</table>\n",
       "</div>"
      ],
      "text/plain": [
       "   Suzuki  Tanaka\n",
       "0   False   False\n",
       "1    True   False\n",
       "2   False    True\n",
       "3   False   False"
      ]
     },
     "execution_count": 32,
     "metadata": {},
     "output_type": "execute_result"
    }
   ],
   "source": [
    "# drop_first=Trueを追加\n",
    "pd.get_dummies(data['name'], drop_first=True)"
   ]
  },
  {
   "cell_type": "code",
   "execution_count": 33,
   "id": "0fe3411f",
   "metadata": {
    "execution": {
     "iopub.execute_input": "2023-11-09T01:33:58.687941Z",
     "iopub.status.busy": "2023-11-09T01:33:58.687473Z",
     "iopub.status.idle": "2023-11-09T01:33:58.700831Z",
     "shell.execute_reply": "2023-11-09T01:33:58.699727Z"
    },
    "id": "cMAeOMc8d7oX",
    "outputId": "c725584c-42ee-4c6e-8349-1240c67476a8",
    "papermill": {
     "duration": 0.060927,
     "end_time": "2023-11-09T01:33:58.703095",
     "exception": false,
     "start_time": "2023-11-09T01:33:58.642168",
     "status": "completed"
    },
    "tags": []
   },
   "outputs": [
    {
     "data": {
      "text/html": [
       "<div>\n",
       "<style scoped>\n",
       "    .dataframe tbody tr th:only-of-type {\n",
       "        vertical-align: middle;\n",
       "    }\n",
       "\n",
       "    .dataframe tbody tr th {\n",
       "        vertical-align: top;\n",
       "    }\n",
       "\n",
       "    .dataframe thead th {\n",
       "        text-align: right;\n",
       "    }\n",
       "</style>\n",
       "<table border=\"1\" class=\"dataframe\">\n",
       "  <thead>\n",
       "    <tr style=\"text-align: right;\">\n",
       "      <th></th>\n",
       "      <th>name</th>\n",
       "      <th>age</th>\n",
       "      <th>name_変換後</th>\n",
       "    </tr>\n",
       "  </thead>\n",
       "  <tbody>\n",
       "    <tr>\n",
       "      <th>0</th>\n",
       "      <td>Sato</td>\n",
       "      <td>24</td>\n",
       "      <td>0</td>\n",
       "    </tr>\n",
       "    <tr>\n",
       "      <th>1</th>\n",
       "      <td>Suzuki</td>\n",
       "      <td>30</td>\n",
       "      <td>1</td>\n",
       "    </tr>\n",
       "    <tr>\n",
       "      <th>2</th>\n",
       "      <td>Tanaka</td>\n",
       "      <td>40</td>\n",
       "      <td>2</td>\n",
       "    </tr>\n",
       "    <tr>\n",
       "      <th>3</th>\n",
       "      <td>Sato</td>\n",
       "      <td>25</td>\n",
       "      <td>0</td>\n",
       "    </tr>\n",
       "  </tbody>\n",
       "</table>\n",
       "</div>"
      ],
      "text/plain": [
       "     name  age  name_変換後\n",
       "0    Sato   24         0\n",
       "1  Suzuki   30         1\n",
       "2  Tanaka   40         2\n",
       "3    Sato   25         0"
      ]
     },
     "execution_count": 33,
     "metadata": {},
     "output_type": "execute_result"
    }
   ],
   "source": [
    "# Label Encodingの実装\n",
    "# scikit-learnのLabelEncoderを利用します\n",
    "# Label Encodingは列の中身を辞書順に並び替えた順で、「0」から始まる整数に置き換えます\n",
    "\n",
    "from sklearn.preprocessing import LabelEncoder\n",
    "\n",
    "# LabelEncoderのインスタンス作成\n",
    "le = LabelEncoder()\n",
    "\n",
    "# LabelEncoderを使いたい対象のデータの読み込み\n",
    "le.fit(data['name'])\n",
    "\n",
    "# transformでデータの変換を実施\n",
    "data['name_変換後'] = le.transform(data['name'])\n",
    "data"
   ]
  },
  {
   "cell_type": "markdown",
   "id": "4ebd19af",
   "metadata": {
    "id": "ycStyTVUliPz",
    "papermill": {
     "duration": 0.04404,
     "end_time": "2023-11-09T01:33:58.792539",
     "exception": false,
     "start_time": "2023-11-09T01:33:58.748499",
     "status": "completed"
    },
    "tags": []
   },
   "source": [
    "**※Label Encoderの注意事項**\n",
    "- **決定木以外のアルゴリズムには使わない**ようにしましょう。\n",
    "- カテゴリ変数をLabel Encodingで数値変数にしてもその**数値変数には「数値的な意味」は存在しません！**\n",
    "  - 「Tanaka：2」が「Suzuki：1」の2倍大きいわけではありません。\n",
    "- 決定木であればあくまでその数字が何回出現したかで比較することができるので問題なく利用することができます。"
   ]
  },
  {
   "cell_type": "markdown",
   "id": "d05e467c",
   "metadata": {
    "id": "YNn0p1ppnnQd",
    "papermill": {
     "duration": 0.043805,
     "end_time": "2023-11-09T01:33:58.880358",
     "exception": false,
     "start_time": "2023-11-09T01:33:58.836553",
     "status": "completed"
    },
    "tags": []
   },
   "source": [
    "### ③データのスケーリング(標準化・正規化)\n",
    "- **スケーリング**：特徴量の取りうる値の範囲を変更することや、異なる特徴量間の尺度を統一すること\n",
    "- 機械学習モデルを作成する際に、スケーリングを行うべき場合もあれば、行わなくても問題ない場合もあります。  \n",
    "その判断基準は、**「特徴量の尺度の違いが機械学習アルゴリズムにどの程度影響を与えるか」**で決定できます。\n",
    "\n"
   ]
  },
  {
   "cell_type": "markdown",
   "id": "e096a61d",
   "metadata": {
    "id": "9nHfHoepqq9m",
    "papermill": {
     "duration": 0.043467,
     "end_time": "2023-11-09T01:33:58.967883",
     "exception": false,
     "start_time": "2023-11-09T01:33:58.924416",
     "status": "completed"
    },
    "tags": []
   },
   "source": [
    "|スケーリングが重要なアルゴリズム|スケーリングがあまり重要でないアルゴリズム|\n",
    "|-|-|\n",
    "|k-最近傍法 (k-Nearest Neighbors)|決定木 (Decision Trees)|\n",
    "|サポートベクターマシン (Support Vector Machines)|ランダムフォレスト (Random Forests)|\n",
    "|主成分分析 (Principal Component Analysis)|1世帯当たりの平均居室数|\n",
    "|k-平均法 (k-Means Clustering)|勾配ブースティング決定木(Gradient Boosting Decision Tree)|\n",
    "|ニューラルネットワーク (Neural Networks)|ナイーブベイズ (Naive Bayes)|\n",
    "|線形回帰 (Linear Regression)||\n",
    "|ロジスティック回帰 (Logistic Regression)||"
   ]
  },
  {
   "cell_type": "markdown",
   "id": "b9bff86e",
   "metadata": {
    "id": "SMNHMTQ0rf2c",
    "papermill": {
     "duration": 0.044077,
     "end_time": "2023-11-09T01:33:59.056061",
     "exception": false,
     "start_time": "2023-11-09T01:33:59.011984",
     "status": "completed"
    },
    "tags": []
   },
   "source": [
    "- 上記の表に示すように、特徴量スケーリングが重要なアルゴリズムは、主に**距離に基づいて計算するものや、勾配降下法を用いて最適化を行うもの**です。\n",
    "- 一方で、スケーリングがあまり重要でないアルゴリズムは、主に**決定木ベース**のアルゴリズムです。これらのアルゴリズムは、データの構造を利用して学習を行うため、特徴量の尺度の影響を受けにくいです。"
   ]
  },
  {
   "cell_type": "markdown",
   "id": "c00093f1",
   "metadata": {
    "id": "J3oeoBiJ9PUw",
    "papermill": {
     "duration": 0.043374,
     "end_time": "2023-11-09T01:33:59.143563",
     "exception": false,
     "start_time": "2023-11-09T01:33:59.100189",
     "status": "completed"
    },
    "tags": []
   },
   "source": [
    "スケーリングの代表的な手法として下記があります。  \n",
    "pythonでの実装例を見ながらそれぞれの特徴を見ていきましょう！\n",
    "\n",
    "- **正規化(Min-Max normalization)**\n",
    "- **標準化(standardization)**"
   ]
  },
  {
   "cell_type": "markdown",
   "id": "78063705",
   "metadata": {
    "id": "c8dOXfZn91s9",
    "papermill": {
     "duration": 0.044431,
     "end_time": "2023-11-09T01:33:59.232224",
     "exception": false,
     "start_time": "2023-11-09T01:33:59.187793",
     "status": "completed"
    },
    "tags": []
   },
   "source": [
    "- **正規化**：データの最大値と最小値が分かっている場合に有効で、データを0から1の範囲内にスケーリングする手法。\n",
    "    - 外れ値に弱いという特徴があり、大きい外れ値がある場合は標準化の方が優れています。"
   ]
  },
  {
   "cell_type": "markdown",
   "id": "72778fdf",
   "metadata": {
    "id": "gxF2p5lL912I",
    "papermill": {
     "duration": 0.04448,
     "end_time": "2023-11-09T01:33:59.320453",
     "exception": false,
     "start_time": "2023-11-09T01:33:59.275973",
     "status": "completed"
    },
    "tags": []
   },
   "source": [
    "正規化の式：\n",
    "$$\n",
    "x_{scaled} = \\frac{x - x_{min}}{x_{max} - x_{min}}\n",
    "$$\n"
   ]
  },
  {
   "cell_type": "code",
   "execution_count": 34,
   "id": "58cb6afe",
   "metadata": {
    "execution": {
     "iopub.execute_input": "2023-11-09T01:33:59.411432Z",
     "iopub.status.busy": "2023-11-09T01:33:59.411017Z",
     "iopub.status.idle": "2023-11-09T01:33:59.434278Z",
     "shell.execute_reply": "2023-11-09T01:33:59.433109Z"
    },
    "id": "Pfp-4C23BtLx",
    "outputId": "c89610f8-d612-4ddc-db39-476180a24858",
    "papermill": {
     "duration": 0.071916,
     "end_time": "2023-11-09T01:33:59.436591",
     "exception": false,
     "start_time": "2023-11-09T01:33:59.364675",
     "status": "completed"
    },
    "tags": []
   },
   "outputs": [
    {
     "data": {
      "text/html": [
       "<div>\n",
       "<style scoped>\n",
       "    .dataframe tbody tr th:only-of-type {\n",
       "        vertical-align: middle;\n",
       "    }\n",
       "\n",
       "    .dataframe tbody tr th {\n",
       "        vertical-align: top;\n",
       "    }\n",
       "\n",
       "    .dataframe thead th {\n",
       "        text-align: right;\n",
       "    }\n",
       "</style>\n",
       "<table border=\"1\" class=\"dataframe\">\n",
       "  <thead>\n",
       "    <tr style=\"text-align: right;\">\n",
       "      <th></th>\n",
       "      <th>id</th>\n",
       "      <th>MedInc</th>\n",
       "      <th>HouseAge</th>\n",
       "      <th>AveRooms</th>\n",
       "      <th>AveBedrms</th>\n",
       "      <th>Population</th>\n",
       "      <th>AveOccup</th>\n",
       "      <th>Latitude</th>\n",
       "      <th>Longitude</th>\n",
       "      <th>Household</th>\n",
       "      <th>AllRooms</th>\n",
       "      <th>AllBedrms</th>\n",
       "      <th>Price</th>\n",
       "    </tr>\n",
       "  </thead>\n",
       "  <tbody>\n",
       "    <tr>\n",
       "      <th>0</th>\n",
       "      <td>0</td>\n",
       "      <td>1.4817</td>\n",
       "      <td>6.0</td>\n",
       "      <td>4.443645</td>\n",
       "      <td>1.134293</td>\n",
       "      <td>1397.0</td>\n",
       "      <td>3.350120</td>\n",
       "      <td>36.77</td>\n",
       "      <td>-119.84</td>\n",
       "      <td>417.0</td>\n",
       "      <td>1853.0</td>\n",
       "      <td>473.0</td>\n",
       "      <td>0.720</td>\n",
       "    </tr>\n",
       "    <tr>\n",
       "      <th>1</th>\n",
       "      <td>1</td>\n",
       "      <td>6.9133</td>\n",
       "      <td>8.0</td>\n",
       "      <td>5.976471</td>\n",
       "      <td>1.026471</td>\n",
       "      <td>862.0</td>\n",
       "      <td>2.535294</td>\n",
       "      <td>33.68</td>\n",
       "      <td>-117.80</td>\n",
       "      <td>340.0</td>\n",
       "      <td>2032.0</td>\n",
       "      <td>349.0</td>\n",
       "      <td>2.741</td>\n",
       "    </tr>\n",
       "    <tr>\n",
       "      <th>2</th>\n",
       "      <td>2</td>\n",
       "      <td>1.5536</td>\n",
       "      <td>25.0</td>\n",
       "      <td>4.088785</td>\n",
       "      <td>1.000000</td>\n",
       "      <td>931.0</td>\n",
       "      <td>4.350467</td>\n",
       "      <td>36.60</td>\n",
       "      <td>-120.19</td>\n",
       "      <td>214.0</td>\n",
       "      <td>875.0</td>\n",
       "      <td>214.0</td>\n",
       "      <td>0.583</td>\n",
       "    </tr>\n",
       "    <tr>\n",
       "      <th>3</th>\n",
       "      <td>3</td>\n",
       "      <td>1.5284</td>\n",
       "      <td>31.0</td>\n",
       "      <td>2.740088</td>\n",
       "      <td>1.008811</td>\n",
       "      <td>597.0</td>\n",
       "      <td>2.629956</td>\n",
       "      <td>34.10</td>\n",
       "      <td>-118.32</td>\n",
       "      <td>227.0</td>\n",
       "      <td>622.0</td>\n",
       "      <td>229.0</td>\n",
       "      <td>2.000</td>\n",
       "    </tr>\n",
       "    <tr>\n",
       "      <th>4</th>\n",
       "      <td>4</td>\n",
       "      <td>4.0815</td>\n",
       "      <td>21.0</td>\n",
       "      <td>5.166667</td>\n",
       "      <td>1.002688</td>\n",
       "      <td>1130.0</td>\n",
       "      <td>3.037634</td>\n",
       "      <td>37.79</td>\n",
       "      <td>-121.23</td>\n",
       "      <td>372.0</td>\n",
       "      <td>1922.0</td>\n",
       "      <td>373.0</td>\n",
       "      <td>1.179</td>\n",
       "    </tr>\n",
       "  </tbody>\n",
       "</table>\n",
       "</div>"
      ],
      "text/plain": [
       "   id  MedInc  HouseAge  AveRooms  AveBedrms  Population  AveOccup  Latitude  \\\n",
       "0   0  1.4817       6.0  4.443645   1.134293      1397.0  3.350120     36.77   \n",
       "1   1  6.9133       8.0  5.976471   1.026471       862.0  2.535294     33.68   \n",
       "2   2  1.5536      25.0  4.088785   1.000000       931.0  4.350467     36.60   \n",
       "3   3  1.5284      31.0  2.740088   1.008811       597.0  2.629956     34.10   \n",
       "4   4  4.0815      21.0  5.166667   1.002688      1130.0  3.037634     37.79   \n",
       "\n",
       "   Longitude  Household  AllRooms  AllBedrms  Price  \n",
       "0    -119.84      417.0    1853.0      473.0  0.720  \n",
       "1    -117.80      340.0    2032.0      349.0  2.741  \n",
       "2    -120.19      214.0     875.0      214.0  0.583  \n",
       "3    -118.32      227.0     622.0      229.0  2.000  \n",
       "4    -121.23      372.0    1922.0      373.0  1.179  "
      ]
     },
     "execution_count": 34,
     "metadata": {},
     "output_type": "execute_result"
    }
   ],
   "source": [
    "# データセットを使って正規化の実装を行います\n",
    "# 改めてデータの確認\n",
    "train.head()"
   ]
  },
  {
   "cell_type": "code",
   "execution_count": 35,
   "id": "766af24d",
   "metadata": {
    "execution": {
     "iopub.execute_input": "2023-11-09T01:33:59.528962Z",
     "iopub.status.busy": "2023-11-09T01:33:59.527964Z",
     "iopub.status.idle": "2023-11-09T01:33:59.548393Z",
     "shell.execute_reply": "2023-11-09T01:33:59.547196Z"
    },
    "id": "0-Q8LONgCiec",
    "outputId": "0f4e072f-ff6f-4b29-c6b5-deeef07a7a3c",
    "papermill": {
     "duration": 0.069891,
     "end_time": "2023-11-09T01:33:59.551010",
     "exception": false,
     "start_time": "2023-11-09T01:33:59.481119",
     "status": "completed"
    },
    "tags": []
   },
   "outputs": [
    {
     "name": "stderr",
     "output_type": "stream",
     "text": [
      "/tmp/ipykernel_20/3924546163.py:13: SettingWithCopyWarning: \n",
      "A value is trying to be set on a copy of a slice from a DataFrame.\n",
      "Try using .loc[row_indexer,col_indexer] = value instead\n",
      "\n",
      "See the caveats in the documentation: https://pandas.pydata.org/pandas-docs/stable/user_guide/indexing.html#returning-a-view-versus-a-copy\n",
      "  min_max_df[\"正規化後_MedInc\"] = minmax_sc.fit_transform(min_max_df[\"MedInc\"].values.reshape(-1, 1))\n",
      "/tmp/ipykernel_20/3924546163.py:14: SettingWithCopyWarning: \n",
      "A value is trying to be set on a copy of a slice from a DataFrame.\n",
      "Try using .loc[row_indexer,col_indexer] = value instead\n",
      "\n",
      "See the caveats in the documentation: https://pandas.pydata.org/pandas-docs/stable/user_guide/indexing.html#returning-a-view-versus-a-copy\n",
      "  min_max_df[\"正規化後_Population\"] = minmax_sc.fit_transform(min_max_df[\"Population\"].values.reshape(-1, 1))\n"
     ]
    },
    {
     "data": {
      "text/html": [
       "<div>\n",
       "<style scoped>\n",
       "    .dataframe tbody tr th:only-of-type {\n",
       "        vertical-align: middle;\n",
       "    }\n",
       "\n",
       "    .dataframe tbody tr th {\n",
       "        vertical-align: top;\n",
       "    }\n",
       "\n",
       "    .dataframe thead th {\n",
       "        text-align: right;\n",
       "    }\n",
       "</style>\n",
       "<table border=\"1\" class=\"dataframe\">\n",
       "  <thead>\n",
       "    <tr style=\"text-align: right;\">\n",
       "      <th></th>\n",
       "      <th>MedInc</th>\n",
       "      <th>Population</th>\n",
       "      <th>正規化後_MedInc</th>\n",
       "      <th>正規化後_Population</th>\n",
       "    </tr>\n",
       "  </thead>\n",
       "  <tbody>\n",
       "    <tr>\n",
       "      <th>0</th>\n",
       "      <td>1.4817</td>\n",
       "      <td>1397.0</td>\n",
       "      <td>0.067709</td>\n",
       "      <td>0.039071</td>\n",
       "    </tr>\n",
       "    <tr>\n",
       "      <th>1</th>\n",
       "      <td>6.9133</td>\n",
       "      <td>862.0</td>\n",
       "      <td>0.442297</td>\n",
       "      <td>0.024076</td>\n",
       "    </tr>\n",
       "    <tr>\n",
       "      <th>2</th>\n",
       "      <td>1.5536</td>\n",
       "      <td>931.0</td>\n",
       "      <td>0.072668</td>\n",
       "      <td>0.026010</td>\n",
       "    </tr>\n",
       "    <tr>\n",
       "      <th>3</th>\n",
       "      <td>1.5284</td>\n",
       "      <td>597.0</td>\n",
       "      <td>0.070930</td>\n",
       "      <td>0.016648</td>\n",
       "    </tr>\n",
       "    <tr>\n",
       "      <th>4</th>\n",
       "      <td>4.0815</td>\n",
       "      <td>1130.0</td>\n",
       "      <td>0.247003</td>\n",
       "      <td>0.031587</td>\n",
       "    </tr>\n",
       "  </tbody>\n",
       "</table>\n",
       "</div>"
      ],
      "text/plain": [
       "   MedInc  Population  正規化後_MedInc  正規化後_Population\n",
       "0  1.4817      1397.0     0.067709         0.039071\n",
       "1  6.9133       862.0     0.442297         0.024076\n",
       "2  1.5536       931.0     0.072668         0.026010\n",
       "3  1.5284       597.0     0.070930         0.016648\n",
       "4  4.0815      1130.0     0.247003         0.031587"
      ]
     },
     "execution_count": 35,
     "metadata": {},
     "output_type": "execute_result"
    }
   ],
   "source": [
    "# MedIncとPopulationに対して正規化を行ってみます。\n",
    "\n",
    "# min-maxスケーリングのimport\n",
    "from sklearn.preprocessing import MinMaxScaler\n",
    "\n",
    "# MedIncとPopulationのデータの抽出\n",
    "min_max_df = train[[\"MedInc\", \"Population\"]]\n",
    "\n",
    "# MinMaxScalerのインスタンス化\n",
    "minmax_sc = MinMaxScaler()\n",
    "\n",
    "# transformで正規化の変換を実施\n",
    "min_max_df[\"正規化後_MedInc\"] = minmax_sc.fit_transform(min_max_df[\"MedInc\"].values.reshape(-1, 1))\n",
    "min_max_df[\"正規化後_Population\"] = minmax_sc.fit_transform(min_max_df[\"Population\"].values.reshape(-1, 1))\n",
    "\n",
    "# データの表示\n",
    "min_max_df.head()"
   ]
  },
  {
   "cell_type": "code",
   "execution_count": 36,
   "id": "7e0acc20",
   "metadata": {
    "execution": {
     "iopub.execute_input": "2023-11-09T01:33:59.646447Z",
     "iopub.status.busy": "2023-11-09T01:33:59.646021Z",
     "iopub.status.idle": "2023-11-09T01:33:59.667011Z",
     "shell.execute_reply": "2023-11-09T01:33:59.665827Z"
    },
    "id": "RSI_m9ECRtjF",
    "outputId": "d5a5b375-d611-461f-b269-32cafa71bf19",
    "papermill": {
     "duration": 0.070008,
     "end_time": "2023-11-09T01:33:59.669573",
     "exception": false,
     "start_time": "2023-11-09T01:33:59.599565",
     "status": "completed"
    },
    "tags": []
   },
   "outputs": [
    {
     "data": {
      "text/html": [
       "<div>\n",
       "<style scoped>\n",
       "    .dataframe tbody tr th:only-of-type {\n",
       "        vertical-align: middle;\n",
       "    }\n",
       "\n",
       "    .dataframe tbody tr th {\n",
       "        vertical-align: top;\n",
       "    }\n",
       "\n",
       "    .dataframe thead th {\n",
       "        text-align: right;\n",
       "    }\n",
       "</style>\n",
       "<table border=\"1\" class=\"dataframe\">\n",
       "  <thead>\n",
       "    <tr style=\"text-align: right;\">\n",
       "      <th></th>\n",
       "      <th>正規化後_MedInc</th>\n",
       "      <th>正規化後_Population</th>\n",
       "    </tr>\n",
       "  </thead>\n",
       "  <tbody>\n",
       "    <tr>\n",
       "      <th>count</th>\n",
       "      <td>16512.000000</td>\n",
       "      <td>16512.000000</td>\n",
       "    </tr>\n",
       "    <tr>\n",
       "      <th>mean</th>\n",
       "      <td>0.232010</td>\n",
       "      <td>0.040136</td>\n",
       "    </tr>\n",
       "    <tr>\n",
       "      <th>std</th>\n",
       "      <td>0.130567</td>\n",
       "      <td>0.032460</td>\n",
       "    </tr>\n",
       "    <tr>\n",
       "      <th>min</th>\n",
       "      <td>0.000000</td>\n",
       "      <td>0.000000</td>\n",
       "    </tr>\n",
       "    <tr>\n",
       "      <th>25%</th>\n",
       "      <td>0.142246</td>\n",
       "      <td>0.022002</td>\n",
       "    </tr>\n",
       "    <tr>\n",
       "      <th>50%</th>\n",
       "      <td>0.209059</td>\n",
       "      <td>0.032652</td>\n",
       "    </tr>\n",
       "    <tr>\n",
       "      <th>75%</th>\n",
       "      <td>0.291949</td>\n",
       "      <td>0.048628</td>\n",
       "    </tr>\n",
       "    <tr>\n",
       "      <th>max</th>\n",
       "      <td>1.000000</td>\n",
       "      <td>1.000000</td>\n",
       "    </tr>\n",
       "  </tbody>\n",
       "</table>\n",
       "</div>"
      ],
      "text/plain": [
       "        正規化後_MedInc  正規化後_Population\n",
       "count  16512.000000     16512.000000\n",
       "mean       0.232010         0.040136\n",
       "std        0.130567         0.032460\n",
       "min        0.000000         0.000000\n",
       "25%        0.142246         0.022002\n",
       "50%        0.209059         0.032652\n",
       "75%        0.291949         0.048628\n",
       "max        1.000000         1.000000"
      ]
     },
     "execution_count": 36,
     "metadata": {},
     "output_type": "execute_result"
    }
   ],
   "source": [
    "# データの最小値と最大値を確認\n",
    "min_max_df[[\"正規化後_MedInc\",\"正規化後_Population\"]].describe()"
   ]
  },
  {
   "cell_type": "code",
   "execution_count": 37,
   "id": "88a4b374",
   "metadata": {
    "execution": {
     "iopub.execute_input": "2023-11-09T01:33:59.770224Z",
     "iopub.status.busy": "2023-11-09T01:33:59.769581Z",
     "iopub.status.idle": "2023-11-09T01:34:01.090577Z",
     "shell.execute_reply": "2023-11-09T01:34:01.089315Z"
    },
    "id": "_GYtoRRhDjXQ",
    "outputId": "2c61037f-0ba7-46c5-9a52-2f47fa73809d",
    "papermill": {
     "duration": 1.377792,
     "end_time": "2023-11-09T01:34:01.093189",
     "exception": false,
     "start_time": "2023-11-09T01:33:59.715397",
     "status": "completed"
    },
    "tags": []
   },
   "outputs": [
    {
     "data": {
      "text/plain": [
       "array([[<Axes: title={'center': 'MedInc'}>,\n",
       "        <Axes: title={'center': 'Population'}>],\n",
       "       [<Axes: title={'center': '正規化後_MedInc'}>,\n",
       "        <Axes: title={'center': '正規化後_Population'}>]], dtype=object)"
      ]
     },
     "execution_count": 37,
     "metadata": {},
     "output_type": "execute_result"
    },
    {
     "name": "stderr",
     "output_type": "stream",
     "text": [
      "/opt/conda/lib/python3.10/site-packages/IPython/core/events.py:93: UserWarning: Glyph 27491 (\\N{CJK UNIFIED IDEOGRAPH-6B63}) missing from current font.\n",
      "  func(*args, **kwargs)\n",
      "/opt/conda/lib/python3.10/site-packages/IPython/core/events.py:93: UserWarning: Glyph 35215 (\\N{CJK UNIFIED IDEOGRAPH-898F}) missing from current font.\n",
      "  func(*args, **kwargs)\n",
      "/opt/conda/lib/python3.10/site-packages/IPython/core/events.py:93: UserWarning: Glyph 21270 (\\N{CJK UNIFIED IDEOGRAPH-5316}) missing from current font.\n",
      "  func(*args, **kwargs)\n",
      "/opt/conda/lib/python3.10/site-packages/IPython/core/events.py:93: UserWarning: Glyph 24460 (\\N{CJK UNIFIED IDEOGRAPH-5F8C}) missing from current font.\n",
      "  func(*args, **kwargs)\n",
      "/opt/conda/lib/python3.10/site-packages/IPython/core/pylabtools.py:152: UserWarning: Glyph 27491 (\\N{CJK UNIFIED IDEOGRAPH-6B63}) missing from current font.\n",
      "  fig.canvas.print_figure(bytes_io, **kw)\n",
      "/opt/conda/lib/python3.10/site-packages/IPython/core/pylabtools.py:152: UserWarning: Glyph 35215 (\\N{CJK UNIFIED IDEOGRAPH-898F}) missing from current font.\n",
      "  fig.canvas.print_figure(bytes_io, **kw)\n",
      "/opt/conda/lib/python3.10/site-packages/IPython/core/pylabtools.py:152: UserWarning: Glyph 21270 (\\N{CJK UNIFIED IDEOGRAPH-5316}) missing from current font.\n",
      "  fig.canvas.print_figure(bytes_io, **kw)\n",
      "/opt/conda/lib/python3.10/site-packages/IPython/core/pylabtools.py:152: UserWarning: Glyph 24460 (\\N{CJK UNIFIED IDEOGRAPH-5F8C}) missing from current font.\n",
      "  fig.canvas.print_figure(bytes_io, **kw)\n"
     ]
    },
    {
     "data": {
      "image/png": "[encoded data removed]",
      "text/plain": [
       "<Figure size 1500x1000 with 4 Axes>"
      ]
     },
     "metadata": {},
     "output_type": "display_data"
    }
   ],
   "source": [
    "# データの分布をヒストグラムで確認\n",
    "min_max_df.hist(bins=30, figsize=(15, 10))"
   ]
  },
  {
   "cell_type": "markdown",
   "id": "221e0cb6",
   "metadata": {
    "id": "MIerNZ6qMHXm",
    "papermill": {
     "duration": 0.046337,
     "end_time": "2023-11-09T01:34:01.187577",
     "exception": false,
     "start_time": "2023-11-09T01:34:01.141240",
     "status": "completed"
    },
    "tags": []
   },
   "source": [
    "- **標準化**：データが正規分布に従っている場合に有効で、データにおける平均を0、分散を1になるように値を変換する手法。\n",
    "    - データの最大値と最小値が不明確な場合でも用いることができるため、正規化よりも使用される場合が多いです。"
   ]
  },
  {
   "cell_type": "markdown",
   "id": "0ad1bd27",
   "metadata": {
    "id": "O2d9JfLWMoau",
    "papermill": {
     "duration": 0.046649,
     "end_time": "2023-11-09T01:34:01.281471",
     "exception": false,
     "start_time": "2023-11-09T01:34:01.234822",
     "status": "completed"
    },
    "tags": []
   },
   "source": [
    "標準化の式：\n",
    "\n",
    "$$\n",
    "x_{normalized} = \\frac{x - \\mu}{\\sigma}\n",
    "$$\n",
    "\n",
    "\n",
    "- μは平均値、σは標準偏差を表しています。"
   ]
  },
  {
   "cell_type": "code",
   "execution_count": 38,
   "id": "87554736",
   "metadata": {
    "execution": {
     "iopub.execute_input": "2023-11-09T01:34:01.377609Z",
     "iopub.status.busy": "2023-11-09T01:34:01.377015Z",
     "iopub.status.idle": "2023-11-09T01:34:01.400726Z",
     "shell.execute_reply": "2023-11-09T01:34:01.399540Z"
    },
    "id": "2_EjGY8CNKKf",
    "outputId": "af267f64-fde5-491a-eb5e-a5df9e2d7f89",
    "papermill": {
     "duration": 0.074326,
     "end_time": "2023-11-09T01:34:01.403137",
     "exception": false,
     "start_time": "2023-11-09T01:34:01.328811",
     "status": "completed"
    },
    "tags": []
   },
   "outputs": [
    {
     "data": {
      "text/html": [
       "<div>\n",
       "<style scoped>\n",
       "    .dataframe tbody tr th:only-of-type {\n",
       "        vertical-align: middle;\n",
       "    }\n",
       "\n",
       "    .dataframe tbody tr th {\n",
       "        vertical-align: top;\n",
       "    }\n",
       "\n",
       "    .dataframe thead th {\n",
       "        text-align: right;\n",
       "    }\n",
       "</style>\n",
       "<table border=\"1\" class=\"dataframe\">\n",
       "  <thead>\n",
       "    <tr style=\"text-align: right;\">\n",
       "      <th></th>\n",
       "      <th>id</th>\n",
       "      <th>MedInc</th>\n",
       "      <th>HouseAge</th>\n",
       "      <th>AveRooms</th>\n",
       "      <th>AveBedrms</th>\n",
       "      <th>Population</th>\n",
       "      <th>AveOccup</th>\n",
       "      <th>Latitude</th>\n",
       "      <th>Longitude</th>\n",
       "      <th>Household</th>\n",
       "      <th>AllRooms</th>\n",
       "      <th>AllBedrms</th>\n",
       "      <th>Price</th>\n",
       "    </tr>\n",
       "  </thead>\n",
       "  <tbody>\n",
       "    <tr>\n",
       "      <th>0</th>\n",
       "      <td>0</td>\n",
       "      <td>1.4817</td>\n",
       "      <td>6.0</td>\n",
       "      <td>4.443645</td>\n",
       "      <td>1.134293</td>\n",
       "      <td>1397.0</td>\n",
       "      <td>3.350120</td>\n",
       "      <td>36.77</td>\n",
       "      <td>-119.84</td>\n",
       "      <td>417.0</td>\n",
       "      <td>1853.0</td>\n",
       "      <td>473.0</td>\n",
       "      <td>0.720</td>\n",
       "    </tr>\n",
       "    <tr>\n",
       "      <th>1</th>\n",
       "      <td>1</td>\n",
       "      <td>6.9133</td>\n",
       "      <td>8.0</td>\n",
       "      <td>5.976471</td>\n",
       "      <td>1.026471</td>\n",
       "      <td>862.0</td>\n",
       "      <td>2.535294</td>\n",
       "      <td>33.68</td>\n",
       "      <td>-117.80</td>\n",
       "      <td>340.0</td>\n",
       "      <td>2032.0</td>\n",
       "      <td>349.0</td>\n",
       "      <td>2.741</td>\n",
       "    </tr>\n",
       "    <tr>\n",
       "      <th>2</th>\n",
       "      <td>2</td>\n",
       "      <td>1.5536</td>\n",
       "      <td>25.0</td>\n",
       "      <td>4.088785</td>\n",
       "      <td>1.000000</td>\n",
       "      <td>931.0</td>\n",
       "      <td>4.350467</td>\n",
       "      <td>36.60</td>\n",
       "      <td>-120.19</td>\n",
       "      <td>214.0</td>\n",
       "      <td>875.0</td>\n",
       "      <td>214.0</td>\n",
       "      <td>0.583</td>\n",
       "    </tr>\n",
       "    <tr>\n",
       "      <th>3</th>\n",
       "      <td>3</td>\n",
       "      <td>1.5284</td>\n",
       "      <td>31.0</td>\n",
       "      <td>2.740088</td>\n",
       "      <td>1.008811</td>\n",
       "      <td>597.0</td>\n",
       "      <td>2.629956</td>\n",
       "      <td>34.10</td>\n",
       "      <td>-118.32</td>\n",
       "      <td>227.0</td>\n",
       "      <td>622.0</td>\n",
       "      <td>229.0</td>\n",
       "      <td>2.000</td>\n",
       "    </tr>\n",
       "    <tr>\n",
       "      <th>4</th>\n",
       "      <td>4</td>\n",
       "      <td>4.0815</td>\n",
       "      <td>21.0</td>\n",
       "      <td>5.166667</td>\n",
       "      <td>1.002688</td>\n",
       "      <td>1130.0</td>\n",
       "      <td>3.037634</td>\n",
       "      <td>37.79</td>\n",
       "      <td>-121.23</td>\n",
       "      <td>372.0</td>\n",
       "      <td>1922.0</td>\n",
       "      <td>373.0</td>\n",
       "      <td>1.179</td>\n",
       "    </tr>\n",
       "  </tbody>\n",
       "</table>\n",
       "</div>"
      ],
      "text/plain": [
       "   id  MedInc  HouseAge  AveRooms  AveBedrms  Population  AveOccup  Latitude  \\\n",
       "0   0  1.4817       6.0  4.443645   1.134293      1397.0  3.350120     36.77   \n",
       "1   1  6.9133       8.0  5.976471   1.026471       862.0  2.535294     33.68   \n",
       "2   2  1.5536      25.0  4.088785   1.000000       931.0  4.350467     36.60   \n",
       "3   3  1.5284      31.0  2.740088   1.008811       597.0  2.629956     34.10   \n",
       "4   4  4.0815      21.0  5.166667   1.002688      1130.0  3.037634     37.79   \n",
       "\n",
       "   Longitude  Household  AllRooms  AllBedrms  Price  \n",
       "0    -119.84      417.0    1853.0      473.0  0.720  \n",
       "1    -117.80      340.0    2032.0      349.0  2.741  \n",
       "2    -120.19      214.0     875.0      214.0  0.583  \n",
       "3    -118.32      227.0     622.0      229.0  2.000  \n",
       "4    -121.23      372.0    1922.0      373.0  1.179  "
      ]
     },
     "execution_count": 38,
     "metadata": {},
     "output_type": "execute_result"
    }
   ],
   "source": [
    "# データセットを使って標準化の実装を行います\n",
    "# 改めてデータの確認\n",
    "train.head()"
   ]
  },
  {
   "cell_type": "code",
   "execution_count": 39,
   "id": "b9b6827f",
   "metadata": {
    "execution": {
     "iopub.execute_input": "2023-11-09T01:34:01.500296Z",
     "iopub.status.busy": "2023-11-09T01:34:01.499104Z",
     "iopub.status.idle": "2023-11-09T01:34:01.522231Z",
     "shell.execute_reply": "2023-11-09T01:34:01.520543Z"
    },
    "id": "jvr6hipQDkb0",
    "outputId": "08898c2b-294e-4b95-a013-b5741ea979e3",
    "papermill": {
     "duration": 0.07406,
     "end_time": "2023-11-09T01:34:01.524667",
     "exception": false,
     "start_time": "2023-11-09T01:34:01.450607",
     "status": "completed"
    },
    "tags": []
   },
   "outputs": [
    {
     "name": "stderr",
     "output_type": "stream",
     "text": [
      "/tmp/ipykernel_20/983225279.py:13: SettingWithCopyWarning: \n",
      "A value is trying to be set on a copy of a slice from a DataFrame.\n",
      "Try using .loc[row_indexer,col_indexer] = value instead\n",
      "\n",
      "See the caveats in the documentation: https://pandas.pydata.org/pandas-docs/stable/user_guide/indexing.html#returning-a-view-versus-a-copy\n",
      "  standard_df[\"標準化後_MedInc\"] = standard_sc.fit_transform(standard_df[\"MedInc\"].values.reshape(-1, 1))\n",
      "/tmp/ipykernel_20/983225279.py:14: SettingWithCopyWarning: \n",
      "A value is trying to be set on a copy of a slice from a DataFrame.\n",
      "Try using .loc[row_indexer,col_indexer] = value instead\n",
      "\n",
      "See the caveats in the documentation: https://pandas.pydata.org/pandas-docs/stable/user_guide/indexing.html#returning-a-view-versus-a-copy\n",
      "  standard_df[\"標準化後_Population\"] = standard_sc.fit_transform(standard_df[\"Population\"].values.reshape(-1, 1))\n"
     ]
    },
    {
     "data": {
      "text/html": [
       "<div>\n",
       "<style scoped>\n",
       "    .dataframe tbody tr th:only-of-type {\n",
       "        vertical-align: middle;\n",
       "    }\n",
       "\n",
       "    .dataframe tbody tr th {\n",
       "        vertical-align: top;\n",
       "    }\n",
       "\n",
       "    .dataframe thead th {\n",
       "        text-align: right;\n",
       "    }\n",
       "</style>\n",
       "<table border=\"1\" class=\"dataframe\">\n",
       "  <thead>\n",
       "    <tr style=\"text-align: right;\">\n",
       "      <th></th>\n",
       "      <th>MedInc</th>\n",
       "      <th>Population</th>\n",
       "      <th>標準化後_MedInc</th>\n",
       "      <th>標準化後_Population</th>\n",
       "    </tr>\n",
       "  </thead>\n",
       "  <tbody>\n",
       "    <tr>\n",
       "      <th>0</th>\n",
       "      <td>1.4817</td>\n",
       "      <td>1397.0</td>\n",
       "      <td>-1.258403</td>\n",
       "      <td>-0.032827</td>\n",
       "    </tr>\n",
       "    <tr>\n",
       "      <th>1</th>\n",
       "      <td>6.9133</td>\n",
       "      <td>862.0</td>\n",
       "      <td>1.610623</td>\n",
       "      <td>-0.494784</td>\n",
       "    </tr>\n",
       "    <tr>\n",
       "      <th>2</th>\n",
       "      <td>1.5536</td>\n",
       "      <td>931.0</td>\n",
       "      <td>-1.220425</td>\n",
       "      <td>-0.435204</td>\n",
       "    </tr>\n",
       "    <tr>\n",
       "      <th>3</th>\n",
       "      <td>1.5284</td>\n",
       "      <td>597.0</td>\n",
       "      <td>-1.233736</td>\n",
       "      <td>-0.723603</td>\n",
       "    </tr>\n",
       "    <tr>\n",
       "      <th>4</th>\n",
       "      <td>4.0815</td>\n",
       "      <td>1130.0</td>\n",
       "      <td>0.114837</td>\n",
       "      <td>-0.263373</td>\n",
       "    </tr>\n",
       "  </tbody>\n",
       "</table>\n",
       "</div>"
      ],
      "text/plain": [
       "   MedInc  Population  標準化後_MedInc  標準化後_Population\n",
       "0  1.4817      1397.0    -1.258403        -0.032827\n",
       "1  6.9133       862.0     1.610623        -0.494784\n",
       "2  1.5536       931.0    -1.220425        -0.435204\n",
       "3  1.5284       597.0    -1.233736        -0.723603\n",
       "4  4.0815      1130.0     0.114837        -0.263373"
      ]
     },
     "execution_count": 39,
     "metadata": {},
     "output_type": "execute_result"
    }
   ],
   "source": [
    "# MedIncとPopulationに対して標準化を行ってみます。\n",
    "\n",
    "# StandardScalerのimport\n",
    "from sklearn.preprocessing import StandardScaler\n",
    "\n",
    "# MedIncとPopulationのデータの抽出\n",
    "standard_df = train[[\"MedInc\", \"Population\"]]\n",
    "\n",
    "#インスタンス (平均=0, 標準偏差=1)\n",
    "standard_sc = StandardScaler()\n",
    "\n",
    "# transformで正規化の変換を実施\n",
    "standard_df[\"標準化後_MedInc\"] = standard_sc.fit_transform(standard_df[\"MedInc\"].values.reshape(-1, 1))\n",
    "standard_df[\"標準化後_Population\"] = standard_sc.fit_transform(standard_df[\"Population\"].values.reshape(-1, 1))\n",
    "\n",
    "# データの表示\n",
    "standard_df.head()"
   ]
  },
  {
   "cell_type": "code",
   "execution_count": 40,
   "id": "f7f7b0cd",
   "metadata": {
    "execution": {
     "iopub.execute_input": "2023-11-09T01:34:01.622682Z",
     "iopub.status.busy": "2023-11-09T01:34:01.622264Z",
     "iopub.status.idle": "2023-11-09T01:34:01.631888Z",
     "shell.execute_reply": "2023-11-09T01:34:01.630557Z"
    },
    "id": "x6mq14tfQwbc",
    "outputId": "25ddd399-df12-4f2c-abcf-7f7067a02504",
    "papermill": {
     "duration": 0.061799,
     "end_time": "2023-11-09T01:34:01.634156",
     "exception": false,
     "start_time": "2023-11-09T01:34:01.572357",
     "status": "completed"
    },
    "tags": []
   },
   "outputs": [
    {
     "name": "stdout",
     "output_type": "stream",
     "text": [
      "標準化後_MedInc：平均 -5.2068599216916256e-17\n",
      "標準化後_MedInc：分散 1.0000605656834838\n",
      "----------------------------------------------------------------------------------------------------\n",
      "標準化後_Population：平均 -5.045490296019364e-17\n",
      "標準化後_Population：分散 1.0000605656834836\n"
     ]
    }
   ],
   "source": [
    "# 平均値と分散を計算\n",
    "\n",
    "print('標準化後_MedInc：平均', standard_df[\"標準化後_MedInc\"].mean())\n",
    "print('標準化後_MedInc：分散', standard_df[\"標準化後_MedInc\"].var())\n",
    "print('-' * 100)\n",
    "print('標準化後_Population：平均', standard_df[\"標準化後_Population\"].mean())\n",
    "print('標準化後_Population：分散', standard_df[\"標準化後_Population\"].var())"
   ]
  },
  {
   "cell_type": "code",
   "execution_count": 41,
   "id": "c4d3d6bb",
   "metadata": {
    "execution": {
     "iopub.execute_input": "2023-11-09T01:34:01.734133Z",
     "iopub.status.busy": "2023-11-09T01:34:01.733692Z",
     "iopub.status.idle": "2023-11-09T01:34:03.050567Z",
     "shell.execute_reply": "2023-11-09T01:34:03.049443Z"
    },
    "id": "lohtz2DCQT46",
    "outputId": "d30033b2-a33b-4f8f-e861-dab092d3b516",
    "papermill": {
     "duration": 1.369121,
     "end_time": "2023-11-09T01:34:03.053082",
     "exception": false,
     "start_time": "2023-11-09T01:34:01.683961",
     "status": "completed"
    },
    "tags": []
   },
   "outputs": [
    {
     "data": {
      "text/plain": [
       "array([[<Axes: title={'center': 'MedInc'}>,\n",
       "        <Axes: title={'center': 'Population'}>],\n",
       "       [<Axes: title={'center': '標準化後_MedInc'}>,\n",
       "        <Axes: title={'center': '標準化後_Population'}>]], dtype=object)"
      ]
     },
     "execution_count": 41,
     "metadata": {},
     "output_type": "execute_result"
    },
    {
     "name": "stderr",
     "output_type": "stream",
     "text": [
      "/opt/conda/lib/python3.10/site-packages/IPython/core/events.py:93: UserWarning: Glyph 27161 (\\N{CJK UNIFIED IDEOGRAPH-6A19}) missing from current font.\n",
      "  func(*args, **kwargs)\n",
      "/opt/conda/lib/python3.10/site-packages/IPython/core/events.py:93: UserWarning: Glyph 28310 (\\N{CJK UNIFIED IDEOGRAPH-6E96}) missing from current font.\n",
      "  func(*args, **kwargs)\n",
      "/opt/conda/lib/python3.10/site-packages/IPython/core/events.py:93: UserWarning: Glyph 21270 (\\N{CJK UNIFIED IDEOGRAPH-5316}) missing from current font.\n",
      "  func(*args, **kwargs)\n",
      "/opt/conda/lib/python3.10/site-packages/IPython/core/events.py:93: UserWarning: Glyph 24460 (\\N{CJK UNIFIED IDEOGRAPH-5F8C}) missing from current font.\n",
      "  func(*args, **kwargs)\n",
      "/opt/conda/lib/python3.10/site-packages/IPython/core/pylabtools.py:152: UserWarning: Glyph 27161 (\\N{CJK UNIFIED IDEOGRAPH-6A19}) missing from current font.\n",
      "  fig.canvas.print_figure(bytes_io, **kw)\n",
      "/opt/conda/lib/python3.10/site-packages/IPython/core/pylabtools.py:152: UserWarning: Glyph 28310 (\\N{CJK UNIFIED IDEOGRAPH-6E96}) missing from current font.\n",
      "  fig.canvas.print_figure(bytes_io, **kw)\n",
      "/opt/conda/lib/python3.10/site-packages/IPython/core/pylabtools.py:152: UserWarning: Glyph 21270 (\\N{CJK UNIFIED IDEOGRAPH-5316}) missing from current font.\n",
      "  fig.canvas.print_figure(bytes_io, **kw)\n",
      "/opt/conda/lib/python3.10/site-packages/IPython/core/pylabtools.py:152: UserWarning: Glyph 24460 (\\N{CJK UNIFIED IDEOGRAPH-5F8C}) missing from current font.\n",
      "  fig.canvas.print_figure(bytes_io, **kw)\n"
     ]
    },
    {
     "data": {
      "image/png": "[encoded data removed]",
      "text/plain": [
       "<Figure size 1500x1000 with 4 Axes>"
      ]
     },
     "metadata": {},
     "output_type": "display_data"
    }
   ],
   "source": [
    "# データの分布をヒストグラムで確認\n",
    "standard_df.hist(bins=30, figsize=(15, 10))"
   ]
  },
  {
   "cell_type": "markdown",
   "id": "362ee1f5",
   "metadata": {
    "id": "b7qmIyyYwCfO",
    "papermill": {
     "duration": 0.048696,
     "end_time": "2023-11-09T01:34:03.149937",
     "exception": false,
     "start_time": "2023-11-09T01:34:03.101241",
     "status": "completed"
    },
    "tags": []
   },
   "source": [
    "### ④特徴量選択・生成\n",
    "- **特徴量選択**：データセット内の関連性のある特徴量を選択し、無関係な特徴量や冗長な特徴量を除外します。これにより、モデルの計算負荷が減り、過学習を防ぐことができます。特徴量選択の方法には、フィルタ法、ラッパー法、埋め込み法などがあります。\n",
    "\n",
    "- **特徴量生成**：既存の特徴量を組み合わせて新しい特徴量を生成することで、モデルの学習に役立つ情報を提供します。例えば、日付や時間のデータから曜日や月、祝日などの情報を抽出したり、テキストデータから単語数や特定のキーワードの出現回数を計算したりします。"
   ]
  },
  {
   "cell_type": "markdown",
   "id": "e869d0f2",
   "metadata": {
    "id": "zY_Ybcb_2uSv",
    "papermill": {
     "duration": 0.048592,
     "end_time": "2023-11-09T01:34:03.246856",
     "exception": false,
     "start_time": "2023-11-09T01:34:03.198264",
     "status": "completed"
    },
    "tags": []
   },
   "source": [
    "今回はデータを組み合わせて実際に新しいデータを作成する特徴量生成をpythonのコードで実装しながら確認してみます！  \n",
    "まずは改めて今回利用するデータを確認してみましょう。\n",
    "\n",
    "|カラム名|意味|\n",
    "|-|-|\n",
    "|MedInc|ブロックの所得中央値|\n",
    "|HouseAge|ブロックの家屋年齢の中央値|\n",
    "|AveRooms|1世帯当たりの平均居室数|\n",
    "|AveBedrms|1世帯当たりの平均寝室数|\n",
    "|Population|ブロックの人口|\n",
    "|AveOccup|平均世帯人口|\n",
    "|Latitude|緯度|\n",
    "|Longitude|経度|\n",
    "|**Price**|住宅価格(目的変数)|"
   ]
  },
  {
   "cell_type": "code",
   "execution_count": 42,
   "id": "94bce305",
   "metadata": {
    "execution": {
     "iopub.execute_input": "2023-11-09T01:34:03.347149Z",
     "iopub.status.busy": "2023-11-09T01:34:03.346722Z",
     "iopub.status.idle": "2023-11-09T01:34:03.369885Z",
     "shell.execute_reply": "2023-11-09T01:34:03.368627Z"
    },
    "id": "_x09UrLUQc5z",
    "outputId": "b9f17a22-0210-4683-c31e-359b8496fe49",
    "papermill": {
     "duration": 0.076647,
     "end_time": "2023-11-09T01:34:03.372450",
     "exception": false,
     "start_time": "2023-11-09T01:34:03.295803",
     "status": "completed"
    },
    "tags": []
   },
   "outputs": [
    {
     "data": {
      "text/html": [
       "<div>\n",
       "<style scoped>\n",
       "    .dataframe tbody tr th:only-of-type {\n",
       "        vertical-align: middle;\n",
       "    }\n",
       "\n",
       "    .dataframe tbody tr th {\n",
       "        vertical-align: top;\n",
       "    }\n",
       "\n",
       "    .dataframe thead th {\n",
       "        text-align: right;\n",
       "    }\n",
       "</style>\n",
       "<table border=\"1\" class=\"dataframe\">\n",
       "  <thead>\n",
       "    <tr style=\"text-align: right;\">\n",
       "      <th></th>\n",
       "      <th>id</th>\n",
       "      <th>MedInc</th>\n",
       "      <th>HouseAge</th>\n",
       "      <th>AveRooms</th>\n",
       "      <th>AveBedrms</th>\n",
       "      <th>Population</th>\n",
       "      <th>AveOccup</th>\n",
       "      <th>Latitude</th>\n",
       "      <th>Longitude</th>\n",
       "      <th>Household</th>\n",
       "      <th>AllRooms</th>\n",
       "      <th>AllBedrms</th>\n",
       "      <th>Price</th>\n",
       "    </tr>\n",
       "  </thead>\n",
       "  <tbody>\n",
       "    <tr>\n",
       "      <th>0</th>\n",
       "      <td>0</td>\n",
       "      <td>1.4817</td>\n",
       "      <td>6.0</td>\n",
       "      <td>4.443645</td>\n",
       "      <td>1.134293</td>\n",
       "      <td>1397.0</td>\n",
       "      <td>3.350120</td>\n",
       "      <td>36.77</td>\n",
       "      <td>-119.84</td>\n",
       "      <td>417.0</td>\n",
       "      <td>1853.0</td>\n",
       "      <td>473.0</td>\n",
       "      <td>0.720</td>\n",
       "    </tr>\n",
       "    <tr>\n",
       "      <th>1</th>\n",
       "      <td>1</td>\n",
       "      <td>6.9133</td>\n",
       "      <td>8.0</td>\n",
       "      <td>5.976471</td>\n",
       "      <td>1.026471</td>\n",
       "      <td>862.0</td>\n",
       "      <td>2.535294</td>\n",
       "      <td>33.68</td>\n",
       "      <td>-117.80</td>\n",
       "      <td>340.0</td>\n",
       "      <td>2032.0</td>\n",
       "      <td>349.0</td>\n",
       "      <td>2.741</td>\n",
       "    </tr>\n",
       "    <tr>\n",
       "      <th>2</th>\n",
       "      <td>2</td>\n",
       "      <td>1.5536</td>\n",
       "      <td>25.0</td>\n",
       "      <td>4.088785</td>\n",
       "      <td>1.000000</td>\n",
       "      <td>931.0</td>\n",
       "      <td>4.350467</td>\n",
       "      <td>36.60</td>\n",
       "      <td>-120.19</td>\n",
       "      <td>214.0</td>\n",
       "      <td>875.0</td>\n",
       "      <td>214.0</td>\n",
       "      <td>0.583</td>\n",
       "    </tr>\n",
       "    <tr>\n",
       "      <th>3</th>\n",
       "      <td>3</td>\n",
       "      <td>1.5284</td>\n",
       "      <td>31.0</td>\n",
       "      <td>2.740088</td>\n",
       "      <td>1.008811</td>\n",
       "      <td>597.0</td>\n",
       "      <td>2.629956</td>\n",
       "      <td>34.10</td>\n",
       "      <td>-118.32</td>\n",
       "      <td>227.0</td>\n",
       "      <td>622.0</td>\n",
       "      <td>229.0</td>\n",
       "      <td>2.000</td>\n",
       "    </tr>\n",
       "    <tr>\n",
       "      <th>4</th>\n",
       "      <td>4</td>\n",
       "      <td>4.0815</td>\n",
       "      <td>21.0</td>\n",
       "      <td>5.166667</td>\n",
       "      <td>1.002688</td>\n",
       "      <td>1130.0</td>\n",
       "      <td>3.037634</td>\n",
       "      <td>37.79</td>\n",
       "      <td>-121.23</td>\n",
       "      <td>372.0</td>\n",
       "      <td>1922.0</td>\n",
       "      <td>373.0</td>\n",
       "      <td>1.179</td>\n",
       "    </tr>\n",
       "  </tbody>\n",
       "</table>\n",
       "</div>"
      ],
      "text/plain": [
       "   id  MedInc  HouseAge  AveRooms  AveBedrms  Population  AveOccup  Latitude  \\\n",
       "0   0  1.4817       6.0  4.443645   1.134293      1397.0  3.350120     36.77   \n",
       "1   1  6.9133       8.0  5.976471   1.026471       862.0  2.535294     33.68   \n",
       "2   2  1.5536      25.0  4.088785   1.000000       931.0  4.350467     36.60   \n",
       "3   3  1.5284      31.0  2.740088   1.008811       597.0  2.629956     34.10   \n",
       "4   4  4.0815      21.0  5.166667   1.002688      1130.0  3.037634     37.79   \n",
       "\n",
       "   Longitude  Household  AllRooms  AllBedrms  Price  \n",
       "0    -119.84      417.0    1853.0      473.0  0.720  \n",
       "1    -117.80      340.0    2032.0      349.0  2.741  \n",
       "2    -120.19      214.0     875.0      214.0  0.583  \n",
       "3    -118.32      227.0     622.0      229.0  2.000  \n",
       "4    -121.23      372.0    1922.0      373.0  1.179  "
      ]
     },
     "execution_count": 42,
     "metadata": {},
     "output_type": "execute_result"
    }
   ],
   "source": [
    "train.head()"
   ]
  },
  {
   "cell_type": "markdown",
   "id": "4a40dd18",
   "metadata": {
    "id": "OOGN5r164B13",
    "papermill": {
     "duration": 0.049653,
     "end_time": "2023-11-09T01:34:03.471941",
     "exception": false,
     "start_time": "2023-11-09T01:34:03.422288",
     "status": "completed"
    },
    "tags": []
   },
   "source": [
    "Population(ブロックの人口)とAveOccup(平均世帯人口)に注目しましょう！  \n",
    "\n",
    "**平均世帯人口=人口÷世帯数**と考えることができます。  \n",
    "今回のデータにはPopulation(ブロックの人口)とAveOccup(平均世帯人口)が含まれているため、この2つを組み合わせることで世帯数を算出することができそうです。\n",
    "\n"
   ]
  },
  {
   "cell_type": "markdown",
   "id": "45d6e4ea",
   "metadata": {
    "id": "jUK7fNJG6SMA",
    "papermill": {
     "duration": 0.04899,
     "end_time": "2023-11-09T01:34:03.570373",
     "exception": false,
     "start_time": "2023-11-09T01:34:03.521383",
     "status": "completed"
    },
    "tags": []
   },
   "source": [
    "AveOccup(平均世帯人口)=Population(ブロックの人口)÷世帯数とすると\n",
    "  \n",
    "**世帯数=Population(ブロックの人口)÷AveOccup(平均世帯人口)**と変換することができます。  \n",
    "これをpythonで実装すると下記のようになります。"
   ]
  },
  {
   "cell_type": "code",
   "execution_count": 43,
   "id": "653fa99f",
   "metadata": {
    "execution": {
     "iopub.execute_input": "2023-11-09T01:34:03.672509Z",
     "iopub.status.busy": "2023-11-09T01:34:03.672111Z",
     "iopub.status.idle": "2023-11-09T01:34:03.694385Z",
     "shell.execute_reply": "2023-11-09T01:34:03.693528Z"
    },
    "id": "GpYMT2R33Tdj",
    "outputId": "65f09e13-3fd8-4006-c900-75d8331d56b9",
    "papermill": {
     "duration": 0.076789,
     "end_time": "2023-11-09T01:34:03.696654",
     "exception": false,
     "start_time": "2023-11-09T01:34:03.619865",
     "status": "completed"
    },
    "tags": []
   },
   "outputs": [
    {
     "data": {
      "text/html": [
       "<div>\n",
       "<style scoped>\n",
       "    .dataframe tbody tr th:only-of-type {\n",
       "        vertical-align: middle;\n",
       "    }\n",
       "\n",
       "    .dataframe tbody tr th {\n",
       "        vertical-align: top;\n",
       "    }\n",
       "\n",
       "    .dataframe thead th {\n",
       "        text-align: right;\n",
       "    }\n",
       "</style>\n",
       "<table border=\"1\" class=\"dataframe\">\n",
       "  <thead>\n",
       "    <tr style=\"text-align: right;\">\n",
       "      <th></th>\n",
       "      <th>id</th>\n",
       "      <th>MedInc</th>\n",
       "      <th>HouseAge</th>\n",
       "      <th>AveRooms</th>\n",
       "      <th>AveBedrms</th>\n",
       "      <th>Population</th>\n",
       "      <th>AveOccup</th>\n",
       "      <th>Latitude</th>\n",
       "      <th>Longitude</th>\n",
       "      <th>Household</th>\n",
       "      <th>AllRooms</th>\n",
       "      <th>AllBedrms</th>\n",
       "      <th>Price</th>\n",
       "    </tr>\n",
       "  </thead>\n",
       "  <tbody>\n",
       "    <tr>\n",
       "      <th>0</th>\n",
       "      <td>0</td>\n",
       "      <td>1.4817</td>\n",
       "      <td>6.0</td>\n",
       "      <td>4.443645</td>\n",
       "      <td>1.134293</td>\n",
       "      <td>1397.0</td>\n",
       "      <td>3.350120</td>\n",
       "      <td>36.77</td>\n",
       "      <td>-119.84</td>\n",
       "      <td>417.0</td>\n",
       "      <td>1853.0</td>\n",
       "      <td>473.0</td>\n",
       "      <td>0.720</td>\n",
       "    </tr>\n",
       "    <tr>\n",
       "      <th>1</th>\n",
       "      <td>1</td>\n",
       "      <td>6.9133</td>\n",
       "      <td>8.0</td>\n",
       "      <td>5.976471</td>\n",
       "      <td>1.026471</td>\n",
       "      <td>862.0</td>\n",
       "      <td>2.535294</td>\n",
       "      <td>33.68</td>\n",
       "      <td>-117.80</td>\n",
       "      <td>340.0</td>\n",
       "      <td>2032.0</td>\n",
       "      <td>349.0</td>\n",
       "      <td>2.741</td>\n",
       "    </tr>\n",
       "    <tr>\n",
       "      <th>2</th>\n",
       "      <td>2</td>\n",
       "      <td>1.5536</td>\n",
       "      <td>25.0</td>\n",
       "      <td>4.088785</td>\n",
       "      <td>1.000000</td>\n",
       "      <td>931.0</td>\n",
       "      <td>4.350467</td>\n",
       "      <td>36.60</td>\n",
       "      <td>-120.19</td>\n",
       "      <td>214.0</td>\n",
       "      <td>875.0</td>\n",
       "      <td>214.0</td>\n",
       "      <td>0.583</td>\n",
       "    </tr>\n",
       "    <tr>\n",
       "      <th>3</th>\n",
       "      <td>3</td>\n",
       "      <td>1.5284</td>\n",
       "      <td>31.0</td>\n",
       "      <td>2.740088</td>\n",
       "      <td>1.008811</td>\n",
       "      <td>597.0</td>\n",
       "      <td>2.629956</td>\n",
       "      <td>34.10</td>\n",
       "      <td>-118.32</td>\n",
       "      <td>227.0</td>\n",
       "      <td>622.0</td>\n",
       "      <td>229.0</td>\n",
       "      <td>2.000</td>\n",
       "    </tr>\n",
       "    <tr>\n",
       "      <th>4</th>\n",
       "      <td>4</td>\n",
       "      <td>4.0815</td>\n",
       "      <td>21.0</td>\n",
       "      <td>5.166667</td>\n",
       "      <td>1.002688</td>\n",
       "      <td>1130.0</td>\n",
       "      <td>3.037634</td>\n",
       "      <td>37.79</td>\n",
       "      <td>-121.23</td>\n",
       "      <td>372.0</td>\n",
       "      <td>1922.0</td>\n",
       "      <td>373.0</td>\n",
       "      <td>1.179</td>\n",
       "    </tr>\n",
       "  </tbody>\n",
       "</table>\n",
       "</div>"
      ],
      "text/plain": [
       "   id  MedInc  HouseAge  AveRooms  AveBedrms  Population  AveOccup  Latitude  \\\n",
       "0   0  1.4817       6.0  4.443645   1.134293      1397.0  3.350120     36.77   \n",
       "1   1  6.9133       8.0  5.976471   1.026471       862.0  2.535294     33.68   \n",
       "2   2  1.5536      25.0  4.088785   1.000000       931.0  4.350467     36.60   \n",
       "3   3  1.5284      31.0  2.740088   1.008811       597.0  2.629956     34.10   \n",
       "4   4  4.0815      21.0  5.166667   1.002688      1130.0  3.037634     37.79   \n",
       "\n",
       "   Longitude  Household  AllRooms  AllBedrms  Price  \n",
       "0    -119.84      417.0    1853.0      473.0  0.720  \n",
       "1    -117.80      340.0    2032.0      349.0  2.741  \n",
       "2    -120.19      214.0     875.0      214.0  0.583  \n",
       "3    -118.32      227.0     622.0      229.0  2.000  \n",
       "4    -121.23      372.0    1922.0      373.0  1.179  "
      ]
     },
     "execution_count": 43,
     "metadata": {},
     "output_type": "execute_result"
    }
   ],
   "source": [
    "# 世帯数(Household)を求める\n",
    "train['Household'] = train['Population'] / train['AveOccup']\n",
    "train.head()"
   ]
  },
  {
   "cell_type": "code",
   "execution_count": 44,
   "id": "930e6bd7",
   "metadata": {
    "execution": {
     "iopub.execute_input": "2023-11-09T01:34:03.798879Z",
     "iopub.status.busy": "2023-11-09T01:34:03.798200Z",
     "iopub.status.idle": "2023-11-09T01:34:03.820342Z",
     "shell.execute_reply": "2023-11-09T01:34:03.819037Z"
    },
    "papermill": {
     "duration": 0.076226,
     "end_time": "2023-11-09T01:34:03.823123",
     "exception": false,
     "start_time": "2023-11-09T01:34:03.746897",
     "status": "completed"
    },
    "tags": []
   },
   "outputs": [
    {
     "data": {
      "text/html": [
       "<div>\n",
       "<style scoped>\n",
       "    .dataframe tbody tr th:only-of-type {\n",
       "        vertical-align: middle;\n",
       "    }\n",
       "\n",
       "    .dataframe tbody tr th {\n",
       "        vertical-align: top;\n",
       "    }\n",
       "\n",
       "    .dataframe thead th {\n",
       "        text-align: right;\n",
       "    }\n",
       "</style>\n",
       "<table border=\"1\" class=\"dataframe\">\n",
       "  <thead>\n",
       "    <tr style=\"text-align: right;\">\n",
       "      <th></th>\n",
       "      <th>id</th>\n",
       "      <th>MedInc</th>\n",
       "      <th>HouseAge</th>\n",
       "      <th>AveRooms</th>\n",
       "      <th>AveBedrms</th>\n",
       "      <th>Population</th>\n",
       "      <th>AveOccup</th>\n",
       "      <th>Latitude</th>\n",
       "      <th>Longitude</th>\n",
       "      <th>Household</th>\n",
       "      <th>AllRooms</th>\n",
       "      <th>AllBedrms</th>\n",
       "    </tr>\n",
       "  </thead>\n",
       "  <tbody>\n",
       "    <tr>\n",
       "      <th>0</th>\n",
       "      <td>0</td>\n",
       "      <td>6.4114</td>\n",
       "      <td>15.0</td>\n",
       "      <td>7.527559</td>\n",
       "      <td>1.049869</td>\n",
       "      <td>2529.0</td>\n",
       "      <td>3.318898</td>\n",
       "      <td>33.60</td>\n",
       "      <td>-117.65</td>\n",
       "      <td>762.0</td>\n",
       "      <td>5736.0</td>\n",
       "      <td>800.0</td>\n",
       "    </tr>\n",
       "    <tr>\n",
       "      <th>1</th>\n",
       "      <td>1</td>\n",
       "      <td>4.1843</td>\n",
       "      <td>12.0</td>\n",
       "      <td>6.330084</td>\n",
       "      <td>1.041783</td>\n",
       "      <td>2033.0</td>\n",
       "      <td>2.831476</td>\n",
       "      <td>38.62</td>\n",
       "      <td>-120.91</td>\n",
       "      <td>718.0</td>\n",
       "      <td>4545.0</td>\n",
       "      <td>748.0</td>\n",
       "    </tr>\n",
       "    <tr>\n",
       "      <th>2</th>\n",
       "      <td>2</td>\n",
       "      <td>1.7411</td>\n",
       "      <td>35.0</td>\n",
       "      <td>5.369159</td>\n",
       "      <td>1.294393</td>\n",
       "      <td>909.0</td>\n",
       "      <td>4.247664</td>\n",
       "      <td>33.93</td>\n",
       "      <td>-118.23</td>\n",
       "      <td>214.0</td>\n",
       "      <td>1149.0</td>\n",
       "      <td>277.0</td>\n",
       "    </tr>\n",
       "    <tr>\n",
       "      <th>3</th>\n",
       "      <td>3</td>\n",
       "      <td>3.4412</td>\n",
       "      <td>39.0</td>\n",
       "      <td>4.173405</td>\n",
       "      <td>1.074573</td>\n",
       "      <td>2156.0</td>\n",
       "      <td>1.937107</td>\n",
       "      <td>37.59</td>\n",
       "      <td>-122.37</td>\n",
       "      <td>1113.0</td>\n",
       "      <td>4645.0</td>\n",
       "      <td>1196.0</td>\n",
       "    </tr>\n",
       "    <tr>\n",
       "      <th>4</th>\n",
       "      <td>4</td>\n",
       "      <td>7.8195</td>\n",
       "      <td>16.0</td>\n",
       "      <td>8.602349</td>\n",
       "      <td>1.058725</td>\n",
       "      <td>2142.0</td>\n",
       "      <td>3.593960</td>\n",
       "      <td>33.70</td>\n",
       "      <td>-117.98</td>\n",
       "      <td>596.0</td>\n",
       "      <td>5127.0</td>\n",
       "      <td>631.0</td>\n",
       "    </tr>\n",
       "  </tbody>\n",
       "</table>\n",
       "</div>"
      ],
      "text/plain": [
       "   id  MedInc  HouseAge  AveRooms  AveBedrms  Population  AveOccup  Latitude  \\\n",
       "0   0  6.4114      15.0  7.527559   1.049869      2529.0  3.318898     33.60   \n",
       "1   1  4.1843      12.0  6.330084   1.041783      2033.0  2.831476     38.62   \n",
       "2   2  1.7411      35.0  5.369159   1.294393       909.0  4.247664     33.93   \n",
       "3   3  3.4412      39.0  4.173405   1.074573      2156.0  1.937107     37.59   \n",
       "4   4  7.8195      16.0  8.602349   1.058725      2142.0  3.593960     33.70   \n",
       "\n",
       "   Longitude  Household  AllRooms  AllBedrms  \n",
       "0    -117.65      762.0    5736.0      800.0  \n",
       "1    -120.91      718.0    4545.0      748.0  \n",
       "2    -118.23      214.0    1149.0      277.0  \n",
       "3    -122.37     1113.0    4645.0     1196.0  \n",
       "4    -117.98      596.0    5127.0      631.0  "
      ]
     },
     "execution_count": 44,
     "metadata": {},
     "output_type": "execute_result"
    }
   ],
   "source": [
    "test['Household'] = test['Population'] / test['AveOccup']\n",
    "test.head()"
   ]
  },
  {
   "cell_type": "markdown",
   "id": "15ad2626",
   "metadata": {
    "id": "m2uuZ28L8AnV",
    "papermill": {
     "duration": 0.049965,
     "end_time": "2023-11-09T01:34:03.923327",
     "exception": false,
     "start_time": "2023-11-09T01:34:03.873362",
     "status": "completed"
    },
    "tags": []
   },
   "source": [
    "世帯数が求められたことで、AveRooms(1世帯当たりの平均居室数)とAveBedrms(1世帯当たりの平均寝室数)を組み合わせて、それぞれ合計居室数と合計寝室数を求めることができそうです。\n",
    "\n",
    "それぞれの算出ロジックは下記のようになります。\n",
    "\n",
    "\n",
    "  - **合計居室数(AllRooms) = 世帯数(Household) × AveRooms(1世帯当たりの平均居室数)**\n",
    "  - **合計寝室数(AllBedrms) = 世帯数(Household) × AveBedrms(1世帯当たりの平均寝室数)**"
   ]
  },
  {
   "cell_type": "code",
   "execution_count": 45,
   "id": "294b8241",
   "metadata": {
    "execution": {
     "iopub.execute_input": "2023-11-09T01:34:04.025534Z",
     "iopub.status.busy": "2023-11-09T01:34:04.025136Z",
     "iopub.status.idle": "2023-11-09T01:34:04.049394Z",
     "shell.execute_reply": "2023-11-09T01:34:04.048221Z"
    },
    "id": "e-9rKGl17laK",
    "outputId": "c2ecdfcc-1ead-475e-b69c-eab49c67eeeb",
    "papermill": {
     "duration": 0.078543,
     "end_time": "2023-11-09T01:34:04.051830",
     "exception": false,
     "start_time": "2023-11-09T01:34:03.973287",
     "status": "completed"
    },
    "tags": []
   },
   "outputs": [
    {
     "data": {
      "text/html": [
       "<div>\n",
       "<style scoped>\n",
       "    .dataframe tbody tr th:only-of-type {\n",
       "        vertical-align: middle;\n",
       "    }\n",
       "\n",
       "    .dataframe tbody tr th {\n",
       "        vertical-align: top;\n",
       "    }\n",
       "\n",
       "    .dataframe thead th {\n",
       "        text-align: right;\n",
       "    }\n",
       "</style>\n",
       "<table border=\"1\" class=\"dataframe\">\n",
       "  <thead>\n",
       "    <tr style=\"text-align: right;\">\n",
       "      <th></th>\n",
       "      <th>id</th>\n",
       "      <th>MedInc</th>\n",
       "      <th>HouseAge</th>\n",
       "      <th>AveRooms</th>\n",
       "      <th>AveBedrms</th>\n",
       "      <th>Population</th>\n",
       "      <th>AveOccup</th>\n",
       "      <th>Latitude</th>\n",
       "      <th>Longitude</th>\n",
       "      <th>Household</th>\n",
       "      <th>AllRooms</th>\n",
       "      <th>AllBedrms</th>\n",
       "      <th>Price</th>\n",
       "    </tr>\n",
       "  </thead>\n",
       "  <tbody>\n",
       "    <tr>\n",
       "      <th>0</th>\n",
       "      <td>0</td>\n",
       "      <td>1.4817</td>\n",
       "      <td>6.0</td>\n",
       "      <td>4.443645</td>\n",
       "      <td>1.134293</td>\n",
       "      <td>1397.0</td>\n",
       "      <td>3.350120</td>\n",
       "      <td>36.77</td>\n",
       "      <td>-119.84</td>\n",
       "      <td>417.0</td>\n",
       "      <td>1853.0</td>\n",
       "      <td>473.0</td>\n",
       "      <td>0.720</td>\n",
       "    </tr>\n",
       "    <tr>\n",
       "      <th>1</th>\n",
       "      <td>1</td>\n",
       "      <td>6.9133</td>\n",
       "      <td>8.0</td>\n",
       "      <td>5.976471</td>\n",
       "      <td>1.026471</td>\n",
       "      <td>862.0</td>\n",
       "      <td>2.535294</td>\n",
       "      <td>33.68</td>\n",
       "      <td>-117.80</td>\n",
       "      <td>340.0</td>\n",
       "      <td>2032.0</td>\n",
       "      <td>349.0</td>\n",
       "      <td>2.741</td>\n",
       "    </tr>\n",
       "    <tr>\n",
       "      <th>2</th>\n",
       "      <td>2</td>\n",
       "      <td>1.5536</td>\n",
       "      <td>25.0</td>\n",
       "      <td>4.088785</td>\n",
       "      <td>1.000000</td>\n",
       "      <td>931.0</td>\n",
       "      <td>4.350467</td>\n",
       "      <td>36.60</td>\n",
       "      <td>-120.19</td>\n",
       "      <td>214.0</td>\n",
       "      <td>875.0</td>\n",
       "      <td>214.0</td>\n",
       "      <td>0.583</td>\n",
       "    </tr>\n",
       "    <tr>\n",
       "      <th>3</th>\n",
       "      <td>3</td>\n",
       "      <td>1.5284</td>\n",
       "      <td>31.0</td>\n",
       "      <td>2.740088</td>\n",
       "      <td>1.008811</td>\n",
       "      <td>597.0</td>\n",
       "      <td>2.629956</td>\n",
       "      <td>34.10</td>\n",
       "      <td>-118.32</td>\n",
       "      <td>227.0</td>\n",
       "      <td>622.0</td>\n",
       "      <td>229.0</td>\n",
       "      <td>2.000</td>\n",
       "    </tr>\n",
       "    <tr>\n",
       "      <th>4</th>\n",
       "      <td>4</td>\n",
       "      <td>4.0815</td>\n",
       "      <td>21.0</td>\n",
       "      <td>5.166667</td>\n",
       "      <td>1.002688</td>\n",
       "      <td>1130.0</td>\n",
       "      <td>3.037634</td>\n",
       "      <td>37.79</td>\n",
       "      <td>-121.23</td>\n",
       "      <td>372.0</td>\n",
       "      <td>1922.0</td>\n",
       "      <td>373.0</td>\n",
       "      <td>1.179</td>\n",
       "    </tr>\n",
       "  </tbody>\n",
       "</table>\n",
       "</div>"
      ],
      "text/plain": [
       "   id  MedInc  HouseAge  AveRooms  AveBedrms  Population  AveOccup  Latitude  \\\n",
       "0   0  1.4817       6.0  4.443645   1.134293      1397.0  3.350120     36.77   \n",
       "1   1  6.9133       8.0  5.976471   1.026471       862.0  2.535294     33.68   \n",
       "2   2  1.5536      25.0  4.088785   1.000000       931.0  4.350467     36.60   \n",
       "3   3  1.5284      31.0  2.740088   1.008811       597.0  2.629956     34.10   \n",
       "4   4  4.0815      21.0  5.166667   1.002688      1130.0  3.037634     37.79   \n",
       "\n",
       "   Longitude  Household  AllRooms  AllBedrms  Price  \n",
       "0    -119.84      417.0    1853.0      473.0  0.720  \n",
       "1    -117.80      340.0    2032.0      349.0  2.741  \n",
       "2    -120.19      214.0     875.0      214.0  0.583  \n",
       "3    -118.32      227.0     622.0      229.0  2.000  \n",
       "4    -121.23      372.0    1922.0      373.0  1.179  "
      ]
     },
     "execution_count": 45,
     "metadata": {},
     "output_type": "execute_result"
    }
   ],
   "source": [
    "# 合計居室数(AllRooms)と合計寝室数(AllBedrms)を求める\n",
    "train[\"AllRooms\"] = train[\"Household\"] * train[\"AveRooms\"]\n",
    "train[\"AllBedrms\"] = train[\"Household\"] * train[\"AveBedrms\"]\n",
    "train.head()"
   ]
  },
  {
   "cell_type": "code",
   "execution_count": 46,
   "id": "6205e03e",
   "metadata": {
    "execution": {
     "iopub.execute_input": "2023-11-09T01:34:04.154938Z",
     "iopub.status.busy": "2023-11-09T01:34:04.153966Z",
     "iopub.status.idle": "2023-11-09T01:34:04.178005Z",
     "shell.execute_reply": "2023-11-09T01:34:04.176806Z"
    },
    "papermill": {
     "duration": 0.078549,
     "end_time": "2023-11-09T01:34:04.180527",
     "exception": false,
     "start_time": "2023-11-09T01:34:04.101978",
     "status": "completed"
    },
    "tags": []
   },
   "outputs": [
    {
     "data": {
      "text/html": [
       "<div>\n",
       "<style scoped>\n",
       "    .dataframe tbody tr th:only-of-type {\n",
       "        vertical-align: middle;\n",
       "    }\n",
       "\n",
       "    .dataframe tbody tr th {\n",
       "        vertical-align: top;\n",
       "    }\n",
       "\n",
       "    .dataframe thead th {\n",
       "        text-align: right;\n",
       "    }\n",
       "</style>\n",
       "<table border=\"1\" class=\"dataframe\">\n",
       "  <thead>\n",
       "    <tr style=\"text-align: right;\">\n",
       "      <th></th>\n",
       "      <th>id</th>\n",
       "      <th>MedInc</th>\n",
       "      <th>HouseAge</th>\n",
       "      <th>AveRooms</th>\n",
       "      <th>AveBedrms</th>\n",
       "      <th>Population</th>\n",
       "      <th>AveOccup</th>\n",
       "      <th>Latitude</th>\n",
       "      <th>Longitude</th>\n",
       "      <th>Household</th>\n",
       "      <th>AllRooms</th>\n",
       "      <th>AllBedrms</th>\n",
       "    </tr>\n",
       "  </thead>\n",
       "  <tbody>\n",
       "    <tr>\n",
       "      <th>0</th>\n",
       "      <td>0</td>\n",
       "      <td>6.4114</td>\n",
       "      <td>15.0</td>\n",
       "      <td>7.527559</td>\n",
       "      <td>1.049869</td>\n",
       "      <td>2529.0</td>\n",
       "      <td>3.318898</td>\n",
       "      <td>33.60</td>\n",
       "      <td>-117.65</td>\n",
       "      <td>762.0</td>\n",
       "      <td>5736.0</td>\n",
       "      <td>800.0</td>\n",
       "    </tr>\n",
       "    <tr>\n",
       "      <th>1</th>\n",
       "      <td>1</td>\n",
       "      <td>4.1843</td>\n",
       "      <td>12.0</td>\n",
       "      <td>6.330084</td>\n",
       "      <td>1.041783</td>\n",
       "      <td>2033.0</td>\n",
       "      <td>2.831476</td>\n",
       "      <td>38.62</td>\n",
       "      <td>-120.91</td>\n",
       "      <td>718.0</td>\n",
       "      <td>4545.0</td>\n",
       "      <td>748.0</td>\n",
       "    </tr>\n",
       "    <tr>\n",
       "      <th>2</th>\n",
       "      <td>2</td>\n",
       "      <td>1.7411</td>\n",
       "      <td>35.0</td>\n",
       "      <td>5.369159</td>\n",
       "      <td>1.294393</td>\n",
       "      <td>909.0</td>\n",
       "      <td>4.247664</td>\n",
       "      <td>33.93</td>\n",
       "      <td>-118.23</td>\n",
       "      <td>214.0</td>\n",
       "      <td>1149.0</td>\n",
       "      <td>277.0</td>\n",
       "    </tr>\n",
       "    <tr>\n",
       "      <th>3</th>\n",
       "      <td>3</td>\n",
       "      <td>3.4412</td>\n",
       "      <td>39.0</td>\n",
       "      <td>4.173405</td>\n",
       "      <td>1.074573</td>\n",
       "      <td>2156.0</td>\n",
       "      <td>1.937107</td>\n",
       "      <td>37.59</td>\n",
       "      <td>-122.37</td>\n",
       "      <td>1113.0</td>\n",
       "      <td>4645.0</td>\n",
       "      <td>1196.0</td>\n",
       "    </tr>\n",
       "    <tr>\n",
       "      <th>4</th>\n",
       "      <td>4</td>\n",
       "      <td>7.8195</td>\n",
       "      <td>16.0</td>\n",
       "      <td>8.602349</td>\n",
       "      <td>1.058725</td>\n",
       "      <td>2142.0</td>\n",
       "      <td>3.593960</td>\n",
       "      <td>33.70</td>\n",
       "      <td>-117.98</td>\n",
       "      <td>596.0</td>\n",
       "      <td>5127.0</td>\n",
       "      <td>631.0</td>\n",
       "    </tr>\n",
       "  </tbody>\n",
       "</table>\n",
       "</div>"
      ],
      "text/plain": [
       "   id  MedInc  HouseAge  AveRooms  AveBedrms  Population  AveOccup  Latitude  \\\n",
       "0   0  6.4114      15.0  7.527559   1.049869      2529.0  3.318898     33.60   \n",
       "1   1  4.1843      12.0  6.330084   1.041783      2033.0  2.831476     38.62   \n",
       "2   2  1.7411      35.0  5.369159   1.294393       909.0  4.247664     33.93   \n",
       "3   3  3.4412      39.0  4.173405   1.074573      2156.0  1.937107     37.59   \n",
       "4   4  7.8195      16.0  8.602349   1.058725      2142.0  3.593960     33.70   \n",
       "\n",
       "   Longitude  Household  AllRooms  AllBedrms  \n",
       "0    -117.65      762.0    5736.0      800.0  \n",
       "1    -120.91      718.0    4545.0      748.0  \n",
       "2    -118.23      214.0    1149.0      277.0  \n",
       "3    -122.37     1113.0    4645.0     1196.0  \n",
       "4    -117.98      596.0    5127.0      631.0  "
      ]
     },
     "execution_count": 46,
     "metadata": {},
     "output_type": "execute_result"
    }
   ],
   "source": [
    "test[\"AllRooms\"] = test[\"Household\"] * test[\"AveRooms\"]\n",
    "test[\"AllBedrms\"] = test[\"Household\"] * test[\"AveBedrms\"]\n",
    "test.head()"
   ]
  },
  {
   "cell_type": "code",
   "execution_count": 47,
   "id": "8cbc5977",
   "metadata": {
    "execution": {
     "iopub.execute_input": "2023-11-09T01:34:04.284454Z",
     "iopub.status.busy": "2023-11-09T01:34:04.284045Z",
     "iopub.status.idle": "2023-11-09T01:34:05.497909Z",
     "shell.execute_reply": "2023-11-09T01:34:05.496656Z"
    },
    "id": "_8uxHhhKBotK",
    "outputId": "9e7b6aa1-8041-4e9a-9de0-f676c073f482",
    "papermill": {
     "duration": 1.269319,
     "end_time": "2023-11-09T01:34:05.500463",
     "exception": false,
     "start_time": "2023-11-09T01:34:04.231144",
     "status": "completed"
    },
    "tags": []
   },
   "outputs": [
    {
     "data": {
      "text/plain": [
       "array([[<Axes: title={'center': 'Household'}>,\n",
       "        <Axes: title={'center': 'AllRooms'}>],\n",
       "       [<Axes: title={'center': 'AllBedrms'}>, <Axes: >]], dtype=object)"
      ]
     },
     "execution_count": 47,
     "metadata": {},
     "output_type": "execute_result"
    },
    {
     "data": {
      "image/png": "[encoded data removed]",
      "text/plain": [
       "<Figure size 1500x1000 with 4 Axes>"
      ]
     },
     "metadata": {},
     "output_type": "display_data"
    }
   ],
   "source": [
    "# データの分布を確認\n",
    "train[['Household', 'AllRooms', 'AllBedrms']].hist(bins=30, figsize=(15, 10))"
   ]
  },
  {
   "cell_type": "code",
   "execution_count": 48,
   "id": "97135433",
   "metadata": {
    "execution": {
     "iopub.execute_input": "2023-11-09T01:34:05.605880Z",
     "iopub.status.busy": "2023-11-09T01:34:05.605386Z",
     "iopub.status.idle": "2023-11-09T01:34:06.600598Z",
     "shell.execute_reply": "2023-11-09T01:34:06.599335Z"
    },
    "papermill": {
     "duration": 1.050905,
     "end_time": "2023-11-09T01:34:06.603123",
     "exception": false,
     "start_time": "2023-11-09T01:34:05.552218",
     "status": "completed"
    },
    "tags": []
   },
   "outputs": [
    {
     "data": {
      "text/plain": [
       "array([[<Axes: title={'center': 'Household'}>,\n",
       "        <Axes: title={'center': 'AllRooms'}>],\n",
       "       [<Axes: title={'center': 'AllBedrms'}>, <Axes: >]], dtype=object)"
      ]
     },
     "execution_count": 48,
     "metadata": {},
     "output_type": "execute_result"
    },
    {
     "data": {
      "image/png": "[encoded data removed]",
      "text/plain": [
       "<Figure size 1500x1000 with 4 Axes>"
      ]
     },
     "metadata": {},
     "output_type": "display_data"
    }
   ],
   "source": [
    "test[['Household', 'AllRooms', 'AllBedrms']].hist(bins=30, figsize=(15, 10))"
   ]
  },
  {
   "cell_type": "markdown",
   "id": "e665a061",
   "metadata": {
    "id": "Fw_Z2cBh-y1d",
    "papermill": {
     "duration": 0.054186,
     "end_time": "2023-11-09T01:34:06.710329",
     "exception": false,
     "start_time": "2023-11-09T01:34:06.656143",
     "status": "completed"
    },
    "tags": []
   },
   "source": [
    "作成した特徴量についてすべてきれいな整数で出力されました。特に計算も問題なさそうです！  \n",
    "\n",
    "このように複数の特徴量を組み合わせることで新たな特徴量を作成することができます。   \n",
    "特徴量生成はデータ分析の成功に大きく寄与する重要な手順です。EDA(探索的データ解析)の段階でデータの特徴や構造を理解し、その特徴に合わせた処理を行うことで機械学習モデルの予測精度を向上させることが期待できます。その他の詳しい手法については添付URLを参考にしてみて下さい！\n",
    "\n",
    "https://zenn.dev/colum2131/articles/fffac4654e7c7c\n"
   ]
  },
  {
   "cell_type": "markdown",
   "id": "1f0043dc",
   "metadata": {
    "id": "7e5ufLVwGT9p",
    "papermill": {
     "duration": 0.052552,
     "end_time": "2023-11-09T01:34:06.816494",
     "exception": false,
     "start_time": "2023-11-09T01:34:06.763942",
     "status": "completed"
    },
    "tags": []
   },
   "source": [
    "## モデルの学習\n",
    "- 前処理でデータをモデルが読み込める形に加工した後は実際に機械学習を用いて学習を進めていきます。\n",
    "- データ分析におけるモデルの学習は、機械学習アルゴリズムを用いてデータからパターンや関係性を学習し、予測や分類のタスクに適用するプロセスです。"
   ]
  },
  {
   "cell_type": "markdown",
   "id": "0116f734",
   "metadata": {
    "id": "9Ju20bE7KSAW",
    "papermill": {
     "duration": 0.052525,
     "end_time": "2023-11-09T01:34:06.922472",
     "exception": false,
     "start_time": "2023-11-09T01:34:06.869947",
     "status": "completed"
    },
    "tags": []
   },
   "source": [
    "- モデルの学習では以下の手順で進めます。\n",
    "  1. **データ分割**： データをトレーニングデータとテストデータに分割します。トレーニングデータはモデルの学習に使用され、テストデータはモデルの性能評価に使用されます。\n",
    "  2. **モデル選択**：問題に適した機械学習アルゴリズムを選択します。アルゴリズムの選択は、問題のタイプ（回帰、分類、クラスタリングなど）やデータの特性によって決まります。\n",
    "  3. **学習**：選択したアルゴリズムを使用して、トレーニングデータを用いてモデルを学習させます。このプロセスでは、アルゴリズムがデータセット内のパターンや関係性を捉え、予測や分類を行うための機械学習モデルを構築します。"
   ]
  },
  {
   "cell_type": "markdown",
   "id": "7af6fe85",
   "metadata": {
    "id": "CYvhuWcEKaE3",
    "papermill": {
     "duration": 0.052862,
     "end_time": "2023-11-09T01:34:07.028024",
     "exception": false,
     "start_time": "2023-11-09T01:34:06.975162",
     "status": "completed"
    },
    "tags": []
   },
   "source": [
    "### データの分割\n",
    "データを分割することで、モデルが未知のデータに対してどの程度正確に予測や分類ができるかを測定することができます。  \n",
    "データ分割にはいくつかの方法がありますが、主に以下の3つが一般的です。\n",
    "\n",
    "\n",
    "  1. **ホールドアウト法**： データセットをトレーニングデータとテストデータに分割します。通常、データセットの70-80%をトレーニングデータに、残りの20-30%をテストデータに割り当てます。トレーニングデータはモデルの学習に使用され、テストデータはモデルの性能評価に使用されます。ホールドアウト法はシンプルで実装が容易ですが、データ分割の仕方によっては偏りが生じる可能性があります。\n",
    "\n",
    "  2. **k-分割交差検証(k-fold cross-validation)**：データセットをk個の同じサイズのサブセット（フォールド）に分割します。モデルの学習と評価をk回繰り返し、各回で異なるフォールドをテストデータとして使用し、残りのk-1個のフォールドをトレーニングデータとして使用します。最終的にk回の評価結果の平均を取ることで、モデルの性能を推定します。k-分割交差検証は、データの偏りを減らし、モデルの性能評価の信頼性を高めることができますが、計算コストが高くなるというデメリットがあります。\n",
    "\n",
    "  3. **層化k-分割交差検証(stratified k-fold cross-validation)**： k-分割交差検証と同様に、データセットをk個のサブセットに分割しますが、各フォールドが元のデータセットと同じクラスの比率を持つように分割します。これにより、クラスの不均衡があるデータセットに対しても、各フォールドでクラスの分布が均等になるように保証します。層化k-分割交差検証は、特に分類タスクにおいて、モデルの性能評価の信頼性を高めることができます。ただし、k-分割交差検証と同様に、計算コストが高くなるというデメリットがあります。"
   ]
  },
  {
   "cell_type": "markdown",
   "id": "81b9893a",
   "metadata": {
    "id": "XMnn-IqENBxL",
    "papermill": {
     "duration": 0.052358,
     "end_time": "2023-11-09T01:34:07.133009",
     "exception": false,
     "start_time": "2023-11-09T01:34:07.080651",
     "status": "completed"
    },
    "tags": []
   },
   "source": [
    "**データ分割手法の使い分け**\n",
    "\n",
    "|手法|使いどころ|\n",
    "|-|-|\n",
    "|ホールドアウト法|データセットが大規模でランダムに分布している場合や、計算コストを抑えたい場合|\n",
    "|k-分割交差検証|データセットが小規模である場合や、データ分布が不均衡でない場合|\n",
    "|層化k-分割交差検証|データセットがクラスの不均衡がある場合や、分類タスクにおいてクラス間の比率を維持したい場合|"
   ]
  },
  {
   "cell_type": "markdown",
   "id": "d4abeb95",
   "metadata": {
    "id": "uuns9KEHPyZu",
    "papermill": {
     "duration": 0.052332,
     "end_time": "2023-11-09T01:34:07.237887",
     "exception": false,
     "start_time": "2023-11-09T01:34:07.185555",
     "status": "completed"
    },
    "tags": []
   },
   "source": [
    "- 今回はホールドアウト法でデータの分割を行います。ホールドアウト法にはscikit learnのtran_test_split関数を用いることができます。"
   ]
  },
  {
   "cell_type": "code",
   "execution_count": 49,
   "id": "4cac4ae7",
   "metadata": {
    "execution": {
     "iopub.execute_input": "2023-11-09T01:34:07.345801Z",
     "iopub.status.busy": "2023-11-09T01:34:07.345317Z",
     "iopub.status.idle": "2023-11-09T01:34:07.353362Z",
     "shell.execute_reply": "2023-11-09T01:34:07.352248Z"
    },
    "id": "37_LL8ZDQQFZ",
    "outputId": "a8f6fe0c-731f-4ad7-b92b-d4e8f1cbf620",
    "papermill": {
     "duration": 0.065111,
     "end_time": "2023-11-09T01:34:07.355722",
     "exception": false,
     "start_time": "2023-11-09T01:34:07.290611",
     "status": "completed"
    },
    "tags": []
   },
   "outputs": [
    {
     "name": "stdout",
     "output_type": "stream",
     "text": [
      "データ分割前の行数 16512\n"
     ]
    }
   ],
   "source": [
    "# データを説明変数と目的変数に分ける\n",
    "train_X = train.drop(['Price', 'id'], axis=1)\n",
    "target = train['Price']\n",
    "\n",
    "print('データ分割前の行数' ,len(train_X))"
   ]
  },
  {
   "cell_type": "code",
   "execution_count": 50,
   "id": "33d074d4",
   "metadata": {
    "execution": {
     "iopub.execute_input": "2023-11-09T01:34:07.463578Z",
     "iopub.status.busy": "2023-11-09T01:34:07.463187Z",
     "iopub.status.idle": "2023-11-09T01:34:07.475165Z",
     "shell.execute_reply": "2023-11-09T01:34:07.473623Z"
    },
    "id": "TXYrIgTFKXvY",
    "outputId": "4309f015-acb5-430f-ae2b-8daecc9e4421",
    "papermill": {
     "duration": 0.068546,
     "end_time": "2023-11-09T01:34:07.477567",
     "exception": false,
     "start_time": "2023-11-09T01:34:07.409021",
     "status": "completed"
    },
    "tags": []
   },
   "outputs": [
    {
     "name": "stdout",
     "output_type": "stream",
     "text": [
      "学習用データの行数 13209\n",
      "検証用用データの行数 3303\n"
     ]
    }
   ],
   "source": [
    "# train_test_splitのimport\n",
    "from sklearn.model_selection import train_test_split\n",
    "\n",
    "# データの分割(学習用データ80% 検証用データ 20%)\n",
    "# test_sizeで検証用データの割合を設定することができる\n",
    "\n",
    "X_train, X_test, y_train, y_test = train_test_split(train_X, target, test_size=0.2, random_state=2)\n",
    "\n",
    "# 分割後のデータ数を確認\n",
    "print('学習用データの行数' ,len(X_train))\n",
    "print('検証用用データの行数' ,len(X_test))"
   ]
  },
  {
   "cell_type": "markdown",
   "id": "d7f0d8ba",
   "metadata": {
    "id": "Cmhnz0q9TCiQ",
    "papermill": {
     "duration": 0.052562,
     "end_time": "2023-11-09T01:34:07.583359",
     "exception": false,
     "start_time": "2023-11-09T01:34:07.530797",
     "status": "completed"
    },
    "tags": []
   },
   "source": [
    "### モデル選択\n",
    "- データの分割まで終わったので実際に利用するモデルを選択していきます。まずは行いたいタスク(回帰・分類・クラスタリングなど)を選び、その後そのタスクに沿うアルゴリズムを選択します。今回は住宅価格を予測することが目的なので回帰問題となります。  \n",
    "- その後はデータの分布、特徴量の数、データセットのサイズなど、データの特性を考慮してアルゴリズムの選択を行っていきますが、アルゴリズムの選択方法の基準として利用できるscikit-learnのチートシートがあるのでこれを参考にするのもオススメです。  \n",
    "- また複数のアルゴリズムで学習を行い、結果的に予測精度が一番高いものを選択する方法も良く用いられます。\n",
    "\n",
    "今回は単純な線形回帰モデルをpythonで実装しながら見ていきます。"
   ]
  },
  {
   "cell_type": "markdown",
   "id": "167e49a3",
   "metadata": {
    "papermill": {
     "duration": 0.054236,
     "end_time": "2023-11-09T01:34:07.690054",
     "exception": false,
     "start_time": "2023-11-09T01:34:07.635818",
     "status": "completed"
    },
    "tags": []
   },
   "source": [
    "**scikit-learnチートシート**：https://scikit-learn.org/stable/tutorial/machine_learning_map/"
   ]
  },
  {
   "cell_type": "markdown",
   "id": "edfd0897",
   "metadata": {
    "id": "o52V7SMyWM5a",
    "papermill": {
     "duration": 0.053156,
     "end_time": "2023-11-09T01:34:07.797550",
     "exception": false,
     "start_time": "2023-11-09T01:34:07.744394",
     "status": "completed"
    },
    "tags": []
   },
   "source": [
    "### 学習\n",
    "モデル選択が終わったら、選択したアルゴリズムを使ってトレーニングデータを使ってモデルを学習させましょう！  "
   ]
  },
  {
   "cell_type": "markdown",
   "id": "9074e41b",
   "metadata": {
    "id": "ZCpvMLtHXFQp",
    "papermill": {
     "duration": 0.052424,
     "end_time": "2023-11-09T01:34:07.902969",
     "exception": false,
     "start_time": "2023-11-09T01:34:07.850545",
     "status": "completed"
    },
    "tags": []
   },
   "source": [
    "scikit-learnでは\n",
    "  1. **モデルのインスタンス化**\n",
    "  2. **fit関数を用いて学習**  \n",
    "\n",
    "の手順で機械学習モデルの学習を手軽に行うことができます。"
   ]
  },
  {
   "cell_type": "markdown",
   "id": "8841be0e",
   "metadata": {
    "id": "znYarbPLoP7R",
    "papermill": {
     "duration": 0.052893,
     "end_time": "2023-11-09T01:34:08.009230",
     "exception": false,
     "start_time": "2023-11-09T01:34:07.956337",
     "status": "completed"
    },
    "tags": []
   },
   "source": [
    "#### **線形回帰とは**\n",
    "\n",
    "線形回帰モデル（Linear Regression）は、次のような回帰式を使用して、説明変数から目的変数の値を推定するモデルです。\n",
    "特に、1つの説明変数を持つ場合は「単回帰分析」と称され、2つ以上の説明変数を含む場合は「重回帰分析」と呼ばれます。"
   ]
  },
  {
   "cell_type": "code",
   "execution_count": 51,
   "id": "9c670cf5",
   "metadata": {
    "execution": {
     "iopub.execute_input": "2023-11-09T01:34:08.121078Z",
     "iopub.status.busy": "2023-11-09T01:34:08.120232Z",
     "iopub.status.idle": "2023-11-09T01:34:08.167486Z",
     "shell.execute_reply": "2023-11-09T01:34:08.166556Z"
    },
    "id": "0SoTqsJ8-nat",
    "papermill": {
     "duration": 0.107681,
     "end_time": "2023-11-09T01:34:08.171702",
     "exception": false,
     "start_time": "2023-11-09T01:34:08.064021",
     "status": "completed"
    },
    "tags": []
   },
   "outputs": [],
   "source": [
    "# 線形モデル\n",
    "from sklearn.linear_model import LinearRegression\n",
    "\n",
    "# 線形モデルのインスタンス化\n",
    "LR = LinearRegression()\n",
    "\n",
    "# 学習の実行\n",
    "model = LR.fit(X_train, y_train)"
   ]
  },
  {
   "cell_type": "markdown",
   "id": "c7aa0994",
   "metadata": {
    "id": "vNJeNXviY0dg",
    "papermill": {
     "duration": 0.053132,
     "end_time": "2023-11-09T01:34:08.335795",
     "exception": false,
     "start_time": "2023-11-09T01:34:08.282663",
     "status": "completed"
    },
    "tags": []
   },
   "source": [
    "## モデルの予測と評価\n",
    "- モデルの学習が終わったら学習に使ってないデータを用いて予測と予測精度の評価を行います。予測精度の評価をもとにモデルの性能を評価します。評価指標は、解決しようとする問題のタイプ(回帰・分類・クラスタリングなど)によって変わります。\n",
    "\n",
    "下記に回帰と分類で用いられる代表的な評価指標を紹介します。"
   ]
  },
  {
   "cell_type": "markdown",
   "id": "d3c2571a",
   "metadata": {
    "id": "fzYUCkH5cUdO",
    "papermill": {
     "duration": 0.052418,
     "end_time": "2023-11-09T01:34:08.440898",
     "exception": false,
     "start_time": "2023-11-09T01:34:08.388480",
     "status": "completed"
    },
    "tags": []
   },
   "source": [
    "#### **回帰の評価指標**\n",
    "\n",
    "\n",
    "**平均絶対誤差 (MAE)**: 実際の値と予測値の絶対誤差の平均です。\n",
    "\n",
    "$$\n",
    "\\mathrm{MAE} = \\frac{1}{n}\\sum_{i=1}^n|y_i - \\hat{y}_i|\n",
    "$$\n",
    "\n",
    "<br>\n",
    "\n",
    "**平均二乗誤差 (MSE)**: 実際の値と予測値の二乗誤差の平均です。大きな誤差に対してより厳しい評価を行います。\n",
    "\n",
    "$$\n",
    "\\mathrm{MSE} = \\frac{1}{n}\\sum_{i=1}^n(y_i - \\hat{y}_i)^2\n",
    "$$\n",
    "\n",
    "<br>\n",
    "\n",
    "**平均二乗誤差平方根 (RMSE)**: MSEの平方根で、誤差の単位が元の目的変数と同じになります。\n",
    "\n",
    "$$\n",
    "\\mathrm{RMSE} = \\sqrt{\\frac{1}{n}\\sum_{i=1}^n(y_i - \\hat{y}_i)^2}\n",
    "$$\n",
    "\n",
    "<br>\n",
    "\n",
    "**決定係数 (R^2)**: モデルがデータのばらつきをどの程度説明できるかを示す指標です。1に近いほどモデルの性能が良いと評価されます。\n",
    "\n",
    "$$\n",
    "R^2 = 1 - \\frac{\\sum_{i=1}^n(y_i - \\hat{y}_i)^2}{\\sum_{i=1}^n(y_i - \\bar{y})^2}\n",
    "$$"
   ]
  },
  {
   "cell_type": "markdown",
   "id": "c2b1be19",
   "metadata": {
    "id": "23N6ow3ffMhG",
    "papermill": {
     "duration": 0.052427,
     "end_time": "2023-11-09T01:34:08.545964",
     "exception": false,
     "start_time": "2023-11-09T01:34:08.493537",
     "status": "completed"
    },
    "tags": []
   },
   "source": [
    "#### **分類の評価指標**\n",
    "\n",
    "\n",
    "**混合行列**：分類器が予測したクラスと実際のクラスを比較した結果を示しています。この混合行列をもとに、さまざまな評価指標を計算することができます。\n",
    "\n",
    "<br>\n",
    "\n",
    "|                   | Predicted Positive | Predicted Negative |\n",
    "|-------------------|--------------------|--------------------|\n",
    "| Actual Positive   | True Positive (TP) | False Negative (FN)|\n",
    "| Actual Negative   | False Positive (FP)| True Negative (TN) |\n",
    "\n",
    "<br>\n",
    "\n",
    "**True Positive(TP)**：真の値が正事例のものに対して、正事例と予測したもの (真陽性)\n",
    "\n",
    "**False Positive(FP)**：真の値が負事例のものに対して、正事例と予測したもの(偽陽性)\n",
    "\n",
    "**False Negative(FN)**：真の値が正事例のものに対して、負事例と予測したもの(偽陰性)\n",
    "\n",
    "**True Negative(TN)**：真の値が負事例のものに対して、負事例と予測したもの(真陰性)"
   ]
  },
  {
   "cell_type": "markdown",
   "id": "77630f3f",
   "metadata": {
    "id": "5-4gC2gUdUpR",
    "papermill": {
     "duration": 0.052386,
     "end_time": "2023-11-09T01:34:08.650794",
     "exception": false,
     "start_time": "2023-11-09T01:34:08.598408",
     "status": "completed"
    },
    "tags": []
   },
   "source": [
    "**正解率 (Accuracy)**: 正しく分類されたサンプルの割合です。\n",
    "\n",
    "$$\n",
    "\\mathrm{Accuracy} = \\frac{\\mathrm{True \\ Positive (TP)} + \\mathrm{True \\ Negative (TN)}}{\\mathrm{True \\ Positive (TP)} + \\mathrm{True \\ Negative (TN)} + \\mathrm{False \\ Positive (FP)} + \\mathrm{False \\ Negative (FN)}}\n",
    "$$\n",
    "\n",
    "<br>\n",
    "\n",
    "**適合率 (Precision)**: 正と予測されたサンプルのうち、実際に正であったサンプルの割合です。\n",
    "\n",
    "$$\n",
    "\\mathrm{Precision} = \\frac{\\mathrm{True \\ Positive (TP)}}{\\mathrm{True \\ Positive (TP)} + \\mathrm{False \\ Positive(FP)}}\n",
    "$$\n",
    "\n",
    "<br>\n",
    "\n",
    "**再現率 (Recall)**: 実際に正であったサンプルのうち、正と予測されたサンプルの割合です。\n",
    "\n",
    "$$\n",
    "\\mathrm{Recall} = \\frac{\\mathrm{True \\ Positive (TP)}}{\\mathrm{True \\ Positive (TP)} + \\mathrm{False \\ Negative(FN)}}\n",
    "$$\n",
    "\n",
    "<br>\n",
    "\n",
    "**F1スコア (F1 score)**: 適合率と再現率の調和平均で、両者のバランスを評価する指標です。\n",
    "\n",
    "$$\n",
    "\\mathrm{F1 \\ Score} = 2 \\times \\frac{\\mathrm{Precision} \\times \\mathrm{Recall}}{\\mathrm{Precision} + \\mathrm{Recall}}\n",
    "$$"
   ]
  },
  {
   "cell_type": "markdown",
   "id": "a58500c3",
   "metadata": {
    "id": "J9J0oybOhaoD",
    "papermill": {
     "duration": 0.052542,
     "end_time": "2023-11-09T01:34:08.757690",
     "exception": false,
     "start_time": "2023-11-09T01:34:08.705148",
     "status": "completed"
    },
    "tags": []
   },
   "source": [
    "今回は回帰の評価指標MAE、MSE、RMSE、決定係数の4種類でモデルの性能を確認してみます。"
   ]
  },
  {
   "cell_type": "code",
   "execution_count": 52,
   "id": "4ecabefa",
   "metadata": {
    "execution": {
     "iopub.execute_input": "2023-11-09T01:34:08.867617Z",
     "iopub.status.busy": "2023-11-09T01:34:08.867215Z",
     "iopub.status.idle": "2023-11-09T01:34:08.886559Z",
     "shell.execute_reply": "2023-11-09T01:34:08.885404Z"
    },
    "id": "iewKUSktXYgL",
    "outputId": "a0626639-6d49-4430-987e-8bf6f1dcc5aa",
    "papermill": {
     "duration": 0.078434,
     "end_time": "2023-11-09T01:34:08.890279",
     "exception": false,
     "start_time": "2023-11-09T01:34:08.811845",
     "status": "completed"
    },
    "tags": []
   },
   "outputs": [
    {
     "name": "stdout",
     "output_type": "stream",
     "text": [
      "MAE 0.4999946441433737\n",
      "--------------------------------------------------\n",
      "MSE 0.46874164044625827\n",
      "--------------------------------------------------\n",
      "RMSE 0.6846470918993656\n",
      "--------------------------------------------------\n",
      "決定係数 0.6440681200241893\n"
     ]
    }
   ],
   "source": [
    "# 評価指標のimport\n",
    "from sklearn.metrics import mean_absolute_error\n",
    "from sklearn.metrics import mean_squared_error\n",
    "from sklearn.metrics import r2_score\n",
    "\n",
    "# モデルの予測 学習済みモデルを使用して、新しいデータに対して予測を行うために、predict関数を利用できます。\n",
    "pred = model.predict(X_test)\n",
    "\n",
    "# MAE\n",
    "print('MAE',mean_absolute_error(y_test, pred))\n",
    "print('-' * 50)\n",
    "\n",
    "# MSE\n",
    "print('MSE',mean_squared_error(y_test, pred))\n",
    "print('-' * 50)\n",
    "\n",
    "# RMSE RMSEはMSEに√を付けたものになるのでnp.sqrt()でMSEを囲んで算出する\n",
    "print('RMSE',np.sqrt(mean_squared_error(y_test, pred)))\n",
    "print('-' * 50)\n",
    "\n",
    "# 決定係数\n",
    "print('決定係数',r2_score(y_test, pred))"
   ]
  },
  {
   "cell_type": "markdown",
   "id": "dc077790",
   "metadata": {
    "id": "K3rPTXNkkq3n",
    "papermill": {
     "duration": 0.052888,
     "end_time": "2023-11-09T01:34:09.053589",
     "exception": false,
     "start_time": "2023-11-09T01:34:09.000701",
     "status": "completed"
    },
    "tags": []
   },
   "source": [
    "決定係数からこのモデルはモデルはデータのバリエーションの60%を説明できるということが読み取れます。  \n",
    "実際のデータ分析では、ここからモデルのチューニングやより良い特徴量の作成、他のモデルを利用するなどして予測精度が向上するように試行錯誤を繰り返していきます。"
   ]
  },
  {
   "cell_type": "markdown",
   "id": "212e69ea",
   "metadata": {
    "id": "EUw-8VeBvpcX",
    "papermill": {
     "duration": 0.052775,
     "end_time": "2023-11-09T01:34:09.159396",
     "exception": false,
     "start_time": "2023-11-09T01:34:09.106621",
     "status": "completed"
    },
    "tags": []
   },
   "source": [
    "## モデルのチューニング\n",
    "- モデルの性能を上げるためにハイパーパラメータや特徴量の調整します。チューニングの手法として主に以下が挙げられます。\n",
    "\n",
    "  1. **ハイパーパラメータチューニング**：ハイパーパラメータは、モデルの学習プロセスに影響を与えるパラメータです。ハイパーパラメータは学習データから自動的に決定されず、事前に設定する必要があります。適切なハイパーパラメータを選択することで、モデルの性能が向上することがあります。ハイパーパラメータチューニングの一般的な手法には、グリッドサーチ、ランダムサーチ、ベイズ最適化などがあります。\n",
    "\n",
    "  2. **特徴量選択**：特徴量選択は、モデルの性能に寄与する特徴量を選択し、不要な特徴量を削除するプロセスです。これにより、モデルの過学習を防ぎ、計算効率を向上させることができます。\n",
    "\n",
    "  3. **アンサンブル学習**：アンサンブル学習は、複数のモデルを組み合わせて、より強力な予測モデルを構築する手法です。バギング、ブースティング、スタッキングなどが代表的なアンサンブル学習の方法です。アンサンブル学習により、モデルのバリアンスやバイアスを低減し、性能を向上させることができます。\n",
    "\n",
    "  4. **正則化**：正則化は、モデルの過学習を防ぐために、モデルの複雑さにペナルティを課す手法です。L1正則化（Lasso回帰）やL2正則化（Ridge回帰）などが一般的です。正則化は、モデルが学習データに過剰に適合するのを防ぎ、汎化性能を向上させます。\n",
    "  5. **後処理**：モデルによって生成された予測結果を、実際の問題やアプリケーションに適用するために調整するプロセスです。出力値の範囲を指定してデータを丸め込んだり、分類問題の場合は確率の閾値を調整することで評価指標に対して最適化を行うことができます。\n"
   ]
  },
  {
   "cell_type": "markdown",
   "id": "61e619dd",
   "metadata": {
    "id": "TGWsvk8D1CBJ",
    "papermill": {
     "duration": 0.053914,
     "end_time": "2023-11-09T01:34:09.266008",
     "exception": false,
     "start_time": "2023-11-09T01:34:09.212094",
     "status": "completed"
    },
    "tags": []
   },
   "source": [
    "- 今回はモデルの予測値の最小値を0、最大値を5.00001に丸め込む後処理とアンサンブル学習を行うことでモデルの性能がどれほど向上するのかを確認してみます！"
   ]
  },
  {
   "cell_type": "markdown",
   "id": "68cb82ee",
   "metadata": {
    "id": "hmzoA1-p4-P8",
    "papermill": {
     "duration": 0.053281,
     "end_time": "2023-11-09T01:34:09.372770",
     "exception": false,
     "start_time": "2023-11-09T01:34:09.319489",
     "status": "completed"
    },
    "tags": []
   },
   "source": [
    "### 後処理\n",
    "- 機械学習における後処理は、モデルが生成した出力に対して、追加の処理を行い、予測結果の品質を向上させる重要なステップです。後処理には、次のような手法があります。\n",
    "\n",
    "  1. **しきい値の調整**: 二値分類問題において、確率のしきい値を調整することで、適合率と再現率のバランスを最適化します。\n",
    "  \n",
    "  2. **カットオフ**: 回帰問題において、予測値の最小値や最大値を制限することで、予測範囲を実際の問題に合わせます。"
   ]
  },
  {
   "cell_type": "code",
   "execution_count": 53,
   "id": "f94feee7",
   "metadata": {
    "execution": {
     "iopub.execute_input": "2023-11-09T01:34:09.481243Z",
     "iopub.status.busy": "2023-11-09T01:34:09.480842Z",
     "iopub.status.idle": "2023-11-09T01:34:09.487884Z",
     "shell.execute_reply": "2023-11-09T01:34:09.486845Z"
    },
    "id": "Nr_D8gRp4sB7",
    "outputId": "f77189ea-331a-43f1-c3ba-f0c567cf0d6b",
    "papermill": {
     "duration": 0.064073,
     "end_time": "2023-11-09T01:34:09.490284",
     "exception": false,
     "start_time": "2023-11-09T01:34:09.426211",
     "status": "completed"
    },
    "tags": []
   },
   "outputs": [
    {
     "name": "stdout",
     "output_type": "stream",
     "text": [
      "最小値 -1.2581464319465923\n",
      "最大値 6.907609739170908\n"
     ]
    }
   ],
   "source": [
    "print('最小値',min(pred))\n",
    "print('最大値',max(pred))"
   ]
  },
  {
   "cell_type": "markdown",
   "id": "3da5c56f",
   "metadata": {
    "id": "eOCZhNkj5Ilq",
    "papermill": {
     "duration": 0.054989,
     "end_time": "2023-11-09T01:34:09.598736",
     "exception": false,
     "start_time": "2023-11-09T01:34:09.543747",
     "status": "completed"
    },
    "tags": []
   },
   "source": [
    "線形回帰による予測値の範囲は、上記の通りです。  \n",
    "ただし、住宅価格がマイナスになることはあり得ないため、0以下の予測値が出力された場合は、0に置き換えるように処理します。  \n",
    "また、住宅価格の最大値が5.00001であることが判明しているため、それ以上の値が出力された場合は、5.00001に変換するように処理します。"
   ]
  },
  {
   "cell_type": "code",
   "execution_count": 54,
   "id": "8ec84ed4",
   "metadata": {
    "execution": {
     "iopub.execute_input": "2023-11-09T01:34:09.708205Z",
     "iopub.status.busy": "2023-11-09T01:34:09.707823Z",
     "iopub.status.idle": "2023-11-09T01:34:09.715962Z",
     "shell.execute_reply": "2023-11-09T01:34:09.714813Z"
    },
    "id": "9ZGtIDH94t18",
    "outputId": "2b99c39d-1ec7-45c5-ea57-3f04c062a54d",
    "papermill": {
     "duration": 0.066681,
     "end_time": "2023-11-09T01:34:09.718537",
     "exception": false,
     "start_time": "2023-11-09T01:34:09.651856",
     "status": "completed"
    },
    "tags": []
   },
   "outputs": [
    {
     "name": "stdout",
     "output_type": "stream",
     "text": [
      "最小値 0.0\n",
      "最大値 5.00001\n"
     ]
    }
   ],
   "source": [
    "# 数値の丸め込み処理 0以下を0に5.00001以上を5.00001に変換する\n",
    "pred_rounding = np.where(pred <= 0, 0, pred)\n",
    "pred_rounding = np.where(pred_rounding >= 5.00001, 5.00001, pred_rounding)\n",
    "\n",
    "print('最小値',min(pred_rounding))\n",
    "print('最大値',max(pred_rounding))"
   ]
  },
  {
   "cell_type": "code",
   "execution_count": 55,
   "id": "ceb928ed",
   "metadata": {
    "execution": {
     "iopub.execute_input": "2023-11-09T01:34:09.845839Z",
     "iopub.status.busy": "2023-11-09T01:34:09.845406Z",
     "iopub.status.idle": "2023-11-09T01:34:09.858720Z",
     "shell.execute_reply": "2023-11-09T01:34:09.857523Z"
    },
    "id": "okBWoyFH6_k6",
    "outputId": "4ab7f7b6-69cc-46eb-e78b-cd164b89e571",
    "papermill": {
     "duration": 0.081786,
     "end_time": "2023-11-09T01:34:09.861239",
     "exception": false,
     "start_time": "2023-11-09T01:34:09.779453",
     "status": "completed"
    },
    "tags": []
   },
   "outputs": [
    {
     "name": "stdout",
     "output_type": "stream",
     "text": [
      "MAE_後処理前 0.4999946441433737\n",
      "MAE_後処理後 0.49152645279254525\n",
      "--------------------------------------------------\n",
      "MSE_後処理前 0.46874164044625827\n",
      "MSE_後処理後 0.4532976691185877\n",
      "--------------------------------------------------\n",
      "RMSE_後処理前 0.6846470918993656\n",
      "RMSE_後処理後 0.6732738440772726\n",
      "--------------------------------------------------\n",
      "決定係数_後処理前 0.6440681200241893\n",
      "決定係数_後処理後 0.6557952662271955\n"
     ]
    }
   ],
   "source": [
    "# 後処理後の評価指標を確認\n",
    "\n",
    "# MAE\n",
    "print('MAE_後処理前',mean_absolute_error(y_test, pred))\n",
    "print('MAE_後処理後',mean_absolute_error(y_test, pred_rounding))\n",
    "print('-' * 50)\n",
    "\n",
    "# MSE\n",
    "print('MSE_後処理前',mean_squared_error(y_test, pred))\n",
    "print('MSE_後処理後',mean_squared_error(y_test, pred_rounding))\n",
    "print('-' * 50)\n",
    "\n",
    "# RMSE\n",
    "print('RMSE_後処理前',np.sqrt(mean_squared_error(y_test, pred)))\n",
    "print('RMSE_後処理後',np.sqrt(mean_squared_error(y_test, pred_rounding)))\n",
    "print('-' * 50)\n",
    "\n",
    "# 決定係数\n",
    "print('決定係数_後処理前',r2_score(y_test, pred))\n",
    "print('決定係数_後処理後',r2_score(y_test, pred_rounding))"
   ]
  },
  {
   "cell_type": "markdown",
   "id": "7d2b39bf",
   "metadata": {
    "id": "siDCGZcI8I13",
    "papermill": {
     "duration": 0.052674,
     "end_time": "2023-11-09T01:34:09.967005",
     "exception": false,
     "start_time": "2023-11-09T01:34:09.914331",
     "status": "completed"
    },
    "tags": []
   },
   "source": [
    "後処理によって、評価指標がわずかに改善されることが確認できました！  \n",
    "目的変数の特徴を事前に把握しておくことで、適切な後処理が可能になります。"
   ]
  },
  {
   "cell_type": "markdown",
   "id": "d60f45d5",
   "metadata": {
    "id": "PIpDtfW_-Q2L",
    "papermill": {
     "duration": 0.052735,
     "end_time": "2023-11-09T01:34:10.072775",
     "exception": false,
     "start_time": "2023-11-09T01:34:10.020040",
     "status": "completed"
    },
    "tags": []
   },
   "source": [
    "### アンサンブル学習\n",
    "**アンサンブル学習**：複数のモデルを組み合わせることで予測性能を向上させる手法。主に下記の3つがあります。\n",
    "\n",
    "\n",
    "  1. **バギング（Bagging）**: バギング（Bootstrap Aggregating）は、学習データからランダムに復元抽出（ブートストラップサンプリング）を行い、それぞれのサンプルでモデルを学習させます。これにより、異なるデータセットで学習された複数のモデルが生成されます。最終的な予測は、各モデルの予測結果を平均（回帰）または多数決（分類）で決定します。バギングは、モデルの過学習を抑制し、性能の向上を目指します。\n",
    "\n",
    "  2. **ブースティング（Boosting）**: ブースティングは、弱学習器（性能がやや低いモデル）を逐次的に学習させ、それらの結果を組み合わせることで強力な予測モデルを作成する方法です。ブースティングでは、前の学習器の誤りを次の学習器が修正するように学習が進みます。これにより、弱学習器の連続的な改善が行われ、全体の予測性能が向上します。代表的なブースティングアルゴリズムには、AdaBoostやGradient Boostingなどがあります。\n",
    "\n",
    "  3. **スタッキング（Stacking）**: スタッキングは、異なる種類のモデル（ベースモデル）を組み合わせて予測性能を向上させる方法です。各ベースモデルの予測結果を、新たな学習データとして用いて、メタモデル（次のレベルのモデル）が学習されます。このメタモデルが、最終的な予測を行います。スタッキングは、異なるアルゴリズムやパラメータ設定を持つモデルの予測結果を効果的に組み合わせることで、性能の向上を目指します。"
   ]
  },
  {
   "cell_type": "markdown",
   "id": "e6504cd1",
   "metadata": {
    "id": "-U_NiMLJ_TGX",
    "papermill": {
     "duration": 0.052685,
     "end_time": "2023-11-09T01:34:10.178525",
     "exception": false,
     "start_time": "2023-11-09T01:34:10.125840",
     "status": "completed"
    },
    "tags": []
   },
   "source": [
    "アンサンブル学習のメリットとデメリット\n",
    "- **メリット**\n",
    "\n",
    "  1. **予測性能の向上**：複数のモデルの組み合わせにより、単一のモデルよりも高い予測性能が得られることが多いです。\n",
    "\n",
    "  2. **過学習の抑制**：バギングやブースティングにより、モデルの過学習を抑制し、汎化性能を向上させることができます。\n",
    "\n",
    "  3. **モデルの多様性**：スタッキングでは、異なる種類のモデルやアルゴリズムを組み合わせることで、予測結果に対する多様性を持たせることができます。これにより、モデルが特定の問題に対して偏らず、より一般的な問題に対処できるようになります。\n",
    "\n",
    "\n",
    "- **デメリット**\n",
    "\n",
    "  1. **計算コストの増加**：複数のモデルを学習し、予測結果を組み合わせるため、計算コストが増加します。\n",
    "\n",
    "  2. **モデルの複雑性**：アンサンブルモデルは、個別のモデルよりも複雑になることがあり、解釈性が低下することがあります。"
   ]
  },
  {
   "cell_type": "markdown",
   "id": "176ffa3b",
   "metadata": {
    "id": "gD1wCz1Z_8g9",
    "papermill": {
     "duration": 0.052938,
     "end_time": "2023-11-09T01:34:10.284477",
     "exception": false,
     "start_time": "2023-11-09T01:34:10.231539",
     "status": "completed"
    },
    "tags": []
   },
   "source": [
    "今回は、Kaggleでもよく使用されるブースティング手法であるxgboostを試してみたいと思います！\n",
    "\n",
    "公式ドキュメント：https://xgboost.readthedocs.io/en/stable/"
   ]
  },
  {
   "cell_type": "code",
   "execution_count": 56,
   "id": "0a7dba77",
   "metadata": {
    "execution": {
     "iopub.execute_input": "2023-11-09T01:34:10.393100Z",
     "iopub.status.busy": "2023-11-09T01:34:10.392321Z",
     "iopub.status.idle": "2023-11-09T01:34:11.723220Z",
     "shell.execute_reply": "2023-11-09T01:34:11.722274Z"
    },
    "id": "wnwHVDcy7MR_",
    "outputId": "d60c2f36-58ec-48a1-ed3f-ba0aef80c0f1",
    "papermill": {
     "duration": 1.388745,
     "end_time": "2023-11-09T01:34:11.726054",
     "exception": false,
     "start_time": "2023-11-09T01:34:10.337309",
     "status": "completed"
    },
    "tags": []
   },
   "outputs": [
    {
     "name": "stdout",
     "output_type": "stream",
     "text": [
      "MAE_線形回帰 0.49152645279254525\n",
      "MAE_xgboost 0.44581841527249355\n",
      "--------------------------------------------------\n",
      "MSE_線形回帰 0.4532976691185877\n",
      "MSE_xgboost 0.37652226452619836\n",
      "--------------------------------------------------\n",
      "RMSE_線形回帰 0.6732738440772726\n",
      "RMSE_xgboost 0.6136141006578959\n",
      "--------------------------------------------------\n",
      "決定係数_線形回帰 0.6557952662271955\n",
      "決定係数_xgboost 0.714093509298702\n"
     ]
    }
   ],
   "source": [
    "# xgboostのimport\n",
    "from xgboost import XGBRFRegressor\n",
    "\n",
    "# xgboostのインスタンス化\n",
    "XGBoost = XGBRFRegressor()\n",
    "\n",
    "# 学習の実行\n",
    "model = XGBoost.fit(X_train, y_train)\n",
    "\n",
    "# モデルの予測 学習済みモデルを使用して、新しいデータに対して予測を行うために、predict関数を利用できます。\n",
    "pred_xg = model.predict(X_test)\n",
    "\n",
    "# 数値の丸め込み処理 0以下を0に5.00001以上を5.00001に変換する\n",
    "pred_xg_rounding = np.where(pred_xg <= 0, 0, pred_xg)\n",
    "pred_xg_rounding = np.where(pred_xg_rounding >= 5.00001, 5.00001, pred_xg_rounding)\n",
    "\n",
    "\n",
    "# MAE\n",
    "print('MAE_線形回帰',mean_absolute_error(y_test, pred_rounding))\n",
    "print('MAE_xgboost',mean_absolute_error(y_test, pred_xg_rounding))\n",
    "print('-' * 50)\n",
    "\n",
    "# MSE\n",
    "print('MSE_線形回帰',mean_squared_error(y_test, pred_rounding))\n",
    "print('MSE_xgboost',mean_squared_error(y_test, pred_xg_rounding))\n",
    "print('-' * 50)\n",
    "\n",
    "# RMSE RMSEはMSEに√を付けたものになるのでnp.sqrt()でMSEを囲んで算出する\n",
    "print('RMSE_線形回帰',np.sqrt(mean_squared_error(y_test, pred_rounding)))\n",
    "print('RMSE_xgboost',np.sqrt(mean_squared_error(y_test, pred_xg_rounding)))\n",
    "print('-' * 50)\n",
    "\n",
    "# 決定係数\n",
    "print('決定係数_線形回帰',r2_score(y_test, pred_rounding))\n",
    "print('決定係数_xgboost',r2_score(y_test, pred_xg_rounding))"
   ]
  },
  {
   "cell_type": "markdown",
   "id": "2878590f",
   "metadata": {
    "id": "xzm06AWmCjYS",
    "papermill": {
     "duration": 0.053453,
     "end_time": "2023-11-09T01:34:11.834163",
     "exception": false,
     "start_time": "2023-11-09T01:34:11.780710",
     "status": "completed"
    },
    "tags": []
   },
   "source": [
    "xgboostを使うことで予測精度が向上していることが確認できました。  \n",
    "xgboostなどの勾配ブースティング決定木アルゴリズムは他のアルゴリズムと比較して予測精度が高い傾向があり、データに欠損値が存在する場合でも予測を行うことができるのでkaggleなどのデータ分析コンペではよく利用されています。実際のコンペでの実装例はkaggleのnotebookなどで確認することができるのでより深く知りたい場合は参考にしてみてください！"
   ]
  },
  {
   "cell_type": "markdown",
   "id": "59ffcd74",
   "metadata": {
    "papermill": {
     "duration": 0.053232,
     "end_time": "2023-11-09T01:34:11.941367",
     "exception": false,
     "start_time": "2023-11-09T01:34:11.888135",
     "status": "completed"
    },
    "tags": []
   },
   "source": [
    "## 提出用notebookの作成(コンペ用)"
   ]
  },
  {
   "cell_type": "code",
   "execution_count": 57,
   "id": "70ab0f9e",
   "metadata": {
    "execution": {
     "iopub.execute_input": "2023-11-09T01:34:12.049908Z",
     "iopub.status.busy": "2023-11-09T01:34:12.049499Z",
     "iopub.status.idle": "2023-11-09T01:34:12.055175Z",
     "shell.execute_reply": "2023-11-09T01:34:12.054001Z"
    },
    "papermill": {
     "duration": 0.062814,
     "end_time": "2023-11-09T01:34:12.057494",
     "exception": false,
     "start_time": "2023-11-09T01:34:11.994680",
     "status": "completed"
    },
    "tags": []
   },
   "outputs": [],
   "source": [
    "# ハイパーパラメータ(この値を調整して精度がどのようになるか見てみよう！)\n",
    "\n",
    "max_depth = 6           #決定木の深さの最大値(大きいほど過学習寄り)\n",
    "subsample = 0.7         #各決定木においてランダムに抽出される標本の割合(大きいほど過学習寄り)   \n",
    "min_child_weight = 0.5  #決定木の葉の重みの下限(小さいほど過学習寄り)\n",
    "colsample_bytree = 0.9  #各決定木においてランダムに抽出される列の割合\n",
    "learning_rate = 0.2     #過学習防止のための学習率パラメータ(大きいほど過学習寄り)"
   ]
  },
  {
   "cell_type": "code",
   "execution_count": 58,
   "id": "62a007ed",
   "metadata": {
    "execution": {
     "iopub.execute_input": "2023-11-09T01:34:12.166325Z",
     "iopub.status.busy": "2023-11-09T01:34:12.165871Z",
     "iopub.status.idle": "2023-11-09T01:34:13.179849Z",
     "shell.execute_reply": "2023-11-09T01:34:13.178906Z"
    },
    "papermill": {
     "duration": 1.072018,
     "end_time": "2023-11-09T01:34:13.182725",
     "exception": false,
     "start_time": "2023-11-09T01:34:12.110707",
     "status": "completed"
    },
    "tags": []
   },
   "outputs": [],
   "source": [
    "# xgboostのimport\n",
    "from xgboost import XGBRFRegressor\n",
    "\n",
    "# xgboostのインスタンス化\n",
    "XGBoost = XGBRFRegressor(\n",
    "    max_depth=max_depth,\n",
    "    subsample=subsample,\n",
    "    min_child_weight=min_child_weight,\n",
    "    colsample_bytree=colsample_bytree,\n",
    "    learning_rate=learning_rate\n",
    ")\n",
    "\n",
    "# 学習の実行\n",
    "model = XGBoost.fit(X_train, y_train)\n",
    "\n",
    "# モデルの予測 学習済みモデルを使用して、新しいデータに対して予測を行うために、predict関数を利用できます。\n",
    "pred_xg = model.predict(X_test)\n",
    "\n",
    "# 数値の丸め込み処理 0以下を0に5.00001以上を5.00001に変換する\n",
    "pred_xg_rounding = np.where(pred_xg <= 0, 0, pred_xg)\n",
    "pred_xg_rounding = np.where(pred_xg_rounding >= 5.00001, 5.00001, pred_xg_rounding)"
   ]
  },
  {
   "cell_type": "code",
   "execution_count": 59,
   "id": "5bcbc10e",
   "metadata": {
    "execution": {
     "iopub.execute_input": "2023-11-09T01:34:13.293252Z",
     "iopub.status.busy": "2023-11-09T01:34:13.292852Z",
     "iopub.status.idle": "2023-11-09T01:34:13.309773Z",
     "shell.execute_reply": "2023-11-09T01:34:13.308671Z"
    },
    "papermill": {
     "duration": 0.074552,
     "end_time": "2023-11-09T01:34:13.312540",
     "exception": false,
     "start_time": "2023-11-09T01:34:13.237988",
     "status": "completed"
    },
    "tags": []
   },
   "outputs": [],
   "source": [
    "# id列の削除\n",
    "test_X = test.drop(['id'],axis=1)\n",
    "\n",
    "# モデルの予測 学習済みモデルを使用して、新しいデータに対して予測を行うために、predict関数を利用できます。\n",
    "pred_xg = model.predict(test_X)\n",
    "\n",
    "# 数値の丸め込み処理 0以下を0に5.00001以上を5.00001に変換する\n",
    "pred_xg_rounding = np.where(pred_xg <= 0, 0, pred_xg)\n",
    "pred_xg_rounding = np.where(pred_xg_rounding >= 5.00001, 5.00001, pred_xg_rounding)"
   ]
  },
  {
   "cell_type": "code",
   "execution_count": 60,
   "id": "aae8ae81",
   "metadata": {
    "execution": {
     "iopub.execute_input": "2023-11-09T01:34:13.422412Z",
     "iopub.status.busy": "2023-11-09T01:34:13.421983Z",
     "iopub.status.idle": "2023-11-09T01:34:13.435429Z",
     "shell.execute_reply": "2023-11-09T01:34:13.434327Z"
    },
    "papermill": {
     "duration": 0.070289,
     "end_time": "2023-11-09T01:34:13.437938",
     "exception": false,
     "start_time": "2023-11-09T01:34:13.367649",
     "status": "completed"
    },
    "tags": []
   },
   "outputs": [
    {
     "data": {
      "text/html": [
       "<div>\n",
       "<style scoped>\n",
       "    .dataframe tbody tr th:only-of-type {\n",
       "        vertical-align: middle;\n",
       "    }\n",
       "\n",
       "    .dataframe tbody tr th {\n",
       "        vertical-align: top;\n",
       "    }\n",
       "\n",
       "    .dataframe thead th {\n",
       "        text-align: right;\n",
       "    }\n",
       "</style>\n",
       "<table border=\"1\" class=\"dataframe\">\n",
       "  <thead>\n",
       "    <tr style=\"text-align: right;\">\n",
       "      <th></th>\n",
       "      <th>id</th>\n",
       "      <th>Price</th>\n",
       "    </tr>\n",
       "  </thead>\n",
       "  <tbody>\n",
       "    <tr>\n",
       "      <th>0</th>\n",
       "      <td>0</td>\n",
       "      <td>0.993988</td>\n",
       "    </tr>\n",
       "    <tr>\n",
       "      <th>1</th>\n",
       "      <td>1</td>\n",
       "      <td>0.772024</td>\n",
       "    </tr>\n",
       "    <tr>\n",
       "      <th>2</th>\n",
       "      <td>2</td>\n",
       "      <td>0.665041</td>\n",
       "    </tr>\n",
       "    <tr>\n",
       "      <th>3</th>\n",
       "      <td>3</td>\n",
       "      <td>1.042682</td>\n",
       "    </tr>\n",
       "    <tr>\n",
       "      <th>4</th>\n",
       "      <td>4</td>\n",
       "      <td>1.154701</td>\n",
       "    </tr>\n",
       "    <tr>\n",
       "      <th>...</th>\n",
       "      <td>...</td>\n",
       "      <td>...</td>\n",
       "    </tr>\n",
       "    <tr>\n",
       "      <th>4123</th>\n",
       "      <td>4123</td>\n",
       "      <td>0.846892</td>\n",
       "    </tr>\n",
       "    <tr>\n",
       "      <th>4124</th>\n",
       "      <td>4124</td>\n",
       "      <td>0.581993</td>\n",
       "    </tr>\n",
       "    <tr>\n",
       "      <th>4125</th>\n",
       "      <td>4125</td>\n",
       "      <td>0.701261</td>\n",
       "    </tr>\n",
       "    <tr>\n",
       "      <th>4126</th>\n",
       "      <td>4126</td>\n",
       "      <td>0.639316</td>\n",
       "    </tr>\n",
       "    <tr>\n",
       "      <th>4127</th>\n",
       "      <td>4127</td>\n",
       "      <td>0.792873</td>\n",
       "    </tr>\n",
       "  </tbody>\n",
       "</table>\n",
       "<p>4128 rows × 2 columns</p>\n",
       "</div>"
      ],
      "text/plain": [
       "        id     Price\n",
       "0        0  0.993988\n",
       "1        1  0.772024\n",
       "2        2  0.665041\n",
       "3        3  1.042682\n",
       "4        4  1.154701\n",
       "...    ...       ...\n",
       "4123  4123  0.846892\n",
       "4124  4124  0.581993\n",
       "4125  4125  0.701261\n",
       "4126  4126  0.639316\n",
       "4127  4127  0.792873\n",
       "\n",
       "[4128 rows x 2 columns]"
      ]
     },
     "execution_count": 60,
     "metadata": {},
     "output_type": "execute_result"
    }
   ],
   "source": [
    "# sampleに予測値の代入と提出ファイルの作成\n",
    "sample['Price'] = pred_xg_rounding\n",
    "sample"
   ]
  },
  {
   "cell_type": "code",
   "execution_count": 61,
   "id": "184e7c98",
   "metadata": {
    "execution": {
     "iopub.execute_input": "2023-11-09T01:34:13.548046Z",
     "iopub.status.busy": "2023-11-09T01:34:13.547077Z",
     "iopub.status.idle": "2023-11-09T01:34:13.569048Z",
     "shell.execute_reply": "2023-11-09T01:34:13.568030Z"
    },
    "papermill": {
     "duration": 0.080097,
     "end_time": "2023-11-09T01:34:13.571797",
     "exception": false,
     "start_time": "2023-11-09T01:34:13.491700",
     "status": "completed"
    },
    "tags": []
   },
   "outputs": [],
   "source": [
    "sample.to_csv('submit.csv',index=None)"
   ]
  }
 ],
 "metadata": {
  "kaggle": {
   "accelerator": "none",
   "dataSources": [
    {
     "databundleVersionId": 6675402,
     "sourceId": 61707,
     "sourceType": "competition"
    }
   ],
   "dockerImageVersionId": 30558,
   "isGpuEnabled": false,
   "isInternetEnabled": true,
   "language": "python",
   "sourceType": "notebook"
  },
  "kernelspec": {
   "display_name": "Python 3",
   "language": "python",
   "name": "python3"
  },
  "language_info": {
   "codemirror_mode": {
    "name": "ipython",
    "version": 3
   },
   "file_extension": ".py",
   "mimetype": "text/x-python",
   "name": "python",
   "nbconvert_exporter": "python",
   "pygments_lexer": "ipython3",
   "version": "3.10.12"
  },
  "papermill": {
   "default_parameters": {},
   "duration": 34.319269,
   "end_time": "2023-11-09T01:34:14.547145",
   "environment_variables": {},
   "exception": null,
   "input_path": "__notebook__.ipynb",
   "output_path": "__notebook__.ipynb",
   "parameters": {},
   "start_time": "2023-11-09T01:33:40.227876",
   "version": "2.4.0"
  }
 },
 "nbformat": 4,
 "nbformat_minor": 5
}
